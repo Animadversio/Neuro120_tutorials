{
 "cells": [
  {
   "cell_type": "markdown",
   "metadata": {
    "colab_type": "text",
    "id": "kXPSBen1ykrD",
    "slideshow": {
     "slide_type": "slide"
    }
   },
   "source": [
    "# Loops, Containers, and Modules\n",
    "\n",
    "Timothy E. Holy <br>\n",
    "Ed Han <br>\n",
    "Lex Kravitz"
   ]
  },
  {
   "cell_type": "markdown",
   "metadata": {
    "slideshow": {
     "slide_type": "slide"
    }
   },
   "source": [
    "# Objective: Your Python First-Aid Kit\n",
    "\n",
    "To expand your understanding of Python syntax so that you can understand what you might read in documentation, see on stackoverflow, etc. Specifically, we'll introduce you to:\n",
    "\n",
    " - lists\n",
    " - ranges\n",
    " - `for` loops\n",
    " - list comprehensions\n",
    " - list indexing & list methods\n",
    " - modules (`import`)\n",
    " - working with arrays (basic `numpy`)\n",
    " - plotting (basic `matplotlib`)\n",
    "\n",
    "You'll gradually master these topics through the homeworks this week and in following weeks."
   ]
  },
  {
   "cell_type": "markdown",
   "metadata": {
    "colab_type": "text",
    "id": "SDn9CQyuykrF",
    "slideshow": {
     "slide_type": "slide"
    }
   },
   "source": [
    "# Storing items in a list\n",
    "\n",
    "The types you've used so far are *scalars*: integers, floating point numbers, and strings\n",
    "\n",
    "An essential tool for data analysis to create and manipulate *containers*, objects that can store many other objects."
   ]
  },
  {
   "cell_type": "code",
   "execution_count": null,
   "metadata": {
    "colab": {},
    "colab_type": "code",
    "id": "hZwoYaNXykrF",
    "slideshow": {
     "slide_type": "fragment"
    }
   },
   "outputs": [],
   "source": [
    "# Instead of storing temperatures like this:\n",
    "temp1 = 37\n",
    "temp2 = 38.2"
   ]
  },
  {
   "cell_type": "code",
   "execution_count": null,
   "metadata": {
    "colab": {},
    "colab_type": "code",
    "id": "N47gV1QZykrI",
    "slideshow": {
     "slide_type": "fragment"
    }
   },
   "outputs": [],
   "source": [
    "# do it like this:\n",
    "temperatures = [37, 38.2]     # [items...] creates a list\n",
    "print(temperatures)"
   ]
  },
  {
   "cell_type": "code",
   "execution_count": null,
   "metadata": {
    "colab": {},
    "colab_type": "code",
    "id": "ZYKbA-FWykrL",
    "outputId": "3e08c4bc-844e-4d68-bf24-0407a8520e26",
    "slideshow": {
     "slide_type": "fragment"
    }
   },
   "outputs": [],
   "source": [
    "temperatures[1]   # 1 is an index, refering to a specific element in temperatures"
   ]
  },
  {
   "cell_type": "code",
   "execution_count": null,
   "metadata": {
    "colab": {},
    "colab_type": "code",
    "id": "hXxRRteEykrO",
    "outputId": "5b4398a0-6c1a-47e6-f2bd-fb588375526a",
    "slideshow": {
     "slide_type": "fragment"
    }
   },
   "outputs": [],
   "source": [
    "temperatures[0]   # in python, the first element is indexed by 0 (discuss)"
   ]
  },
  {
   "cell_type": "markdown",
   "metadata": {
    "colab_type": "text",
    "id": "JUxPo2DRykrQ",
    "slideshow": {
     "slide_type": "slide"
    }
   },
   "source": [
    "# List creation"
   ]
  },
  {
   "cell_type": "code",
   "execution_count": null,
   "metadata": {
    "colab": {},
    "colab_type": "code",
    "id": "V_FOX_zIykrR",
    "outputId": "b676757a-6447-41d6-9113-0f48a25e3d37"
   },
   "outputs": [],
   "source": [
    "list1 = [\"Hello\", 6, 3.2]       # lists can hold diverse object types\n",
    "print(type(list1[0]))\n",
    "print(type(list1[1]))\n",
    "print(type(list1[2]))"
   ]
  },
  {
   "cell_type": "markdown",
   "metadata": {
    "slideshow": {
     "slide_type": "fragment"
    }
   },
   "source": [
    "A special kind of list (more technically, an *iterable*) is `range`:"
   ]
  },
  {
   "cell_type": "code",
   "execution_count": null,
   "metadata": {},
   "outputs": [],
   "source": [
    "list2 = range(3)        # 3 is the length of the list; note 3 is not included!\n",
    "print(list2[0])\n",
    "print(list2[1])\n",
    "print(list2[2])"
   ]
  },
  {
   "cell_type": "code",
   "execution_count": null,
   "metadata": {
    "slideshow": {
     "slide_type": "fragment"
    }
   },
   "outputs": [],
   "source": [
    "list(range(10, 15))   # range(start, stop)  list(iter) turns iter into a list (see homework)"
   ]
  },
  {
   "cell_type": "markdown",
   "metadata": {
    "slideshow": {
     "slide_type": "slide"
    }
   },
   "source": [
    "# The `for` loop\n",
    "\n",
    "Your edX class introduced `while` loops. There's a second kind of loop, called a `for` loop:"
   ]
  },
  {
   "cell_type": "code",
   "execution_count": null,
   "metadata": {},
   "outputs": [],
   "source": [
    "for i in range(5):\n",
    "    print(i)"
   ]
  },
  {
   "cell_type": "code",
   "execution_count": null,
   "metadata": {
    "slideshow": {
     "slide_type": "subslide"
    }
   },
   "outputs": [],
   "source": [
    "organisms = [\"worm\", \"fly\", \"fish\", \"mouse\", \"monkey\", \"human\"]\n",
    "for org in organisms:\n",
    "    print(org)"
   ]
  },
  {
   "cell_type": "code",
   "execution_count": null,
   "metadata": {
    "slideshow": {
     "slide_type": "skip"
    }
   },
   "outputs": [],
   "source": [
    "for i, org in enumerate(organisms):\n",
    "    print(i, org)"
   ]
  },
  {
   "cell_type": "markdown",
   "metadata": {
    "slideshow": {
     "slide_type": "slide"
    }
   },
   "source": [
    "# More list creation: comprehensions"
   ]
  },
  {
   "cell_type": "markdown",
   "metadata": {
    "colab_type": "text",
    "id": "HL0qoUh-ykrU",
    "slideshow": {
     "slide_type": "-"
    }
   },
   "source": [
    "A useful syntax is the *comprehension*: `[value(i) for i in iter]`. It combines lists and `for` loops into a single brief construct."
   ]
  },
  {
   "cell_type": "code",
   "execution_count": null,
   "metadata": {
    "colab": {},
    "colab_type": "code",
    "id": "jy8Et2E6ykrV",
    "outputId": "9e4fc712-8aad-4eee-84ba-6845ee8eb54c",
    "slideshow": {
     "slide_type": "fragment"
    }
   },
   "outputs": [],
   "source": [
    "[i**3 for i in range(3, 11)]  # i-cubed for each i in the range"
   ]
  },
  {
   "cell_type": "markdown",
   "metadata": {
    "colab_type": "text",
    "id": "Cp9k-EeAykrX",
    "slideshow": {
     "slide_type": "slide"
    }
   },
   "source": [
    "# List manipulation"
   ]
  },
  {
   "cell_type": "code",
   "execution_count": null,
   "metadata": {},
   "outputs": [],
   "source": [
    "list1."
   ]
  },
  {
   "cell_type": "code",
   "execution_count": null,
   "metadata": {
    "colab": {},
    "colab_type": "code",
    "id": "ms3_J1mUykrX",
    "outputId": "cf3075d6-d5fe-485e-a9db-21f8c54b046e",
    "slideshow": {
     "slide_type": "fragment"
    }
   },
   "outputs": [],
   "source": [
    "list1.reverse()\n",
    "list1"
   ]
  },
  {
   "cell_type": "code",
   "execution_count": null,
   "metadata": {
    "colab": {},
    "colab_type": "code",
    "id": "sDtmVkZLykra",
    "slideshow": {
     "slide_type": "subslide"
    }
   },
   "outputs": [],
   "source": [
    "list3 = []\n",
    "list3.append(\"Hello\")\n",
    "list3"
   ]
  },
  {
   "cell_type": "code",
   "execution_count": null,
   "metadata": {
    "colab": {},
    "colab_type": "code",
    "id": "cLuaJEI9ykrc",
    "outputId": "e0678bd0-79eb-4707-92bd-c7456908eeb6",
    "slideshow": {
     "slide_type": "fragment"
    }
   },
   "outputs": [],
   "source": [
    "list3.append(6)\n",
    "list3"
   ]
  },
  {
   "cell_type": "markdown",
   "metadata": {
    "colab_type": "text",
    "id": "dp3-MM3Rykrf",
    "slideshow": {
     "slide_type": "slide"
    }
   },
   "source": [
    "# More on list indexing\n",
    "\n",
    "You can do more than just get items one at a time."
   ]
  },
  {
   "cell_type": "code",
   "execution_count": null,
   "metadata": {},
   "outputs": [],
   "source": [
    "organisms"
   ]
  },
  {
   "cell_type": "code",
   "execution_count": null,
   "metadata": {
    "colab": {},
    "colab_type": "code",
    "id": "BQTbYIjPykrf",
    "outputId": "7ce61333-d346-48fc-d24b-ff83d650d75c"
   },
   "outputs": [],
   "source": [
    "organisms[2:5]"
   ]
  },
  {
   "cell_type": "code",
   "execution_count": null,
   "metadata": {
    "colab": {},
    "colab_type": "code",
    "id": "7n2jKoaZykrh",
    "outputId": "a271ff58-f6ee-43ac-96c9-958b387cec85",
    "slideshow": {
     "slide_type": "fragment"
    }
   },
   "outputs": [],
   "source": [
    "organisms[-1]    # last item in list"
   ]
  },
  {
   "cell_type": "code",
   "execution_count": null,
   "metadata": {
    "colab": {},
    "colab_type": "code",
    "id": "E9T8mD2xykrk",
    "outputId": "bb463061-5181-4b6d-9c70-2aa1901b98e6",
    "slideshow": {
     "slide_type": "fragment"
    }
   },
   "outputs": [],
   "source": [
    "organisms[-5:] # last 5 items in list"
   ]
  },
  {
   "cell_type": "markdown",
   "metadata": {
    "colab_type": "text",
    "id": "9TUZoSD9ykrm",
    "slideshow": {
     "slide_type": "slide"
    }
   },
   "source": [
    "# Modules (\"Namespaces\")\n",
    "\n",
    "While Python itself has a lot of useful stuff, its real power comes from the fact that there are ~200,000 open-source packages written in Python. A list can be found here: https://pypi.org/. In this course we'll mostly direct you to particular packages.\n"
   ]
  },
  {
   "cell_type": "markdown",
   "metadata": {
    "colab_type": "text",
    "id": "fk4DSvhYykrn",
    "slideshow": {
     "slide_type": "fragment"
    }
   },
   "source": [
    "A potential problem with using other people's code is *name conflicts*: what if two useful packages both create a function called `center`, but the two functions do very different things?"
   ]
  },
  {
   "cell_type": "markdown",
   "metadata": {
    "colab_type": "text",
    "id": "3u5F7js5ykrn",
    "slideshow": {
     "slide_type": "fragment"
    }
   },
   "source": [
    "A solution to that problem is to organize code in *modules*, where names inside the module are private."
   ]
  },
  {
   "cell_type": "markdown",
   "metadata": {
    "colab_type": "text",
    "id": "bR6XvQiKykro",
    "slideshow": {
     "slide_type": "slide"
    }
   },
   "source": [
    "# An example module: `math`"
   ]
  },
  {
   "cell_type": "code",
   "execution_count": null,
   "metadata": {
    "colab": {},
    "colab_type": "code",
    "id": "DTr1XSfQykro",
    "outputId": "d0120594-e3bb-4547-ec67-f0193d370762"
   },
   "outputs": [],
   "source": [
    "help(math)        # Want to use https://docs.python.org/3/library/math.html"
   ]
  },
  {
   "cell_type": "code",
   "execution_count": null,
   "metadata": {
    "colab": {},
    "colab_type": "code",
    "id": "eeY-P3-pykrr",
    "outputId": "010ba235-9b9a-4c52-cfd1-f653b8217c05",
    "slideshow": {
     "slide_type": "fragment"
    }
   },
   "outputs": [],
   "source": [
    "import math   # this \"loads\" the `math` module, making it accessible to you\n",
    "help(math)"
   ]
  },
  {
   "cell_type": "markdown",
   "metadata": {
    "colab_type": "text",
    "id": "mjURe43qykrt",
    "slideshow": {
     "slide_type": "slide"
    }
   },
   "source": [
    "# Using the `math` module "
   ]
  },
  {
   "cell_type": "code",
   "execution_count": null,
   "metadata": {
    "colab": {},
    "colab_type": "code",
    "id": "MQ8VSzPhykrt",
    "outputId": "20491c73-004c-4991-f9f8-688045482a1d"
   },
   "outputs": [],
   "source": [
    "pi"
   ]
  },
  {
   "cell_type": "code",
   "execution_count": null,
   "metadata": {
    "colab": {},
    "colab_type": "code",
    "id": "xfqp526pykrv",
    "outputId": "25b659da-910e-4b11-cf6d-f30acd1cfe73",
    "slideshow": {
     "slide_type": "fragment"
    }
   },
   "outputs": [],
   "source": [
    "math.pi     # remember, tab-completion is your friend!"
   ]
  },
  {
   "cell_type": "code",
   "execution_count": null,
   "metadata": {
    "colab": {},
    "colab_type": "code",
    "id": "rT44Q1Ozykrx",
    "outputId": "5e6b107a-3470-4dfd-8248-fd2365ca70a0",
    "slideshow": {
     "slide_type": "fragment"
    }
   },
   "outputs": [],
   "source": [
    "from math import pi\n",
    "pi"
   ]
  },
  {
   "cell_type": "markdown",
   "metadata": {
    "colab_type": "text",
    "id": "ITDaVjawykr3",
    "slideshow": {
     "slide_type": "fragment"
    }
   },
   "source": [
    "This puts *you* in charge of which names are available to you and your code---you can use `module1.center` and `module2.center` as separate functions."
   ]
  },
  {
   "cell_type": "markdown",
   "metadata": {
    "slideshow": {
     "slide_type": "slide"
    }
   },
   "source": [
    "# Importing your own code\n",
    "\n",
    "Add your code directory to the `PYTHONPATH` in Spyder. Then `from myfile.py import *`."
   ]
  },
  {
   "cell_type": "markdown",
   "metadata": {
    "colab_type": "text",
    "id": "SqLwPQpVykr3",
    "slideshow": {
     "slide_type": "slide"
    }
   },
   "source": [
    "# Numpy\n",
    "\n",
    "`Numpy` is a widely-used module for handling *arrays*. Python's built-in `list` is essentially a 1-dimensional array; with `Numpy` you can represent two dimensional or higher-dimensional arrays (think matrices, images, etc.)\n",
    "\n",
    "There are many tutorials on `Numpy`; one popular one is https://www.tutorialspoint.com/numpy. The official reference is https://docs.scipy.org/doc/numpy/reference/arrays.indexing.html. You should go skim these or other references to see all that's available, and refer to them as needed to solve the homework problems."
   ]
  },
  {
   "cell_type": "code",
   "execution_count": null,
   "metadata": {
    "colab": {},
    "colab_type": "code",
    "id": "Q4Q0Iz0Hykr4",
    "outputId": "7aca15ea-8ac2-4744-cca7-706129e78629"
   },
   "outputs": [],
   "source": [
    "import numpy as np   # another import trick: introduce a \"short name\"\n",
    "alist = [1,2,3]\n",
    "anp = np.array([1,2,3])\n",
    "anp"
   ]
  },
  {
   "cell_type": "code",
   "execution_count": null,
   "metadata": {
    "colab": {},
    "colab_type": "code",
    "id": "WG7gA5rJykr6",
    "outputId": "caa1939e-9241-4dca-c767-2289792aba6b",
    "slideshow": {
     "slide_type": "fragment"
    }
   },
   "outputs": [],
   "source": [
    "np.array([1,2,3], dtype='complex')     # dtype = \"datatype\". This is a keyword-argument function call (see the homework)"
   ]
  },
  {
   "cell_type": "markdown",
   "metadata": {
    "colab_type": "text",
    "id": "a86h0JRtA_Ws",
    "slideshow": {
     "slide_type": "slide"
    }
   },
   "source": [
    "# Playing with larger amounts of data"
   ]
  },
  {
   "cell_type": "code",
   "execution_count": null,
   "metadata": {
    "colab": {
     "base_uri": "https://localhost:8080/",
     "height": 85
    },
    "colab_type": "code",
    "executionInfo": {
     "elapsed": 478,
     "status": "ok",
     "timestamp": 1578954406722,
     "user": {
      "displayName": "Lex Kravitz",
      "photoUrl": "https://lh3.googleusercontent.com/a-/AAuE7mC4Ycq1_xHIeI0DSlUgI1vvSsBaLxEBxjKGRtYsGg=s64",
      "userId": "15675596722689094589"
     },
     "user_tz": 360
    },
    "id": "_alCr6Y9ziKO",
    "outputId": "a1d82bed-7760-4c09-a6f0-14fbce7d9be0"
   },
   "outputs": [],
   "source": [
    "# We can generate random numbers with the np.random function\n",
    "myRandomNumbers = np.random.random(size=1000)  #why do we type random.random?  what happens if we just try np.random(size=1000)?\n",
    "\n",
    "#let's look at what we generated\n",
    "print (type(myRandomNumbers)) #what does type tell us?\n",
    "print (myRandomNumbers.shape) # what does (1000,) mean?\n",
    "\n",
    "#review: How can we get the last 10 values of myRandomNumbers?\n",
    "print(myRandomNumbers[-10:])"
   ]
  },
  {
   "cell_type": "code",
   "execution_count": null,
   "metadata": {
    "colab": {
     "base_uri": "https://localhost:8080/",
     "height": 68
    },
    "colab_type": "code",
    "executionInfo": {
     "elapsed": 1169,
     "status": "ok",
     "timestamp": 1578953798399,
     "user": {
      "displayName": "Lex Kravitz",
      "photoUrl": "https://lh3.googleusercontent.com/a-/AAuE7mC4Ycq1_xHIeI0DSlUgI1vvSsBaLxEBxjKGRtYsGg=s64",
      "userId": "15675596722689094589"
     },
     "user_tz": 360
    },
    "id": "ehk33Wuv5doG",
    "outputId": "804376f3-b122-4fa5-8811-f84b754e09ae",
    "slideshow": {
     "slide_type": "slide"
    }
   },
   "outputs": [],
   "source": [
    "# We made a mistake, we need these numbers to be between 0 and 100.  Update the code to do this!\n",
    "myRandomIntegers = np.random.randint(low=1, high=100, size=1000)\n",
    "\n",
    "#let's look at what we generated\n",
    "print (type(myRandomIntegers)) #what does type tell us?\n",
    "print (myRandomIntegers.shape) # what does (1000,) mean?\n",
    "\n",
    "#review: How can we get the first 10 values of myRandomIntegers?\n",
    "print(myRandomIntegers[:10])  #Why don't we put a '9' here?  We zero-index, right?"
   ]
  },
  {
   "cell_type": "markdown",
   "metadata": {
    "colab_type": "text",
    "id": "hGxLWEKK7ksS",
    "slideshow": {
     "slide_type": "slide"
    }
   },
   "source": [
    "# Basic plotting\n",
    "\n",
    "Python has some basic plotting functions, but you'll want to use more advanced packages like `Matplotlib`.  You can see why at: https://matplotlib.org/"
   ]
  },
  {
   "cell_type": "code",
   "execution_count": null,
   "metadata": {
    "colab": {
     "base_uri": "https://localhost:8080/",
     "height": 282
    },
    "colab_type": "code",
    "executionInfo": {
     "elapsed": 1368,
     "status": "ok",
     "timestamp": 1578953801803,
     "user": {
      "displayName": "Lex Kravitz",
      "photoUrl": "https://lh3.googleusercontent.com/a-/AAuE7mC4Ycq1_xHIeI0DSlUgI1vvSsBaLxEBxjKGRtYsGg=s64",
      "userId": "15675596722689094589"
     },
     "user_tz": 360
    },
    "id": "9JMQBo5e4xPb",
    "outputId": "353ab427-9eef-4d62-f0eb-ab4972744931"
   },
   "outputs": [],
   "source": [
    "# Plot myRandomNumbers as a line plot - what does this tell us?\n",
    "import matplotlib.pyplot as plt  # what does the \"as plt\" mean?\n",
    "plt.plot (myRandomIntegers)"
   ]
  },
  {
   "cell_type": "code",
   "execution_count": null,
   "metadata": {
    "colab": {
     "base_uri": "https://localhost:8080/",
     "height": 282
    },
    "colab_type": "code",
    "executionInfo": {
     "elapsed": 566,
     "status": "ok",
     "timestamp": 1578953823594,
     "user": {
      "displayName": "Lex Kravitz",
      "photoUrl": "https://lh3.googleusercontent.com/a-/AAuE7mC4Ycq1_xHIeI0DSlUgI1vvSsBaLxEBxjKGRtYsGg=s64",
      "userId": "15675596722689094589"
     },
     "user_tz": 360
    },
    "id": "6aqLwFkV5hfE",
    "outputId": "a1179bb3-9088-4746-89e4-5a04de3c3b73",
    "slideshow": {
     "slide_type": "subslide"
    }
   },
   "outputs": [],
   "source": [
    "#if we sort the numbers is it more informative?\n",
    "myRandomIntegers = list(myRandomIntegers)\n",
    "myRandomIntegers.sort()\n",
    "plt.plot(myRandomIntegers)"
   ]
  },
  {
   "cell_type": "code",
   "execution_count": null,
   "metadata": {
    "colab": {
     "base_uri": "https://localhost:8080/",
     "height": 350
    },
    "colab_type": "code",
    "executionInfo": {
     "elapsed": 494,
     "status": "ok",
     "timestamp": 1578953827512,
     "user": {
      "displayName": "Lex Kravitz",
      "photoUrl": "https://lh3.googleusercontent.com/a-/AAuE7mC4Ycq1_xHIeI0DSlUgI1vvSsBaLxEBxjKGRtYsGg=s64",
      "userId": "15675596722689094589"
     },
     "user_tz": 360
    },
    "id": "THNWPppo74wf",
    "outputId": "7a8ca360-56fc-4bd7-faad-d5a5cbd0fccc",
    "slideshow": {
     "slide_type": "subslide"
    }
   },
   "outputs": [],
   "source": [
    "#Would a histogram be more informative?\n",
    "plt.hist(myRandomNumbers) #What is a histogram?"
   ]
  },
  {
   "cell_type": "code",
   "execution_count": null,
   "metadata": {
    "colab": {
     "base_uri": "https://localhost:8080/",
     "height": 308
    },
    "colab_type": "code",
    "executionInfo": {
     "elapsed": 739,
     "status": "ok",
     "timestamp": 1578953926716,
     "user": {
      "displayName": "Lex Kravitz",
      "photoUrl": "https://lh3.googleusercontent.com/a-/AAuE7mC4Ycq1_xHIeI0DSlUgI1vvSsBaLxEBxjKGRtYsGg=s64",
      "userId": "15675596722689094589"
     },
     "user_tz": 360
    },
    "id": "M6RmGiCb8D53",
    "outputId": "f05c7dc9-ffd9-4569-b0f3-c259806f0f9a",
    "slideshow": {
     "slide_type": "subslide"
    }
   },
   "outputs": [],
   "source": [
    "#This plot is great!  Can we make labels?  Can we change the bin spacing and color?\n",
    "fig = plt.figure()\n",
    "plt.hist(myRandomIntegers, color=\"red\", alpha=0.25, bins=20)  #what does alpha mean?  what does bins mean?\n",
    "plt.xlabel(\"Values\")\n",
    "plt.ylabel(\"Number of samples\")\n",
    "fig.suptitle('myRandomIntegers', fontsize=12)\n",
    "fig.savefig('test.jpg')  #where did this save our plot?\n"
   ]
  }
 ],
 "metadata": {
  "@webio": {
   "lastCommId": null,
   "lastKernelId": null
  },
  "celltoolbar": "Slideshow",
  "colab": {
   "name": "containers_and_imports.ipynb",
   "provenance": [],
   "toc_visible": true
  },
  "kernelspec": {
   "display_name": "Python 3",
   "language": "python",
   "name": "python3"
  },
  "language_info": {
   "codemirror_mode": {
    "name": "ipython",
    "version": 3
   },
   "file_extension": ".py",
   "mimetype": "text/x-python",
   "name": "python",
   "nbconvert_exporter": "python",
   "pygments_lexer": "ipython3",
   "version": "3.8.8"
  },
  "toc": {
   "base_numbering": 1,
   "nav_menu": {},
   "number_sections": true,
   "sideBar": true,
   "skip_h1_title": false,
   "title_cell": "Table of Contents",
   "title_sidebar": "Contents",
   "toc_cell": false,
   "toc_position": {},
   "toc_section_display": true,
   "toc_window_display": false
  },
  "varInspector": {
   "cols": {
    "lenName": 16,
    "lenType": 16,
    "lenVar": 40
   },
   "kernels_config": {
    "python": {
     "delete_cmd_postfix": "",
     "delete_cmd_prefix": "del ",
     "library": "var_list.py",
     "varRefreshCmd": "print(var_dic_list())"
    },
    "r": {
     "delete_cmd_postfix": ") ",
     "delete_cmd_prefix": "rm(",
     "library": "var_list.r",
     "varRefreshCmd": "cat(var_dic_list()) "
    }
   },
   "types_to_exclude": [
    "module",
    "function",
    "builtin_function_or_method",
    "instance",
    "_Feature"
   ],
   "window_display": false
  }
 },
 "nbformat": 4,
 "nbformat_minor": 1
}
