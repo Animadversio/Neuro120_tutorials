{
 "cells": [
  {
   "cell_type": "code",
   "execution_count": 7,
   "metadata": {},
   "outputs": [],
   "source": [
    "!jt -t chesterish"
   ]
  },
  {
   "cell_type": "markdown",
   "metadata": {
    "toc": true
   },
   "source": [
    "<h1>Table of Contents<span class=\"tocSkip\"></span></h1>\n",
    "<div class=\"toc\"><ul class=\"toc-item\"><li><span><a href=\"#Probability\" data-toc-modified-id=\"Probability-1\"><span class=\"toc-item-num\">1&nbsp;&nbsp;</span>Probability</a></span><ul class=\"toc-item\"><li><span><a href=\"#Joint-Probability\" data-toc-modified-id=\"Joint-Probability-1.1\"><span class=\"toc-item-num\">1.1&nbsp;&nbsp;</span>Joint Probability</a></span></li><li><span><a href=\"#Conditional-Probability\" data-toc-modified-id=\"Conditional-Probability-1.2\"><span class=\"toc-item-num\">1.2&nbsp;&nbsp;</span>Conditional Probability</a></span></li><li><span><a href=\"#Bayes-Rule\" data-toc-modified-id=\"Bayes-Rule-1.3\"><span class=\"toc-item-num\">1.3&nbsp;&nbsp;</span>Bayes Rule</a></span></li><li><span><a href=\"#Likelihood\" data-toc-modified-id=\"Likelihood-1.4\"><span class=\"toc-item-num\">1.4&nbsp;&nbsp;</span>Likelihood</a></span></li></ul></li><li><span><a href=\"#(my)-Philosphy-of-Statistical-Inference\" data-toc-modified-id=\"(my)-Philosphy-of-Statistical-Inference-2\"><span class=\"toc-item-num\">2&nbsp;&nbsp;</span>(my) Philosphy of Statistical Inference</a></span><ul class=\"toc-item\"><li><span><a href=\"#Maximal-Likelihood-Estimate\" data-toc-modified-id=\"Maximal-Likelihood-Estimate-2.1\"><span class=\"toc-item-num\">2.1&nbsp;&nbsp;</span>Maximal Likelihood Estimate</a></span></li></ul></li></ul></div>"
   ]
  },
  {
   "cell_type": "markdown",
   "metadata": {},
   "source": [
    "# Neuro120 Section 3 Statistics and MLE Review"
   ]
  },
  {
   "cell_type": "markdown",
   "metadata": {},
   "source": [
    "## Probability"
   ]
  },
  {
   "cell_type": "code",
   "execution_count": null,
   "metadata": {},
   "outputs": [],
   "source": []
  },
  {
   "cell_type": "markdown",
   "metadata": {},
   "source": [
    "### Joint Probability"
   ]
  },
  {
   "cell_type": "code",
   "execution_count": null,
   "metadata": {},
   "outputs": [],
   "source": []
  },
  {
   "cell_type": "markdown",
   "metadata": {},
   "source": [
    "### Conditional Probability"
   ]
  },
  {
   "cell_type": "code",
   "execution_count": null,
   "metadata": {},
   "outputs": [],
   "source": []
  },
  {
   "cell_type": "markdown",
   "metadata": {},
   "source": [
    "### Bayes Rule"
   ]
  },
  {
   "cell_type": "code",
   "execution_count": null,
   "metadata": {},
   "outputs": [],
   "source": []
  },
  {
   "cell_type": "markdown",
   "metadata": {},
   "source": [
    "### Likelihood"
   ]
  },
  {
   "cell_type": "code",
   "execution_count": null,
   "metadata": {},
   "outputs": [],
   "source": []
  },
  {
   "cell_type": "markdown",
   "metadata": {},
   "source": [
    "## (my) Philosphy of Statistical Inference"
   ]
  },
  {
   "cell_type": "markdown",
   "metadata": {},
   "source": [
    "When doing science we usually observe something as our data (e.g. spikes). Data itself is great, but we want to draw conclusions about something else, something bigger: \n",
    "* the underlying mechanisms or processes that generate this data. \n",
    "* whether our understanding of the system (hypothesis) is correct.\n",
    "\n",
    "When doing so, we need **inference**. "
   ]
  },
  {
   "cell_type": "markdown",
   "metadata": {},
   "source": [
    "Formally put, we assume mother nature has a true **data generating process**, formalized as $G$. Our experiments are noisy versions of this true process. \n",
    "\n",
    "This process takes an experiment variable $x$ as input and map it to a distribution of outcomes $G(x)=p(y|x)$. Our data are sampled from such distribution\n",
    "$$y\\sim G(x)$$"
   ]
  },
  {
   "cell_type": "markdown",
   "metadata": {},
   "source": [
    "However, for many processes (esp. biology), we don't know this true function $G$, we don't even know the form of it! "
   ]
  },
  {
   "cell_type": "markdown",
   "metadata": {},
   "source": [
    "Usually, what we can do is to **approximate** this function with some groups of functions we know, $\\mathcal F=\\{\\theta\\in\\Theta|f(.;\\theta)\\}$, parametrized with $\\theta$. We can try to get some knowledge of the parameter $\\theta$ and draw conclusions about the system. "
   ]
  },
  {
   "cell_type": "markdown",
   "metadata": {},
   "source": []
  },
  {
   "cell_type": "markdown",
   "metadata": {},
   "source": [
    "Statistical inference has many forms, from simple ones like t-test, ANOVA, to complex ones like **maximum likelihood inference** (MLE)."
   ]
  },
  {
   "cell_type": "markdown",
   "metadata": {},
   "source": []
  },
  {
   "cell_type": "markdown",
   "metadata": {},
   "source": [
    "### Maximal Likelihood Estimate"
   ]
  },
  {
   "cell_type": "markdown",
   "metadata": {},
   "source": [
    "Maximum likelihood estimate"
   ]
  },
  {
   "cell_type": "code",
   "execution_count": null,
   "metadata": {},
   "outputs": [],
   "source": []
  },
  {
   "cell_type": "markdown",
   "metadata": {},
   "source": [
    "# Homework Q&A"
   ]
  },
  {
   "cell_type": "code",
   "execution_count": null,
   "metadata": {},
   "outputs": [],
   "source": []
  }
 ],
 "metadata": {
  "kernelspec": {
   "display_name": "Python 3",
   "language": "python",
   "name": "python3"
  },
  "language_info": {
   "codemirror_mode": {
    "name": "ipython",
    "version": 3
   },
   "file_extension": ".py",
   "mimetype": "text/x-python",
   "name": "python",
   "nbconvert_exporter": "python",
   "pygments_lexer": "ipython3",
   "version": "3.7.1"
  },
  "toc": {
   "base_numbering": 1,
   "nav_menu": {
    "height": "179px",
    "width": "291px"
   },
   "number_sections": true,
   "sideBar": true,
   "skip_h1_title": true,
   "title_cell": "Table of Contents",
   "title_sidebar": "Contents",
   "toc_cell": true,
   "toc_position": {
    "height": "calc(100% - 180px)",
    "left": "10px",
    "top": "150px",
    "width": "384px"
   },
   "toc_section_display": true,
   "toc_window_display": true
  },
  "varInspector": {
   "cols": {
    "lenName": 16,
    "lenType": 16,
    "lenVar": 40
   },
   "kernels_config": {
    "python": {
     "delete_cmd_postfix": "",
     "delete_cmd_prefix": "del ",
     "library": "var_list.py",
     "varRefreshCmd": "print(var_dic_list())"
    },
    "r": {
     "delete_cmd_postfix": ") ",
     "delete_cmd_prefix": "rm(",
     "library": "var_list.r",
     "varRefreshCmd": "cat(var_dic_list()) "
    }
   },
   "types_to_exclude": [
    "module",
    "function",
    "builtin_function_or_method",
    "instance",
    "_Feature"
   ],
   "window_display": false
  }
 },
 "nbformat": 4,
 "nbformat_minor": 4
}
