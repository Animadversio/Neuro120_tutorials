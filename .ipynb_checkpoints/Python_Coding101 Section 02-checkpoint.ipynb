{
 "cells": [
  {
   "cell_type": "markdown",
   "id": "de0e119e",
   "metadata": {
    "slideshow": {
     "slide_type": "slide"
    }
   },
   "source": [
    "# Personal introduction "
   ]
  },
  {
   "cell_type": "markdown",
   "id": "8716b8b9",
   "metadata": {},
   "source": [
    "I'm Binxu Wang, my status is a bit odd, grad student moving / transitioning to Harvard Neurobiology program, But I'm as passionate as computational neuroscience as you do. "
   ]
  },
  {
   "cell_type": "markdown",
   "id": "be071b04",
   "metadata": {},
   "source": [
    "* I grew up in Beijing, China. \n",
    "* I was trained in **thoeretical physics** in Peking Univ., \n",
    "* and worked with **computational neuroscientist** Louis Tao before. "
   ]
  },
  {
   "cell_type": "markdown",
   "id": "2d001242",
   "metadata": {},
   "source": [
    "* I came to Neuroscience program in Washington University in St Louis in 2018, working with Dr. Carlos R. Ponce on visual neuroscience in primates. \n",
    "* He moved to Harvard Neurobiology department this fall, so I'm here with you guys!"
   ]
  },
  {
   "cell_type": "markdown",
   "id": "9e582d2e",
   "metadata": {},
   "source": [
    "We are working on closed loop experiments letting machine learning system and visual system work together. My interest is on analyzing visual representations in the brain and in neural networks. Happy to talk about my research and our lab with you all!"
   ]
  },
  {
   "cell_type": "markdown",
   "id": "b3015e72",
   "metadata": {},
   "source": [
    "<img src=\"https://github.com/Animadversio/GAN-Geometry/blob/master/img/Poster_thumbnail.png?raw=true\" width=600>"
   ]
  },
  {
   "cell_type": "markdown",
   "id": "a40302c5",
   "metadata": {},
   "source": [
    "I love cat, reading, 3d art etc. out of lab!"
   ]
  },
  {
   "cell_type": "code",
   "execution_count": null,
   "id": "6b53dd51",
   "metadata": {},
   "outputs": [],
   "source": [
    "from IPython.display import HTML\n",
    "HTML('<iframe width=\"560\" height=\"315\" src=\"https://www.youtube.com/embed/S_f2qV2_U00?rel=0&amp;controls=0&amp;showinfo=0\" frameborder=\"0\" allowfullscreen></iframe>')\n"
   ]
  },
  {
   "cell_type": "markdown",
   "id": "83bd42af",
   "metadata": {},
   "source": [
    "You can contact me \n",
    "* on Slack. \n",
    "* via email (current one, may be updated) binxu.wang@wustl.edu\n",
    "* Or visit our lab in HMS! https://ponce.hms.harvard.edu/"
   ]
  },
  {
   "cell_type": "markdown",
   "id": "52217bf8",
   "metadata": {},
   "source": [
    "--------------------"
   ]
  },
  {
   "cell_type": "markdown",
   "id": "a8207b8f",
   "metadata": {
    "slideshow": {
     "slide_type": "slide"
    }
   },
   "source": [
    "# Leftover from Linear Algebra Review"
   ]
  },
  {
   "cell_type": "markdown",
   "id": "8533d439",
   "metadata": {
    "slideshow": {
     "slide_type": "slide"
    }
   },
   "source": [
    "## Matrix vector multiplication "
   ]
  },
  {
   "cell_type": "markdown",
   "id": "440e0b53",
   "metadata": {},
   "source": [
    "$$y=Ax$$\n",
    "\n",
    "$$y_i=\\sum_j A_{ij}x_j$$"
   ]
  },
  {
   "cell_type": "markdown",
   "id": "de6a9061",
   "metadata": {
    "slideshow": {
     "slide_type": "slide"
    }
   },
   "source": [
    "## Matrix Multiplication "
   ]
  },
  {
   "cell_type": "markdown",
   "id": "42538cc2",
   "metadata": {},
   "source": [
    "$$AB=C$$\n",
    "\n",
    "$$\\sum_j A_{ij}B_{jk}=C_{ik}$$"
   ]
  },
  {
   "cell_type": "markdown",
   "id": "a70232cc",
   "metadata": {},
   "source": [
    "Notice the shape compatibility of matrix multiplication, if `MatMul(A,B)` is possible, iff\n",
    "\n",
    "* 2nd dimension of $A$ == 1st dimension of $B$\n",
    "* If `A.shape=(l,m)`, `B.shape==(m,n)` then `C.shape==(l,n)`. See figure. \n"
   ]
  },
  {
   "cell_type": "markdown",
   "id": "badb2d88",
   "metadata": {},
   "source": [
    "<img src=https://miro.medium.com/max/1200/0*PPrxrvaBQbLopO2t.png width=\"500\">"
   ]
  },
  {
   "cell_type": "markdown",
   "id": "318e2096",
   "metadata": {},
   "source": [
    "`MatMul` in action"
   ]
  },
  {
   "cell_type": "markdown",
   "id": "306bd9fe",
   "metadata": {},
   "source": [
    "![](https://www.cairographics.org/cookbook/matrix_transform/matrix_multiplication.gif)"
   ]
  },
  {
   "cell_type": "markdown",
   "id": "f7191ffd",
   "metadata": {},
   "source": [
    "Visual intuition of matrix multiplication. "
   ]
  },
  {
   "cell_type": "markdown",
   "id": "872b72d2",
   "metadata": {
    "slideshow": {
     "slide_type": "slide"
    }
   },
   "source": [
    "## Extra: Einstein Summation Rule"
   ]
  },
  {
   "cell_type": "markdown",
   "id": "3dbfaf21",
   "metadata": {},
   "source": [
    "> **How to write it alternatively?**"
   ]
  },
  {
   "cell_type": "markdown",
   "id": "3c98d99b",
   "metadata": {},
   "source": [
    "This is extra, but I studied *physics* so I have to talk about this. "
   ]
  },
  {
   "cell_type": "markdown",
   "id": "32f63497",
   "metadata": {},
   "source": [
    "Let's first recall element-wise formula of matrix multiplication and vector multiplication. "
   ]
  },
  {
   "cell_type": "markdown",
   "id": "9f39201d",
   "metadata": {},
   "source": [
    "$$\\sum_j A_{ij}x_j=y_i$$\n",
    "$$\\sum_j A_{ij}B_{jk}=C_{ik}$$"
   ]
  },
  {
   "cell_type": "markdown",
   "id": "977c390d",
   "metadata": {},
   "source": [
    "Note that you can **imply the summation symbol** without writing it explicitly! \n",
    "\n",
    "$$A_{ij}x_j=y_i$$\n",
    "$$A_{ij}B_{jk}=C_{ik}$$"
   ]
  },
  {
   "cell_type": "markdown",
   "id": "eda3c19a",
   "metadata": {},
   "source": [
    "This is called Einstein summation rule, or Einstein notation. [Anecdotal story]()"
   ]
  },
  {
   "cell_type": "markdown",
   "id": "08c50e62",
   "metadata": {},
   "source": [
    "This notation is really useful when \n",
    "\n",
    "* Matrix multiplication is extended to tensor multiplication. \n",
    "* Taking derivatives of MatMul and deriving equations\n",
    "* Writing expressions efficiently and flexibly. "
   ]
  },
  {
   "cell_type": "markdown",
   "id": "6c460ad3",
   "metadata": {},
   "source": [
    "\n",
    "<img src=https://miro.medium.com/max/666/1*nYbMi6U_wbK_gXbhLzoQsA.png width=\"500\">"
   ]
  },
  {
   "cell_type": "markdown",
   "id": "4f7cc9ac",
   "metadata": {},
   "source": [
    "Many machine learning framework has this exact function, `torch`,`numpy`,`tensorflow` etc.. much easier to write formula. "
   ]
  },
  {
   "cell_type": "code",
   "execution_count": 1,
   "id": "7a188f7b",
   "metadata": {},
   "outputs": [],
   "source": [
    "import numpy as np\n",
    "\n",
    "A = np.array([[1,2,3],[2,3,4]])\n",
    "B = np.array([[5,6,7],[9,3,4]])"
   ]
  },
  {
   "cell_type": "code",
   "execution_count": 3,
   "id": "c36f55fa",
   "metadata": {},
   "outputs": [
    {
     "data": {
      "text/plain": [
       "array([[1, 2, 3],\n",
       "       [2, 3, 4]])"
      ]
     },
     "execution_count": 3,
     "metadata": {},
     "output_type": "execute_result"
    }
   ],
   "source": [
    "A"
   ]
  },
  {
   "cell_type": "code",
   "execution_count": 4,
   "id": "ad6028b5",
   "metadata": {},
   "outputs": [
    {
     "data": {
      "text/plain": [
       "array([[5, 6, 7],\n",
       "       [9, 3, 4]])"
      ]
     },
     "execution_count": 4,
     "metadata": {},
     "output_type": "execute_result"
    }
   ],
   "source": [
    "B"
   ]
  },
  {
   "cell_type": "code",
   "execution_count": 2,
   "id": "29220ea1",
   "metadata": {},
   "outputs": [
    {
     "data": {
      "text/plain": [
       "array([[38, 27],\n",
       "       [56, 43]])"
      ]
     },
     "execution_count": 2,
     "metadata": {},
     "output_type": "execute_result"
    }
   ],
   "source": [
    "A@B.T"
   ]
  },
  {
   "cell_type": "code",
   "execution_count": 5,
   "id": "a386c990",
   "metadata": {},
   "outputs": [
    {
     "data": {
      "text/plain": [
       "array([[23, 12, 15],\n",
       "       [37, 21, 26],\n",
       "       [51, 30, 37]])"
      ]
     },
     "execution_count": 5,
     "metadata": {},
     "output_type": "execute_result"
    }
   ],
   "source": [
    "A.T@B"
   ]
  },
  {
   "cell_type": "code",
   "execution_count": 6,
   "id": "0c3cf3ab",
   "metadata": {},
   "outputs": [
    {
     "data": {
      "text/plain": [
       "array([[23, 12, 15],\n",
       "       [37, 21, 26],\n",
       "       [51, 30, 37]])"
      ]
     },
     "execution_count": 6,
     "metadata": {},
     "output_type": "execute_result"
    }
   ],
   "source": [
    "np.einsum(\"ij,ik->jk\",A,B)"
   ]
  },
  {
   "cell_type": "code",
   "execution_count": 7,
   "id": "e3546c76",
   "metadata": {},
   "outputs": [
    {
     "data": {
      "text/plain": [
       "array([[38, 27],\n",
       "       [56, 43]])"
      ]
     },
     "execution_count": 7,
     "metadata": {},
     "output_type": "execute_result"
    }
   ],
   "source": [
    "np.einsum(\"ij,kj->ik\",A,B)"
   ]
  },
  {
   "cell_type": "markdown",
   "id": "17c9df72",
   "metadata": {
    "slideshow": {
     "slide_type": "slide"
    }
   },
   "source": [
    "## Extra: Computational Complexity"
   ]
  },
  {
   "cell_type": "markdown",
   "id": "731381fa",
   "metadata": {},
   "source": [
    "> **How many operations is needed in a Matrix Multiplication?**"
   ]
  },
  {
   "cell_type": "markdown",
   "id": "9aa18519",
   "metadata": {},
   "source": [
    "```python\n",
    "# Input: matrices A and B\n",
    "def matmul(A,B):\n",
    "    n, m = A.shape\n",
    "    mm, p = B.shape\n",
    "    assert m == mm\n",
    "    for i in range(n):\n",
    "        for j range(p):\n",
    "        S = 0\n",
    "        for k from range(m):\n",
    "            S += A[i,k] * B[k,j]\n",
    "        C[i,j] = S\n",
    "    return C\n",
    "```"
   ]
  },
  {
   "cell_type": "markdown",
   "id": "9443e156",
   "metadata": {},
   "source": [
    "Naively it's on the order of `O(mnp)`"
   ]
  },
  {
   "cell_type": "markdown",
   "id": "7a9ebb30",
   "metadata": {},
   "source": [
    "Some pointers\n",
    "\n",
    "* [Wiki](https://en.wikipedia.org/wiki/Matrix_multiplication_algorithm) "
   ]
  },
  {
   "cell_type": "markdown",
   "id": "609e3761",
   "metadata": {},
   "source": [
    "### Additional Note: MatMul and GPU"
   ]
  },
  {
   "cell_type": "markdown",
   "id": "3b0e6fc9",
   "metadata": {},
   "source": [
    "`MatMul` is the basic operation of most deep learning system. Ability to compute it fast is a great gain! "
   ]
  },
  {
   "cell_type": "markdown",
   "id": "17916387",
   "metadata": {},
   "source": [
    "Note that the element wise computation is *parallelizable*, and GPU is really good at this.\n",
    "$$A_{ij}B_{jk}=C_{ik}$$\n",
    "\n",
    "Python library like `torch`, `tensorflow`, `cupy` etc. can all use MatMul on GPU (implemented in `CUDA`) which makes it much much faster. "
   ]
  },
  {
   "cell_type": "markdown",
   "id": "be8274b3",
   "metadata": {},
   "source": [
    "---------------------------------"
   ]
  },
  {
   "cell_type": "markdown",
   "id": "9d98d566",
   "metadata": {
    "slideshow": {
     "slide_type": "slide"
    }
   },
   "source": [
    "# Python Basic"
   ]
  },
  {
   "cell_type": "markdown",
   "id": "ef128cad",
   "metadata": {},
   "source": [
    "**Creator**: Binxu Wang\n",
    "* Some material borrowed from Timothy Holy"
   ]
  },
  {
   "cell_type": "markdown",
   "id": "3332cea5",
   "metadata": {},
   "source": [
    "> How many of you have coded before?"
   ]
  },
  {
   "cell_type": "markdown",
   "id": "5ed88220",
   "metadata": {},
   "source": [
    "Just like other programming languages, `Python` have variables and the commands / statements operates on them. \n"
   ]
  },
  {
   "cell_type": "markdown",
   "id": "ed2e4a66",
   "metadata": {},
   "source": [
    "We will first introduce the basic data types, the container data types, and then the numeric data types in `numpy`. "
   ]
  },
  {
   "cell_type": "markdown",
   "id": "b56d4b9b",
   "metadata": {},
   "source": [
    "Then we introduce the [control flow](https://docs.python.org/3/tutorial/controlflow.html) tools: `if` `for` `while`. \n",
    "\n",
    "\n",
    "Note **function** is another highly useful tool for flow control, but not covered extensively in this tutorial."
   ]
  },
  {
   "cell_type": "markdown",
   "id": "762b8364",
   "metadata": {},
   "source": [
    "## Meta Knowledge"
   ]
  },
  {
   "cell_type": "markdown",
   "id": "71e911eb",
   "metadata": {},
   "source": [
    "> `python` cannot be learnt in a section, so does any package in it. Some meta-knowledge will make it faster!"
   ]
  },
  {
   "cell_type": "markdown",
   "id": "c9f137d5",
   "metadata": {},
   "source": [
    "### Read document and help of function"
   ]
  },
  {
   "cell_type": "code",
   "execution_count": 9,
   "id": "cd84b872",
   "metadata": {},
   "outputs": [
    {
     "name": "stdout",
     "output_type": "stream",
     "text": [
      "Help on built-in function len in module builtins:\n",
      "\n",
      "len(obj, /)\n",
      "    Return the number of items in a container.\n",
      "\n"
     ]
    }
   ],
   "source": [
    "help(len)"
   ]
  },
  {
   "cell_type": "code",
   "execution_count": 10,
   "id": "2aa66aff",
   "metadata": {},
   "outputs": [
    {
     "name": "stdout",
     "output_type": "stream",
     "text": [
      "Help on built-in function sorted in module builtins:\n",
      "\n",
      "sorted(iterable, /, *, key=None, reverse=False)\n",
      "    Return a new list containing all items from the iterable in ascending order.\n",
      "    \n",
      "    A custom key function can be supplied to customize the sort order, and the\n",
      "    reverse flag can be set to request the result in descending order.\n",
      "\n"
     ]
    }
   ],
   "source": [
    "help(sorted) # built-in function! "
   ]
  },
  {
   "cell_type": "code",
   "execution_count": 11,
   "id": "e0fee933",
   "metadata": {},
   "outputs": [],
   "source": [
    "# ipython short cut\n",
    "?range "
   ]
  },
  {
   "cell_type": "code",
   "execution_count": 13,
   "id": "de53590b",
   "metadata": {},
   "outputs": [
    {
     "data": {
      "text/plain": [
       "range"
      ]
     },
     "execution_count": 13,
     "metadata": {},
     "output_type": "execute_result"
    }
   ],
   "source": [
    "range(4)"
   ]
  },
  {
   "cell_type": "code",
   "execution_count": 14,
   "id": "3b9efa35",
   "metadata": {},
   "outputs": [],
   "source": [
    "np.arange?"
   ]
  },
  {
   "cell_type": "markdown",
   "id": "d30466b8",
   "metadata": {},
   "source": [
    "### Inquire the type (and shape) of variable "
   ]
  },
  {
   "cell_type": "code",
   "execution_count": null,
   "id": "cf513a5d",
   "metadata": {},
   "outputs": [],
   "source": [
    "type(\"your question\")"
   ]
  },
  {
   "cell_type": "markdown",
   "id": "d26698f6",
   "metadata": {},
   "source": [
    "`shift+Tab` to invoke inline inspection"
   ]
  },
  {
   "cell_type": "markdown",
   "id": "3b8d2a1d",
   "metadata": {},
   "source": [
    "More on shapes down below..."
   ]
  },
  {
   "cell_type": "markdown",
   "id": "d0d5e0c9",
   "metadata": {},
   "source": [
    "### `print` out results to see"
   ]
  },
  {
   "cell_type": "code",
   "execution_count": null,
   "id": "c35c37f0",
   "metadata": {},
   "outputs": [],
   "source": [
    "a = 1\n",
    "b = 1\n",
    "print(a+b,\"=\",a,\"+\",b) # you need bracket ! "
   ]
  },
  {
   "cell_type": "code",
   "execution_count": null,
   "id": "bcfe06c5",
   "metadata": {},
   "outputs": [],
   "source": [
    "print(\"%d=%d+%d\"%(a+b,a,b))"
   ]
  },
  {
   "cell_type": "markdown",
   "id": "c99c9f59",
   "metadata": {},
   "source": [
    "## data type"
   ]
  },
  {
   "cell_type": "markdown",
   "id": "a146a11b",
   "metadata": {},
   "source": [
    "Variables have `type` and different `type` of variables are equipped with different methods they can use! Same operator may have different effect when operating on different types\n",
    "\n",
    "Here are some basic data types in `Python`. \n",
    "\n",
    "* int\n",
    "* float\n",
    "* str\n",
    "* bool"
   ]
  },
  {
   "cell_type": "code",
   "execution_count": 15,
   "id": "f0bbcb43",
   "metadata": {},
   "outputs": [
    {
     "data": {
      "text/plain": [
       "int"
      ]
     },
     "execution_count": 15,
     "metadata": {},
     "output_type": "execute_result"
    }
   ],
   "source": [
    "type(1)"
   ]
  },
  {
   "cell_type": "code",
   "execution_count": 16,
   "id": "d887ec33",
   "metadata": {},
   "outputs": [
    {
     "data": {
      "text/plain": [
       "float"
      ]
     },
     "execution_count": 16,
     "metadata": {},
     "output_type": "execute_result"
    }
   ],
   "source": [
    "type(1.0)"
   ]
  },
  {
   "cell_type": "code",
   "execution_count": 17,
   "id": "cd619889",
   "metadata": {},
   "outputs": [
    {
     "data": {
      "text/plain": [
       "str"
      ]
     },
     "execution_count": 17,
     "metadata": {},
     "output_type": "execute_result"
    }
   ],
   "source": [
    "type(\"compneuro\")"
   ]
  },
  {
   "cell_type": "code",
   "execution_count": 18,
   "id": "7b8a7152",
   "metadata": {
    "scrolled": true
   },
   "outputs": [
    {
     "data": {
      "text/plain": [
       "bool"
      ]
     },
     "execution_count": 18,
     "metadata": {},
     "output_type": "execute_result"
    }
   ],
   "source": [
    "type(True)"
   ]
  },
  {
   "cell_type": "code",
   "execution_count": null,
   "id": "fa83e5fa",
   "metadata": {
    "scrolled": true
   },
   "outputs": [],
   "source": [
    "type(float)"
   ]
  },
  {
   "cell_type": "code",
   "execution_count": 19,
   "id": "42e08157",
   "metadata": {},
   "outputs": [
    {
     "data": {
      "text/plain": [
       "(2, 2.0, '11')"
      ]
     },
     "execution_count": 19,
     "metadata": {},
     "output_type": "execute_result"
    }
   ],
   "source": [
    "# compare the different result \n",
    "1 + 1, 1.0 + 1.0, \"1\" + \"1\" "
   ]
  },
  {
   "cell_type": "markdown",
   "id": "bb652b1c",
   "metadata": {},
   "source": [
    "Python is a **dynamically typed language**. You don't need to declare type **explicitly** when creating variable."
   ]
  },
  {
   "cell_type": "code",
   "execution_count": null,
   "id": "332a9a4c",
   "metadata": {},
   "outputs": [],
   "source": [
    "a = 1\n",
    "type(a)"
   ]
  },
  {
   "cell_type": "code",
   "execution_count": null,
   "id": "918f85b8",
   "metadata": {},
   "outputs": [],
   "source": [
    "b = 1.0\n",
    "type(b)"
   ]
  },
  {
   "cell_type": "code",
   "execution_count": null,
   "id": "6aa54de1",
   "metadata": {
    "scrolled": true
   },
   "outputs": [],
   "source": [
    "b, type(a+b)"
   ]
  },
  {
   "cell_type": "markdown",
   "id": "5db08023",
   "metadata": {},
   "source": [
    "**Type conversion** is an important operation in basic and high level python. Name of the type can usually work as type converter. \n",
    "\n",
    "Many times, **type conversion** will run under the hood to convert the type to the correct required ones. Some type conversion rules are critical. (those to `bool`)"
   ]
  },
  {
   "cell_type": "code",
   "execution_count": 21,
   "id": "f9eccbf6",
   "metadata": {},
   "outputs": [
    {
     "data": {
      "text/plain": [
       "1.0"
      ]
     },
     "execution_count": 21,
     "metadata": {},
     "output_type": "execute_result"
    }
   ],
   "source": [
    "float(1)"
   ]
  },
  {
   "cell_type": "code",
   "execution_count": 22,
   "id": "431cdd48",
   "metadata": {},
   "outputs": [
    {
     "data": {
      "text/plain": [
       "True"
      ]
     },
     "execution_count": 22,
     "metadata": {},
     "output_type": "execute_result"
    }
   ],
   "source": [
    "bool(2)"
   ]
  },
  {
   "cell_type": "code",
   "execution_count": 23,
   "id": "f5c1e6bf",
   "metadata": {},
   "outputs": [
    {
     "data": {
      "text/plain": [
       "True"
      ]
     },
     "execution_count": 23,
     "metadata": {},
     "output_type": "execute_result"
    }
   ],
   "source": [
    "bool(\"s\")"
   ]
  },
  {
   "cell_type": "code",
   "execution_count": 24,
   "id": "f55f3bec",
   "metadata": {},
   "outputs": [
    {
     "data": {
      "text/plain": [
       "False"
      ]
     },
     "execution_count": 24,
     "metadata": {},
     "output_type": "execute_result"
    }
   ],
   "source": [
    "bool(\"\")"
   ]
  },
  {
   "cell_type": "code",
   "execution_count": null,
   "id": "61b722df",
   "metadata": {},
   "outputs": [],
   "source": [
    "str(1)"
   ]
  },
  {
   "cell_type": "code",
   "execution_count": 25,
   "id": "510b6c06",
   "metadata": {},
   "outputs": [
    {
     "data": {
      "text/plain": [
       "'1.0'"
      ]
     },
     "execution_count": 25,
     "metadata": {},
     "output_type": "execute_result"
    }
   ],
   "source": [
    "str(float(1))"
   ]
  },
  {
   "cell_type": "code",
   "execution_count": 26,
   "id": "4360d6b7",
   "metadata": {},
   "outputs": [
    {
     "data": {
      "text/plain": [
       "1.0"
      ]
     },
     "execution_count": 26,
     "metadata": {},
     "output_type": "execute_result"
    }
   ],
   "source": [
    "float(bool(2))"
   ]
  },
  {
   "cell_type": "markdown",
   "id": "9615bc98",
   "metadata": {},
   "source": [
    "### Basic Containers "
   ]
  },
  {
   "cell_type": "markdown",
   "id": "72d1190a",
   "metadata": {},
   "source": [
    "Basic data types can be put into **containers**. The basic containers are `list` `tuple` `dict`. Unlike array in C++ or Matlab, these containers can contain anything"
   ]
  },
  {
   "cell_type": "markdown",
   "id": "c7cdf0fc",
   "metadata": {},
   "source": [
    "### `list`"
   ]
  },
  {
   "cell_type": "markdown",
   "id": "ef8edb54",
   "metadata": {},
   "source": [
    "* `list` is created by the `[ ]` symbol. It contains any variables. (or containers)\n"
   ]
  },
  {
   "cell_type": "code",
   "execution_count": 27,
   "id": "7d2ce034",
   "metadata": {},
   "outputs": [
    {
     "data": {
      "text/plain": [
       "[1.0, 1, '1.0', [1, 2]]"
      ]
     },
     "execution_count": 27,
     "metadata": {},
     "output_type": "execute_result"
    }
   ],
   "source": [
    "a = 1.0\n",
    "b = 1\n",
    "list_a = [a, b, \"1.0\", [1,2]]\n",
    "list_a"
   ]
  },
  {
   "cell_type": "markdown",
   "id": "b67abedb",
   "metadata": {},
   "source": [
    "`len` can be applied to lists to see how many elements are there."
   ]
  },
  {
   "cell_type": "code",
   "execution_count": null,
   "id": "1187a04b",
   "metadata": {},
   "outputs": [],
   "source": [
    "?len"
   ]
  },
  {
   "cell_type": "code",
   "execution_count": 28,
   "id": "1a12300b",
   "metadata": {
    "scrolled": true
   },
   "outputs": [
    {
     "data": {
      "text/plain": [
       "4"
      ]
     },
     "execution_count": 28,
     "metadata": {},
     "output_type": "execute_result"
    }
   ],
   "source": [
    "len(list_a)"
   ]
  },
  {
   "cell_type": "markdown",
   "id": "7ba460d0",
   "metadata": {},
   "source": [
    "* Conceptually, list is a mapping from **natural numbers** to anything. \n",
    "* `[ ]` is the symbol for indexing -- get the object by the index, i.e. mapping integers to object. \n",
    "* Note the index starts from 0 and end in `L-1`"
   ]
  },
  {
   "cell_type": "code",
   "execution_count": null,
   "id": "b68b4654",
   "metadata": {},
   "outputs": [],
   "source": [
    "a = 1.0\n",
    "b = 1\n",
    "list_a = [a, b, \"1.0\", [1,2]]"
   ]
  },
  {
   "cell_type": "markdown",
   "id": "aff0637a",
   "metadata": {},
   "source": [
    "#### list indexing"
   ]
  },
  {
   "cell_type": "code",
   "execution_count": null,
   "id": "1da890e7",
   "metadata": {},
   "outputs": [],
   "source": [
    "list_a[0]"
   ]
  },
  {
   "cell_type": "code",
   "execution_count": null,
   "id": "131e3e7c",
   "metadata": {},
   "outputs": [],
   "source": [
    "list_a[2]"
   ]
  },
  {
   "cell_type": "code",
   "execution_count": null,
   "id": "bd25de12",
   "metadata": {},
   "outputs": [],
   "source": [
    "list_a[-1]"
   ]
  },
  {
   "cell_type": "code",
   "execution_count": null,
   "id": "8618764a",
   "metadata": {},
   "outputs": [],
   "source": [
    "list_a[-2]"
   ]
  },
  {
   "cell_type": "markdown",
   "id": "3fb4f067",
   "metadata": {},
   "source": [
    "Note range indexing `a:b` will have `b-a` objects, `list[b]` is excluded."
   ]
  },
  {
   "cell_type": "code",
   "execution_count": null,
   "id": "8bb4abbe",
   "metadata": {},
   "outputs": [],
   "source": [
    "list_a[1:4]"
   ]
  },
  {
   "cell_type": "code",
   "execution_count": null,
   "id": "651ac23c",
   "metadata": {
    "scrolled": true
   },
   "outputs": [],
   "source": [
    "list_a[:4:2] # adding step size"
   ]
  },
  {
   "cell_type": "code",
   "execution_count": null,
   "id": "5129d0b0",
   "metadata": {
    "scrolled": true
   },
   "outputs": [],
   "source": [
    "list_a[3][1] # Recursive indexing "
   ]
  },
  {
   "cell_type": "markdown",
   "id": "b7f602e4",
   "metadata": {},
   "source": [
    "#### Basic operations `+` `*` `in` "
   ]
  },
  {
   "cell_type": "markdown",
   "id": "86b66f06",
   "metadata": {},
   "source": [
    "Adding list will concatenate them:"
   ]
  },
  {
   "cell_type": "code",
   "execution_count": null,
   "id": "2b051b5b",
   "metadata": {},
   "outputs": [],
   "source": [
    "[\"a\",2,3]+[3]"
   ]
  },
  {
   "cell_type": "markdown",
   "id": "e3fd1569",
   "metadata": {},
   "source": [
    "multply list will replicate it, "
   ]
  },
  {
   "cell_type": "code",
   "execution_count": null,
   "id": "47c62ff7",
   "metadata": {},
   "outputs": [],
   "source": [
    "tmp = [\"a\"]*10\n",
    "tmp"
   ]
  },
  {
   "cell_type": "markdown",
   "id": "7ba26e5a",
   "metadata": {},
   "source": [
    "`in` test inclusion of an element "
   ]
  },
  {
   "cell_type": "code",
   "execution_count": null,
   "id": "2a27afbc",
   "metadata": {},
   "outputs": [],
   "source": [
    "tmp = [1,5,2,3,7]\n",
    "7 in tmp"
   ]
  },
  {
   "cell_type": "markdown",
   "id": "2307c068",
   "metadata": {},
   "source": [
    "`in` does not test for inclusion of subsequence, only element"
   ]
  },
  {
   "cell_type": "code",
   "execution_count": null,
   "id": "2b8fb2ac",
   "metadata": {},
   "outputs": [],
   "source": [
    "[7] in tmp"
   ]
  },
  {
   "cell_type": "markdown",
   "id": "3783cc97",
   "metadata": {},
   "source": [
    "#### Methods of a container"
   ]
  },
  {
   "cell_type": "code",
   "execution_count": null,
   "id": "0cc9e669",
   "metadata": {},
   "outputs": [],
   "source": [
    "a = 1.0\n",
    "b = 1\n",
    "list_a = [a, b, \"1.0\", [1,2]]\n",
    "list_a"
   ]
  },
  {
   "cell_type": "code",
   "execution_count": null,
   "id": "567a3e1d",
   "metadata": {},
   "outputs": [],
   "source": [
    "list_a.append?"
   ]
  },
  {
   "cell_type": "code",
   "execution_count": null,
   "id": "91d9815d",
   "metadata": {},
   "outputs": [],
   "source": [
    "list_a.append(True) # append one object \n",
    "list_a"
   ]
  },
  {
   "cell_type": "code",
   "execution_count": null,
   "id": "75c27e68",
   "metadata": {},
   "outputs": [],
   "source": [
    "list_a.extend([15, False]) # extend a sequence of object "
   ]
  },
  {
   "cell_type": "code",
   "execution_count": null,
   "id": "b47d3408",
   "metadata": {},
   "outputs": [],
   "source": [
    "list_a"
   ]
  },
  {
   "cell_type": "markdown",
   "id": "3b99ef9c",
   "metadata": {},
   "source": [
    "Argument to `extend` must be `iterable` e.g. list or tuple!"
   ]
  },
  {
   "cell_type": "code",
   "execution_count": null,
   "id": "a117117d",
   "metadata": {},
   "outputs": [],
   "source": [
    "list_a.extend(1)"
   ]
  },
  {
   "cell_type": "markdown",
   "id": "8deaf2a3",
   "metadata": {},
   "source": [
    "**Question**: the difference of outcome?"
   ]
  },
  {
   "cell_type": "code",
   "execution_count": null,
   "id": "d1611db6",
   "metadata": {},
   "outputs": [],
   "source": [
    "A = [1]\n",
    "B = [1]\n",
    "A.append([1,2])\n",
    "B.extend([1,2])"
   ]
  },
  {
   "cell_type": "code",
   "execution_count": null,
   "id": "e3d910f2",
   "metadata": {
    "scrolled": true
   },
   "outputs": [],
   "source": [
    "print(A)\n",
    "print(B)"
   ]
  },
  {
   "cell_type": "markdown",
   "id": "4200722b",
   "metadata": {},
   "source": [
    "Find the index of an element by `index`, it will throw an error when not included. (inverse mapping)"
   ]
  },
  {
   "cell_type": "code",
   "execution_count": null,
   "id": "58baaa2c",
   "metadata": {},
   "outputs": [],
   "source": [
    "tmp.index(7)"
   ]
  },
  {
   "cell_type": "code",
   "execution_count": null,
   "id": "e827ddbe",
   "metadata": {},
   "outputs": [],
   "source": [
    "tmp.index(8)"
   ]
  },
  {
   "cell_type": "markdown",
   "id": "3219235d",
   "metadata": {},
   "source": [
    "More material on these methods\n",
    "\n",
    "* Official documentation https://docs.python.org/3/tutorial/datastructures.html\n",
    "* W3 playground https://www.w3schools.com/python/python_ref_list.asp\n",
    "\n"
   ]
  },
  {
   "cell_type": "markdown",
   "id": "a73ff167",
   "metadata": {},
   "source": [
    "#### Caveat: Changing elements"
   ]
  },
  {
   "cell_type": "markdown",
   "id": "7b4be802",
   "metadata": {},
   "source": [
    "> **Does container store value of a variable or the variable itself?**\n",
    "\n",
    "* If elements of a list is a **composite** variable (container or class), then the value of this element can change with the variable. \n",
    "* If it's a basic variable then the element's value will not change"
   ]
  },
  {
   "cell_type": "code",
   "execution_count": 29,
   "id": "742dc0be",
   "metadata": {},
   "outputs": [
    {
     "data": {
      "text/plain": [
       "['a', True, 1.0]"
      ]
     },
     "execution_count": 29,
     "metadata": {},
     "output_type": "execute_result"
    }
   ],
   "source": [
    "x = \"a\"\n",
    "y = True\n",
    "list_b = [x,y,1.0]\n",
    "list_b"
   ]
  },
  {
   "cell_type": "code",
   "execution_count": 30,
   "id": "50e8049e",
   "metadata": {},
   "outputs": [
    {
     "data": {
      "text/plain": [
       "['a', True, 1.0]"
      ]
     },
     "execution_count": 30,
     "metadata": {},
     "output_type": "execute_result"
    }
   ],
   "source": [
    "x += \"b\"\n",
    "list_b"
   ]
  },
  {
   "cell_type": "code",
   "execution_count": 32,
   "id": "da69db4b",
   "metadata": {},
   "outputs": [
    {
     "data": {
      "text/plain": [
       "[[1, 2], True, 1.0]"
      ]
     },
     "execution_count": 32,
     "metadata": {},
     "output_type": "execute_result"
    }
   ],
   "source": [
    "x = [1,2]\n",
    "y = True\n",
    "list_b = [x,y,1.0]\n",
    "list_b"
   ]
  },
  {
   "cell_type": "code",
   "execution_count": 33,
   "id": "08142f3e",
   "metadata": {},
   "outputs": [
    {
     "data": {
      "text/plain": [
       "[[3, 2], True, 1.0]"
      ]
     },
     "execution_count": 33,
     "metadata": {},
     "output_type": "execute_result"
    }
   ],
   "source": [
    "x[0] = 3\n",
    "y = not y\n",
    "list_b"
   ]
  },
  {
   "cell_type": "markdown",
   "id": "f5996a68",
   "metadata": {},
   "source": [
    "One very curious case....."
   ]
  },
  {
   "cell_type": "code",
   "execution_count": 34,
   "id": "cb918ebf",
   "metadata": {},
   "outputs": [],
   "source": [
    "tmp = [[]]*10"
   ]
  },
  {
   "cell_type": "code",
   "execution_count": 35,
   "id": "72fcf392",
   "metadata": {},
   "outputs": [
    {
     "data": {
      "text/plain": [
       "[[], [], [], [], [], [], [], [], [], []]"
      ]
     },
     "execution_count": 35,
     "metadata": {},
     "output_type": "execute_result"
    }
   ],
   "source": [
    "tmp"
   ]
  },
  {
   "cell_type": "code",
   "execution_count": 36,
   "id": "9927f343",
   "metadata": {
    "scrolled": true
   },
   "outputs": [
    {
     "data": {
      "text/plain": [
       "[[1], [1], [1], [1], [1], [1], [1], [1], [1], [1]]"
      ]
     },
     "execution_count": 36,
     "metadata": {},
     "output_type": "execute_result"
    }
   ],
   "source": [
    "tmp[0].append(1)\n",
    "tmp"
   ]
  },
  {
   "cell_type": "code",
   "execution_count": 37,
   "id": "1fd525ac",
   "metadata": {},
   "outputs": [
    {
     "data": {
      "text/plain": [
       "[[0], [0], [0], [0], [0], [0], [0], [0], [0], [0]]"
      ]
     },
     "execution_count": 37,
     "metadata": {},
     "output_type": "execute_result"
    }
   ],
   "source": [
    "x = []\n",
    "tmp = [x]*10\n",
    "x.append(0)\n",
    "tmp"
   ]
  },
  {
   "cell_type": "markdown",
   "id": "86c9e43c",
   "metadata": {},
   "source": [
    "### `tuple`"
   ]
  },
  {
   "cell_type": "markdown",
   "id": "4f791d6f",
   "metadata": {},
   "source": [
    "`tuple` is created by comma `,`, when showed, it's shown with `( ,)` bracket "
   ]
  },
  {
   "cell_type": "code",
   "execution_count": null,
   "id": "d803996c",
   "metadata": {},
   "outputs": [],
   "source": [
    "x = 1, \n",
    "type(x)"
   ]
  },
  {
   "cell_type": "code",
   "execution_count": null,
   "id": "80b80f0a",
   "metadata": {},
   "outputs": [],
   "source": [
    "x"
   ]
  },
  {
   "cell_type": "markdown",
   "id": "288607d0",
   "metadata": {},
   "source": [
    "list and others can be converted to `tuple` "
   ]
  },
  {
   "cell_type": "code",
   "execution_count": null,
   "id": "756396de",
   "metadata": {},
   "outputs": [],
   "source": [
    "tuple([1,2,3,\"a\"])"
   ]
  },
  {
   "cell_type": "markdown",
   "id": "2c20ba88",
   "metadata": {},
   "source": [
    "Same for `len`, Indexing, `+`, `*` "
   ]
  },
  {
   "cell_type": "code",
   "execution_count": null,
   "id": "c3672831",
   "metadata": {},
   "outputs": [],
   "source": [
    "tups = 1,2,True,[1,2]"
   ]
  },
  {
   "cell_type": "code",
   "execution_count": null,
   "id": "bcdef5ce",
   "metadata": {},
   "outputs": [],
   "source": [
    "tups[3].append(1)"
   ]
  },
  {
   "cell_type": "code",
   "execution_count": null,
   "id": "0e2f2bb4",
   "metadata": {},
   "outputs": [],
   "source": [
    "len(tups)"
   ]
  },
  {
   "cell_type": "code",
   "execution_count": null,
   "id": "33021463",
   "metadata": {},
   "outputs": [],
   "source": [
    "tups = 1,2,3,4\n",
    "tups +tups"
   ]
  },
  {
   "cell_type": "code",
   "execution_count": null,
   "id": "5e016825",
   "metadata": {},
   "outputs": [],
   "source": [
    "tups * 3"
   ]
  },
  {
   "cell_type": "markdown",
   "id": "766ee401",
   "metadata": {},
   "source": [
    "You cannot `append` or `delete` elements from a tuple without re-creating one.  "
   ]
  },
  {
   "cell_type": "code",
   "execution_count": null,
   "id": "91a6899b",
   "metadata": {},
   "outputs": [],
   "source": [
    "tups = 1,2,True,[1,2]"
   ]
  },
  {
   "cell_type": "code",
   "execution_count": null,
   "id": "6a58ddae",
   "metadata": {},
   "outputs": [],
   "source": [
    "tups.append(1)"
   ]
  },
  {
   "cell_type": "code",
   "execution_count": null,
   "id": "a7a3ac5d",
   "metadata": {},
   "outputs": [],
   "source": [
    "tups.extend([1,2])"
   ]
  },
  {
   "cell_type": "markdown",
   "id": "54b216ba",
   "metadata": {},
   "source": [
    "## Loops `for` `while`"
   ]
  },
  {
   "cell_type": "markdown",
   "id": "8ba3ab56",
   "metadata": {},
   "source": [
    "Loops are used to iterate and apply operations repeatively to an object or to a sequence of objects.  \n",
    "\n",
    "Majorly two types of loops `for` and `while`, "
   ]
  },
  {
   "cell_type": "markdown",
   "id": "ff4cfd77",
   "metadata": {},
   "source": [
    "### `for` and `iterator`"
   ]
  },
  {
   "cell_type": "markdown",
   "id": "b5724588",
   "metadata": {},
   "source": [
    "To use `for` loop, you need an iterable thing, `iterator` or container:\n",
    "\n",
    "* Output of `range` (an `iterator` that goes through intergers)\n",
    "* list\n",
    "* tuple\n",
    "* dict, dict.items(), dict.keys()\n",
    "* np.array\n",
    "* ..."
   ]
  },
  {
   "cell_type": "markdown",
   "id": "ba325c5a",
   "metadata": {},
   "source": [
    "Let's do a simple summation or product of a sequence in an loop."
   ]
  },
  {
   "cell_type": "code",
   "execution_count": null,
   "id": "693c420f",
   "metadata": {
    "scrolled": true
   },
   "outputs": [],
   "source": [
    "S = 0\n",
    "for i in range(100): # remember range starts from 0! 100 is not included\n",
    "    S += i\n",
    "print(S)"
   ]
  },
  {
   "cell_type": "markdown",
   "id": "b2aeaa0e",
   "metadata": {},
   "source": [
    "Note the **indentation** and `:` two key syntax point in `python`"
   ]
  },
  {
   "cell_type": "markdown",
   "id": "5eb297f4",
   "metadata": {},
   "source": [
    "An equivalent `while` loop is like this, you can understand all `for` loop in this fashion"
   ]
  },
  {
   "cell_type": "code",
   "execution_count": null,
   "id": "26c4e8ae",
   "metadata": {},
   "outputs": [],
   "source": [
    "S = 0\n",
    "\n",
    "i = 0 # start `i` from the first element in iterator\n",
    "while True:\n",
    "    S += i\n",
    "    \n",
    "    i += 1 # move `i` to the next element in iterator\n",
    "    if i == 100: # if `i` reaches end of iterator then leave.\n",
    "        break\n",
    "print(S)"
   ]
  },
  {
   "cell_type": "code",
   "execution_count": null,
   "id": "784f400c",
   "metadata": {
    "scrolled": true
   },
   "outputs": [],
   "source": [
    "S = 1\n",
    "for i in range(100): # remember range starts from 0! range(1,101)\n",
    "    S *= i\n",
    "print(S)"
   ]
  },
  {
   "cell_type": "markdown",
   "id": "5b8ce5d4",
   "metadata": {},
   "source": [
    "You can also iterate a list and process them. "
   ]
  },
  {
   "cell_type": "code",
   "execution_count": null,
   "id": "3683b277",
   "metadata": {},
   "outputs": [],
   "source": [
    "data = [1,3,5,7]\n",
    "output = []\n",
    "for d in data:\n",
    "    sq=d**2\n",
    "    output.append(sq)\n",
    "output"
   ]
  },
  {
   "cell_type": "markdown",
   "id": "f0463fdb",
   "metadata": {},
   "source": [
    "Using `enumerate` to get the element + the index of element in case you need both. output of `enumerate` is also an iterator"
   ]
  },
  {
   "cell_type": "code",
   "execution_count": null,
   "id": "520a83b5",
   "metadata": {},
   "outputs": [],
   "source": [
    "data = [1,3,5,7]\n",
    "output = [0]*len(data)\n",
    "for i, d in enumerate(data):\n",
    "    output[i] = d**2\n",
    "output"
   ]
  },
  {
   "cell_type": "markdown",
   "id": "051619b4",
   "metadata": {},
   "source": [
    "### when to use `while` "
   ]
  },
  {
   "cell_type": "markdown",
   "id": "07a95a1a",
   "metadata": {},
   "source": [
    "Sometimes you don't know how many iterations you need before hand!"
   ]
  },
  {
   "cell_type": "markdown",
   "id": "056880f9",
   "metadata": {},
   "source": [
    "**Question**: Get the number of maximal $n$ such that adding 1 to $n$ is smaller than 100"
   ]
  },
  {
   "cell_type": "code",
   "execution_count": null,
   "id": "e3637264",
   "metadata": {},
   "outputs": [],
   "source": [
    "S=0\n",
    "for i in range(1000): # this 1000 is just a guess \n",
    "    S += i\n",
    "    if S > 100:\n",
    "        break\n",
    "print(i-1)"
   ]
  },
  {
   "cell_type": "code",
   "execution_count": null,
   "id": "5857e47a",
   "metadata": {},
   "outputs": [],
   "source": [
    "S=0\n",
    "i=0\n",
    "while True: # Don't need to guess an upper limit here \n",
    "    S += i\n",
    "    if S > 100:\n",
    "        break\n",
    "    i += 1\n",
    "print(i-1)"
   ]
  },
  {
   "cell_type": "markdown",
   "id": "245a8574",
   "metadata": {},
   "source": [
    "### `break`, `continue`"
   ]
  },
  {
   "cell_type": "markdown",
   "id": "be116c75",
   "metadata": {},
   "source": [
    "`break` and `continue` are flow controller together with `for` and `while`\n",
    "* Break get out of the **inner-most** loop\n",
    "* Continue gets into the next loop in the **inner-most** loop"
   ]
  },
  {
   "cell_type": "markdown",
   "id": "fac42afd",
   "metadata": {},
   "source": [
    "**Question**: Sum of all odd numbers < 100"
   ]
  },
  {
   "cell_type": "code",
   "execution_count": null,
   "id": "2c11a745",
   "metadata": {},
   "outputs": [],
   "source": [
    "S=0\n",
    "for i in range(100): # this 1000 is just a guess \n",
    "    if i % 2 == 0: # mod(2)==0 even\n",
    "        continue\n",
    "    S += i\n",
    "print(S)"
   ]
  },
  {
   "cell_type": "markdown",
   "id": "6ad0a2ce",
   "metadata": {},
   "source": [
    "## Conditions `if`"
   ]
  },
  {
   "cell_type": "markdown",
   "id": "110a0e57",
   "metadata": {},
   "source": [
    "`if` takes a bool (True False) or an expression, function outputting bool to decide which branches to go to. \n",
    "\n",
    "* *Note*: when the thing is not `bool` it will be type converted to `bool` as mentioned above. \n",
    "* Note indentation and `:`"
   ]
  },
  {
   "cell_type": "markdown",
   "id": "039126cb",
   "metadata": {},
   "source": [
    "```python\n",
    "if condition1:\n",
    "   # do sth \n",
    "elif condition2:\n",
    "   pass\n",
    "else:\n",
    "   # others\n",
    "```"
   ]
  },
  {
   "cell_type": "markdown",
   "id": "ea8f9a54",
   "metadata": {},
   "source": [
    "## Synthesis: List comprehensions"
   ]
  },
  {
   "cell_type": "markdown",
   "id": "80a3084d",
   "metadata": {},
   "source": [
    "List comprehension is a one-liner way to apply operations on a list of object. Usually used to write things efficiently."
   ]
  },
  {
   "cell_type": "code",
   "execution_count": null,
   "id": "e01b8000",
   "metadata": {},
   "outputs": [],
   "source": [
    "monthnum = list(range(1,12))"
   ]
  },
  {
   "cell_type": "code",
   "execution_count": null,
   "id": "16708a4d",
   "metadata": {},
   "outputs": [],
   "source": [
    "monthnum"
   ]
  },
  {
   "cell_type": "code",
   "execution_count": null,
   "id": "8e9e9e2e",
   "metadata": {},
   "outputs": [],
   "source": [
    "IsHot = [5 < n < 9 for n in monthnum]\n",
    "IsHot"
   ]
  },
  {
   "cell_type": "markdown",
   "id": "1555c72f",
   "metadata": {},
   "source": [
    "List comprehension can be used together with conditionals, to apply only to part of elements. "
   ]
  },
  {
   "cell_type": "code",
   "execution_count": null,
   "id": "62d93865",
   "metadata": {},
   "outputs": [],
   "source": [
    "HotMonth = [n for n in monthnum if 5 < n < 9]\n",
    "HotMonth"
   ]
  },
  {
   "cell_type": "markdown",
   "id": "34e5fd9b",
   "metadata": {},
   "source": [
    "## Define Your Functions `def` "
   ]
  },
  {
   "cell_type": "markdown",
   "id": "80302b40",
   "metadata": {},
   "source": [
    "Function is a way to organize some code into a **black-box with input and output.**"
   ]
  },
  {
   "cell_type": "markdown",
   "id": "90b5af37",
   "metadata": {},
   "source": [
    "**Question**: Sum of all prime numbers < 100"
   ]
  },
  {
   "cell_type": "markdown",
   "id": "e57bae68",
   "metadata": {},
   "source": [
    "We can solve this without writing any function"
   ]
  },
  {
   "cell_type": "code",
   "execution_count": null,
   "id": "858f9857",
   "metadata": {},
   "outputs": [],
   "source": [
    "S = 0\n",
    "for i in range(100): \n",
    "    # Here you want to do something to test if `i` is prime\n",
    "    pass # forget something ?\n",
    "    is_prime = True\n",
    "    for k in range(2,i):\n",
    "        if i % k ==0:\n",
    "            is_prime = False\n",
    "            break # which loop this breaks out of?\n",
    "    # Then do things based on the result\n",
    "    if is_prime: #\n",
    "        S += i\n",
    "#         print(i)\n",
    "print(S)"
   ]
  },
  {
   "cell_type": "markdown",
   "id": "ccda531a",
   "metadata": {},
   "source": [
    "But as you recognize there is **two layer of code** with some input output structure, you can wrap up some code into a function. \n",
    "`isPrime: int->bool` "
   ]
  },
  {
   "cell_type": "code",
   "execution_count": null,
   "id": "b7e40baf",
   "metadata": {},
   "outputs": [],
   "source": [
    "def isPrime(n):\n",
    "    if n < 2: # note this edge case! \n",
    "        return False\n",
    "    for i in range(2,n):\n",
    "        if n % i == 0:\n",
    "            return False\n",
    "    return True\n",
    "\n",
    "S=0\n",
    "for i in range(100): \n",
    "    if isPrime(i): \n",
    "        S += i\n",
    "#         print(i)\n",
    "print(S)"
   ]
  },
  {
   "cell_type": "code",
   "execution_count": null,
   "id": "c9009a01",
   "metadata": {},
   "outputs": [],
   "source": [
    "print(n) # Why this is not defined? "
   ]
  },
  {
   "cell_type": "markdown",
   "id": "7e441187",
   "metadata": {},
   "source": [
    "### Scope, namespace"
   ]
  },
  {
   "cell_type": "markdown",
   "id": "9aad3f7a",
   "metadata": {},
   "source": [
    "With functions you can think of it as a whole, **save you from details within the function**. \n",
    "\n",
    "* Variables defined in the functions are not visible to outside **namespace**\n",
    "* Keep track of scope of variable is super important\n",
    "\n",
    "See this [tutorial example](https://www.w3schools.com/python/python_scope.asp)"
   ]
  },
  {
   "cell_type": "markdown",
   "id": "47b82a44",
   "metadata": {},
   "source": [
    "Functions can be nested to perform complicated things!"
   ]
  },
  {
   "cell_type": "code",
   "execution_count": null,
   "id": "3ae2356b",
   "metadata": {},
   "outputs": [],
   "source": [
    "sum(filter(isPrime,range(100),)) # filter out primes in a range and then sum"
   ]
  },
  {
   "cell_type": "code",
   "execution_count": null,
   "id": "9b961fc1",
   "metadata": {},
   "outputs": [],
   "source": [
    "# get the number of primes \n",
    "def prime_count(n):\n",
    "    # alternatively it can be\n",
    "    # sum(map(isPrime,range(10000)))\n",
    "    return sum(isPrime(i) for i in range(n))"
   ]
  },
  {
   "cell_type": "code",
   "execution_count": null,
   "id": "53bc86d7",
   "metadata": {},
   "outputs": [],
   "source": [
    "# prime_counting curve\n",
    "pr_cnt_curve = np.cumsum(list(map(isPrime,range(10000))))"
   ]
  },
  {
   "cell_type": "code",
   "execution_count": null,
   "id": "c7207955",
   "metadata": {},
   "outputs": [],
   "source": [
    "prime_count(10000)"
   ]
  },
  {
   "cell_type": "code",
   "execution_count": null,
   "id": "7dbdf731",
   "metadata": {},
   "outputs": [],
   "source": [
    "plt.plot(pr_cnt_curve)"
   ]
  },
  {
   "cell_type": "markdown",
   "id": "1cbea239",
   "metadata": {},
   "source": [
    "## Numpy"
   ]
  },
  {
   "cell_type": "code",
   "execution_count": null,
   "id": "436853d3",
   "metadata": {},
   "outputs": [],
   "source": [
    "import numpy as np\n",
    "import matplotlib.pyplot as plt"
   ]
  },
  {
   "cell_type": "markdown",
   "id": "7e501cfd",
   "metadata": {},
   "source": [
    "Really widely used numerical package in `python`. Fundamental library for data sci and scientific computing in python. Basic functionality: \n",
    "\n",
    "* Linear algebra. Matrix, vector multiplication\n",
    "* Vectorized operation. (broadcasting, indexing)\n",
    "* Random generators\n",
    "* ...."
   ]
  },
  {
   "cell_type": "markdown",
   "id": "481c7b77",
   "metadata": {},
   "source": [
    "### Creating Arrarys "
   ]
  },
  {
   "cell_type": "markdown",
   "id": "357e3eb9",
   "metadata": {},
   "source": [
    "Most basic fundamental data type in `numpy` is `np.array`. This is used to create arrays from \n",
    "\n",
    "* list\n",
    "* list of lists / tuples\n",
    "* ranges\n",
    "* etc."
   ]
  },
  {
   "cell_type": "code",
   "execution_count": null,
   "id": "2f1e712c",
   "metadata": {},
   "outputs": [],
   "source": [
    "A=np.array([1,2,3])\n",
    "A"
   ]
  },
  {
   "cell_type": "code",
   "execution_count": null,
   "id": "1bcf1117",
   "metadata": {},
   "outputs": [],
   "source": [
    "type(A)"
   ]
  },
  {
   "cell_type": "code",
   "execution_count": null,
   "id": "21601618",
   "metadata": {},
   "outputs": [],
   "source": [
    "print(A.shape)\n",
    "print(A.ndim)\n",
    "print(A.dtype)"
   ]
  },
  {
   "cell_type": "code",
   "execution_count": null,
   "id": "d7eef8a9",
   "metadata": {},
   "outputs": [],
   "source": [
    "B = np.array([[1.0,2,3],[4,5,6]]) # notice the different datatype\n",
    "B"
   ]
  },
  {
   "cell_type": "code",
   "execution_count": null,
   "id": "762db2b1",
   "metadata": {},
   "outputs": [],
   "source": [
    "print(B.shape)\n",
    "print(B.ndim)\n",
    "print(B.dtype)"
   ]
  },
  {
   "cell_type": "code",
   "execution_count": null,
   "id": "3313cdd0",
   "metadata": {},
   "outputs": [],
   "source": [
    "C = np.array(range(10))\n",
    "C"
   ]
  },
  {
   "cell_type": "markdown",
   "id": "fab643ea",
   "metadata": {},
   "source": [
    "`array` and `range` are combined into `np.arange`"
   ]
  },
  {
   "cell_type": "code",
   "execution_count": null,
   "id": "e064ef21",
   "metadata": {},
   "outputs": [],
   "source": [
    "C = np.arange(10)\n",
    "C"
   ]
  },
  {
   "cell_type": "markdown",
   "id": "bd98fe4f",
   "metadata": {},
   "source": [
    "### Shape Manipulation"
   ]
  },
  {
   "cell_type": "code",
   "execution_count": null,
   "id": "5f6e013a",
   "metadata": {},
   "outputs": [],
   "source": [
    "B.shape"
   ]
  },
  {
   "cell_type": "code",
   "execution_count": null,
   "id": "510d216b",
   "metadata": {},
   "outputs": [],
   "source": [
    "B = np.array([[1.0,2,3],[4,5,6]])\n",
    "print(B) \n",
    "\n",
    "C = B.reshape(3,2)\n",
    "print(C)\n",
    "\n",
    "C = B.reshape(3,-1) # inferring shape from the rest\n",
    "print(C)\n",
    "\n",
    "C = B.reshape(6,1) # adding singleton dimension\n",
    "print(C)\n",
    "\n",
    "C = B.reshape(1,6)\n",
    "print(C)"
   ]
  },
  {
   "cell_type": "code",
   "execution_count": null,
   "id": "c9394bac",
   "metadata": {},
   "outputs": [],
   "source": [
    "C = B.reshape(-1) # all in one, flatten \n",
    "print(C)\n",
    "\n",
    "C = B.flatten() \n",
    "print(C)\n",
    "\n",
    "C = B[:,np.newaxis,:] # adding new axis can use this\n",
    "print(C, C.shape)"
   ]
  },
  {
   "cell_type": "markdown",
   "id": "243845cb",
   "metadata": {},
   "source": [
    "**Logic of value reshaping**: During reshaping, the order of the elements are in a fixed order sequence, always fill in the last dimension first."
   ]
  },
  {
   "cell_type": "markdown",
   "id": "1ac878af",
   "metadata": {},
   "source": [
    "Another important reshaping tools are `transpose`, and its simplified 2d version `.T` "
   ]
  },
  {
   "cell_type": "code",
   "execution_count": null,
   "id": "f60e6ba7",
   "metadata": {
    "scrolled": true
   },
   "outputs": [],
   "source": [
    "B = np.array([[1.0,2,3],[4,5,6]])\n",
    "print(B.T)\n",
    "print(B.transpose(0,1)) # nothing will change\n",
    "print(B.transpose(1,0)) # same as transpose\n",
    "print(B.reshape(3,2)) # Note the difference of transpose and reshape! "
   ]
  },
  {
   "cell_type": "markdown",
   "id": "41acde2d",
   "metadata": {},
   "source": [
    "### Indexing "
   ]
  },
  {
   "cell_type": "markdown",
   "id": "a3656611",
   "metadata": {},
   "source": [
    "See this document for extensive examples https://numpy.org/doc/stable/user/basics.indexing.html"
   ]
  },
  {
   "cell_type": "code",
   "execution_count": null,
   "id": "45f1dfd4",
   "metadata": {},
   "outputs": [],
   "source": [
    "C = np.array(range(15)).reshape([5,3])\n",
    "C"
   ]
  },
  {
   "cell_type": "code",
   "execution_count": null,
   "id": "e74a213a",
   "metadata": {},
   "outputs": [],
   "source": [
    "C[1,1]"
   ]
  },
  {
   "cell_type": "code",
   "execution_count": null,
   "id": "4229db9e",
   "metadata": {},
   "outputs": [],
   "source": [
    "C[-2,-1]"
   ]
  },
  {
   "cell_type": "markdown",
   "id": "330ce888",
   "metadata": {},
   "source": [
    "You can also slice a row or column from array. \n",
    "\n",
    "**Note** these slices are all 1d array, row and col vectors are not different in shape in this manner. This is different from matlab."
   ]
  },
  {
   "cell_type": "code",
   "execution_count": null,
   "id": "b3c263bc",
   "metadata": {},
   "outputs": [],
   "source": [
    "C[1,:]"
   ]
  },
  {
   "cell_type": "code",
   "execution_count": null,
   "id": "73b94398",
   "metadata": {},
   "outputs": [],
   "source": [
    "C[:,1] # note these slices are all 1d array, row and col vectors are not different in shape in this manner"
   ]
  },
  {
   "cell_type": "markdown",
   "id": "046d30af",
   "metadata": {},
   "source": [
    "But this case the slices are 2d arrays of different shapes!"
   ]
  },
  {
   "cell_type": "code",
   "execution_count": null,
   "id": "f3670327",
   "metadata": {},
   "outputs": [],
   "source": [
    "C[:, 1:2]"
   ]
  },
  {
   "cell_type": "code",
   "execution_count": null,
   "id": "aa18998b",
   "metadata": {},
   "outputs": [],
   "source": [
    "C[1:2,:]"
   ]
  },
  {
   "cell_type": "code",
   "execution_count": null,
   "id": "ff70dcf2",
   "metadata": {},
   "outputs": [],
   "source": [
    "C[1] # understand this as if C is list of lists; different from matlab"
   ]
  },
  {
   "cell_type": "code",
   "execution_count": null,
   "id": "6d853fa5",
   "metadata": {},
   "outputs": [],
   "source": [
    "C[:] # everything, not flattened; different from matlab "
   ]
  },
  {
   "cell_type": "markdown",
   "id": "293f1264",
   "metadata": {},
   "source": [
    "One advanced type of indexing is by boolean mask "
   ]
  },
  {
   "cell_type": "code",
   "execution_count": null,
   "id": "c608b80a",
   "metadata": {},
   "outputs": [],
   "source": [
    "monthnum = np.arange(1,13)"
   ]
  },
  {
   "cell_type": "code",
   "execution_count": null,
   "id": "1671a7d3",
   "metadata": {},
   "outputs": [],
   "source": [
    "isHot = (monthnum < 9) * (5 < monthnum)"
   ]
  },
  {
   "cell_type": "code",
   "execution_count": null,
   "id": "b61bef8b",
   "metadata": {},
   "outputs": [],
   "source": [
    "isHot"
   ]
  },
  {
   "cell_type": "code",
   "execution_count": null,
   "id": "ea326f66",
   "metadata": {},
   "outputs": [],
   "source": [
    "monthnum[isHot] # extract only the element corresponding to True "
   ]
  },
  {
   "cell_type": "markdown",
   "id": "68e7ec50",
   "metadata": {},
   "source": [
    "Mask can be applied only to one axis!"
   ]
  },
  {
   "cell_type": "code",
   "execution_count": null,
   "id": "be9d4098",
   "metadata": {},
   "outputs": [],
   "source": [
    "monthnum2 = np.arange(1,37).reshape(3,12)"
   ]
  },
  {
   "cell_type": "code",
   "execution_count": null,
   "id": "930522ea",
   "metadata": {},
   "outputs": [],
   "source": [
    "monthnum2"
   ]
  },
  {
   "cell_type": "code",
   "execution_count": null,
   "id": "23946759",
   "metadata": {},
   "outputs": [],
   "source": [
    "monthnum2[:,isHot]"
   ]
  },
  {
   "cell_type": "code",
   "execution_count": null,
   "id": "3780f5cf",
   "metadata": {},
   "outputs": [],
   "source": [
    "monthnum2[1,isHot]"
   ]
  },
  {
   "cell_type": "code",
   "execution_count": null,
   "id": "aac42d6b",
   "metadata": {},
   "outputs": [],
   "source": [
    "monthnum2[[True, False, False],isHot] # one mask on one dimension"
   ]
  },
  {
   "cell_type": "markdown",
   "id": "0830b917",
   "metadata": {},
   "source": [
    "### Array operations: MatMul and Dot  "
   ]
  },
  {
   "cell_type": "code",
   "execution_count": null,
   "id": "ac0bab9a",
   "metadata": {},
   "outputs": [],
   "source": [
    "np.matmul?"
   ]
  },
  {
   "cell_type": "code",
   "execution_count": null,
   "id": "baa60c04",
   "metadata": {},
   "outputs": [],
   "source": [
    "A = np.arange(15).reshape([5,3])\n",
    "B = np.arange(12).reshape([3,4])\n",
    "C = A@B\n",
    "C"
   ]
  },
  {
   "cell_type": "code",
   "execution_count": null,
   "id": "452853fb",
   "metadata": {},
   "outputs": [],
   "source": [
    "C = np.matmul(A,B)\n",
    "C"
   ]
  },
  {
   "cell_type": "code",
   "execution_count": null,
   "id": "ff94a3f9",
   "metadata": {},
   "outputs": [],
   "source": [
    "np.dot(A,B) # not recommended, but it can work. Its behavior is quite flexible."
   ]
  },
  {
   "cell_type": "markdown",
   "id": "40a086e3",
   "metadata": {},
   "source": [
    "### Array operations: Broadcasting"
   ]
  },
  {
   "cell_type": "markdown",
   "id": "fe47e45e",
   "metadata": {},
   "source": [
    "Numpy can `broadcast` and virtually change shape of variable to make element wise operation happen. This mechanism can be used to do column/row-wise, element-wise operations. e.g. \n",
    "* Scale the channels of an 256,256,3 image separately."
   ]
  },
  {
   "cell_type": "markdown",
   "id": "d714fe49",
   "metadata": {},
   "source": [
    "![](https://numpy.org/devdocs/_images/broadcasting_1.svg)"
   ]
  },
  {
   "cell_type": "markdown",
   "id": "4414b67a",
   "metadata": {},
   "source": [
    "`numpy` will automatically choose the dimension to broadcast: \n",
    "* Dimension have to match exactly. \n",
    "* or one of them is $1$\n",
    "\n",
    "https://numpy.org/doc/stable/user/basics.broadcasting.html"
   ]
  },
  {
   "cell_type": "code",
   "execution_count": null,
   "id": "99043fa8",
   "metadata": {},
   "outputs": [],
   "source": [
    "A = np.arange(15).reshape(3,5)\n",
    "A"
   ]
  },
  {
   "cell_type": "code",
   "execution_count": null,
   "id": "3b7f2d03",
   "metadata": {},
   "outputs": [],
   "source": [
    "b = np.arange(3)"
   ]
  },
  {
   "cell_type": "code",
   "execution_count": null,
   "id": "1ad2a778",
   "metadata": {},
   "outputs": [],
   "source": [
    "A * b"
   ]
  },
  {
   "cell_type": "code",
   "execution_count": null,
   "id": "703fd686",
   "metadata": {},
   "outputs": [],
   "source": [
    "A * b[:,np.newaxis]"
   ]
  },
  {
   "cell_type": "markdown",
   "id": "c82547b5",
   "metadata": {},
   "source": [
    "**Example**: Rectify a sine wave\n",
    "\n",
    "In this example all operations are broadcasted, `>` `<`, `*`, `-` `+` `np.sin`"
   ]
  },
  {
   "cell_type": "code",
   "execution_count": null,
   "id": "aab083ba",
   "metadata": {},
   "outputs": [],
   "source": [
    "X = np.arange(0,2*np.pi,0.05)\n",
    "Sine = np.sin(X)"
   ]
  },
  {
   "cell_type": "code",
   "execution_count": null,
   "id": "cd10c6dd",
   "metadata": {},
   "outputs": [],
   "source": [
    "Sine > 0"
   ]
  },
  {
   "cell_type": "code",
   "execution_count": null,
   "id": "7e716772",
   "metadata": {},
   "outputs": [],
   "source": [
    "absSine = (Sine > 0) * Sine + (Sine < 0) * (- Sine )"
   ]
  },
  {
   "cell_type": "markdown",
   "id": "957162c0",
   "metadata": {},
   "source": [
    "**Example**: outer product of sine wave vector"
   ]
  },
  {
   "cell_type": "code",
   "execution_count": null,
   "id": "a91cf13d",
   "metadata": {},
   "outputs": [],
   "source": [
    "X = np.arange(0,2*np.pi,0.05)\n",
    "Sine = np.sin(X)\n",
    "Sine_outerprod = Sine[:,np.newaxis] * Sine[np.newaxis,:]"
   ]
  },
  {
   "cell_type": "code",
   "execution_count": null,
   "id": "31339323",
   "metadata": {},
   "outputs": [],
   "source": [
    "plt.plot(X,Sine)\n",
    "plt.show()\n",
    "plt.imshow(Sine_outerprod)"
   ]
  },
  {
   "cell_type": "markdown",
   "id": "091cbd82",
   "metadata": {
    "slideshow": {
     "slide_type": "slide"
    }
   },
   "source": [
    "##  Matplotlib\n",
    "\n",
    "Widely used visualization package in `python`, synergize with `numpy` and native python."
   ]
  },
  {
   "cell_type": "markdown",
   "id": "12005067",
   "metadata": {},
   "source": [
    "> Objective: Learn to read matplotlib code."
   ]
  },
  {
   "cell_type": "markdown",
   "id": "ed68fbbc",
   "metadata": {},
   "source": [
    "### Basic plotting: `plot`, `scatter`, `hist`"
   ]
  },
  {
   "cell_type": "markdown",
   "id": "938e0353",
   "metadata": {},
   "source": [
    "These are bread and butter in `plt`, useful to make quick and dirty visualization of your data. These figures are usually not good enough to show others, but good enough to see some trend! \n",
    "\n",
    "**Note**: for better and prettier default plotting, check out `seaborn`, which is built on `plt`."
   ]
  },
  {
   "cell_type": "code",
   "execution_count": null,
   "id": "53778941",
   "metadata": {},
   "outputs": [],
   "source": [
    "plt.plot(range(10))"
   ]
  },
  {
   "cell_type": "code",
   "execution_count": null,
   "id": "6d5c13fb",
   "metadata": {},
   "outputs": [],
   "source": [
    "plt.plot(range(10),np.random.randn(10))"
   ]
  },
  {
   "cell_type": "code",
   "execution_count": null,
   "id": "ac4bea0a",
   "metadata": {},
   "outputs": [],
   "source": [
    "normal_random = np.random.randn(1000)\n",
    "plt.plot(range(1000),normal_random,alpha=0.6)\n",
    "# Note unlike matlab, the default behavior of plt is to add plot on top of each other\n",
    "plt.plot(range(1000),sorted(normal_random),alpha=0.6) "
   ]
  },
  {
   "cell_type": "code",
   "execution_count": null,
   "id": "b6d571b7",
   "metadata": {},
   "outputs": [],
   "source": [
    "plt.scatter(np.random.rand(100),np.random.randn(100))\n",
    "plt.axis(\"square\") # set aspect ratio. similar to matlab"
   ]
  },
  {
   "cell_type": "code",
   "execution_count": null,
   "id": "e6ffac34",
   "metadata": {},
   "outputs": [],
   "source": [
    "plt.hist(np.random.rand(1000))"
   ]
  },
  {
   "cell_type": "code",
   "execution_count": null,
   "id": "e2436d4b",
   "metadata": {},
   "outputs": [],
   "source": [
    "plt.hist2d(np.random.rand(10000),np.random.randn(10000))"
   ]
  },
  {
   "cell_type": "markdown",
   "id": "fa59ca66",
   "metadata": {},
   "source": [
    "### Dissection of a full plotting function "
   ]
  },
  {
   "cell_type": "markdown",
   "id": "98bb9e29",
   "metadata": {},
   "source": [
    "To make a *real* plot or figure, we need more than simple plot function. You need \n",
    "* **Figure / Canvas**, how the plots are organized / layouted, in grid, or sth else. \n",
    "* **Axis**, where to put the plots. \n",
    "* **Annotations** of plots in each axis. "
   ]
  },
  {
   "cell_type": "markdown",
   "id": "d83144f3",
   "metadata": {},
   "source": [
    "To see an introduction to different level of figure objects types, https://matplotlib.org/stable/tutorials/introductory/usage.html"
   ]
  },
  {
   "cell_type": "code",
   "execution_count": null,
   "id": "37aaeafa",
   "metadata": {},
   "outputs": [],
   "source": [
    "# adapted from Ella's Colab notebook\n",
    "fig, ax = plt.subplots(1, 1) # create figure and axes in a 1 by 1 grid. \n",
    "\n",
    "ax.plot(np.arange(-10,0,0.1), np.exp(np.random.randn(100)), # plot some pseudo data\n",
    "        'k', lw = 2) # Additional arguments to styling the plot\n",
    "\n",
    "ax.set(title = 'STA', \n",
    "      xlabel = 'Time before spike (ms)',\n",
    "      ylabel = 'Stimulus intensity'); # annotations\n"
   ]
  },
  {
   "cell_type": "markdown",
   "id": "263e96ef",
   "metadata": {},
   "source": [
    "Here is an unexhaustive list of parts you can control"
   ]
  },
  {
   "cell_type": "markdown",
   "id": "6b983541",
   "metadata": {},
   "source": [
    "<img src=\"https://matplotlib.org/stable/_images/anatomy.png\" width=650>"
   ]
  },
  {
   "cell_type": "markdown",
   "id": "63aadc33",
   "metadata": {},
   "source": [
    "### Learning from Examples in Gallery"
   ]
  },
  {
   "cell_type": "markdown",
   "id": "d42ffaaf",
   "metadata": {},
   "source": [
    "`plt` is a complex package, developping your own ploting function can be time consuming. So starting from simple and someone's existing code is good idea!"
   ]
  },
  {
   "cell_type": "markdown",
   "id": "e64540f0",
   "metadata": {},
   "source": [
    "* Some style useful to draw confusion matrix and some parameter sweep result!\n",
    "https://matplotlib.org/stable/gallery/images_contours_and_fields/image_annotated_heatmap.html\n",
    "* Power spectral representation\n",
    "https://matplotlib.org/stable/gallery/lines_bars_and_markers/spectrum_demo.html\n",
    "* Visualize vector field https://matplotlib.org/stable/gallery/images_contours_and_fields/plot_streamplot.html"
   ]
  },
  {
   "cell_type": "code",
   "execution_count": null,
   "id": "8df58e29",
   "metadata": {},
   "outputs": [],
   "source": []
  }
 ],
 "metadata": {
  "celltoolbar": "原始单元格格式",
  "kernelspec": {
   "display_name": "Python 3",
   "language": "python",
   "name": "python3"
  },
  "language_info": {
   "codemirror_mode": {
    "name": "ipython",
    "version": 3
   },
   "file_extension": ".py",
   "mimetype": "text/x-python",
   "name": "python",
   "nbconvert_exporter": "python",
   "pygments_lexer": "ipython3",
   "version": "3.8.8"
  },
  "toc": {
   "base_numbering": 1,
   "nav_menu": {},
   "number_sections": true,
   "sideBar": true,
   "skip_h1_title": false,
   "title_cell": "Table of Contents",
   "title_sidebar": "Contents",
   "toc_cell": false,
   "toc_position": {
    "height": "calc(100% - 180px)",
    "left": "10px",
    "top": "150px",
    "width": "231.8px"
   },
   "toc_section_display": true,
   "toc_window_display": true
  }
 },
 "nbformat": 4,
 "nbformat_minor": 5
}
