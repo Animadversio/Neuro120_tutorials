{
 "cells": [
  {
   "cell_type": "markdown",
   "id": "de0e119e",
   "metadata": {
    "slideshow": {
     "slide_type": "slide"
    }
   },
   "source": [
    "# Personal introduction "
   ]
  },
  {
   "cell_type": "markdown",
   "id": "8716b8b9",
   "metadata": {},
   "source": [
    "I'm Binxu Wang, my status is a bit odd, grad student moving / transitioning to Harvard Neurobiology program, But I'm as passionate as computational neuroscience as you do. "
   ]
  },
  {
   "cell_type": "markdown",
   "id": "be071b04",
   "metadata": {},
   "source": [
    "* I grew up in Beijing, China. \n",
    "* I was trained in **thoeretical physics** in Peking Univ., \n",
    "* and worked with **computational neuroscientist** Louis Tao before. "
   ]
  },
  {
   "cell_type": "markdown",
   "id": "2d001242",
   "metadata": {},
   "source": [
    "* I came to Neuroscience program in Washington University in St Louis in 2018, working with Dr. Carlos R. Ponce on visual neuroscience in primates. \n",
    "* He moved to Harvard Neurobiology department this fall, so I'm here with you guys!"
   ]
  },
  {
   "cell_type": "markdown",
   "id": "783f6768",
   "metadata": {},
   "source": [
    "We are working on closed loop experiments letting machine learning system and visual system work together. My interest is on analyzing visual representations in the brain and in neural networks. Happy to talk about my research and our lab with you all!"
   ]
  },
  {
   "cell_type": "markdown",
   "id": "325bd1b0",
   "metadata": {},
   "source": [
    "<img src=\"https://github.com/Animadversio/GAN-Geometry/blob/master/img/Poster_thumbnail.png?raw=true\" width=600>"
   ]
  },
  {
   "cell_type": "markdown",
   "id": "90c4195d",
   "metadata": {},
   "source": [
    "I love cat, reading, 3d art etc. out of lab!"
   ]
  },
  {
   "cell_type": "code",
   "execution_count": null,
   "id": "2ea02464",
   "metadata": {},
   "outputs": [],
   "source": [
    "from IPython.display import HTML\n",
    "HTML('<iframe width=\"560\" height=\"315\" src=\"https://www.youtube.com/embed/S_f2qV2_U00?rel=0&amp;controls=0&amp;showinfo=0\" frameborder=\"0\" allowfullscreen></iframe>')\n"
   ]
  },
  {
   "cell_type": "markdown",
   "id": "3428ded2",
   "metadata": {},
   "source": [
    "You can contact me \n",
    "* on Slack. \n",
    "* via email (current one, may be updated) binxu.wang@wustl.edu\n",
    "* Or visit our lab in HMS! https://ponce.hms.harvard.edu/"
   ]
  },
  {
   "cell_type": "markdown",
   "id": "3581d37c",
   "metadata": {},
   "source": [
    "--------------------"
   ]
  },
  {
   "cell_type": "markdown",
   "id": "a8207b8f",
   "metadata": {
    "slideshow": {
     "slide_type": "slide"
    }
   },
   "source": [
    "# Leftover from Linear Algebra Review"
   ]
  },
  {
   "cell_type": "markdown",
   "id": "8533d439",
   "metadata": {
    "slideshow": {
     "slide_type": "slide"
    }
   },
   "source": [
    "## Matrix vector multiplication "
   ]
  },
  {
   "cell_type": "markdown",
   "id": "440e0b53",
   "metadata": {},
   "source": [
    "$$y=Ax$$\n",
    "\n",
    "$$y_i=\\sum_j A_{ij}x_j$$"
   ]
  },
  {
   "cell_type": "markdown",
   "id": "de6a9061",
   "metadata": {
    "slideshow": {
     "slide_type": "slide"
    }
   },
   "source": [
    "## Matrix Multiplication "
   ]
  },
  {
   "cell_type": "markdown",
   "id": "42538cc2",
   "metadata": {},
   "source": [
    "$$AB=C$$\n",
    "\n",
    "$$\\sum_j A_{ij}B_{jk}=C_{ik}$$"
   ]
  },
  {
   "cell_type": "markdown",
   "id": "a70232cc",
   "metadata": {},
   "source": [
    "Notice the shape compatibility of matrix multiplication, if `MatMul(A,B)` is possible, iff\n",
    "\n",
    "* 2nd dimension of $A$ == 1st dimension of $B$\n",
    "* If `A.shape=(l,m)`, `B.shape==(m,n)` then `C.shape==(l,n)`. See figure. \n"
   ]
  },
  {
   "cell_type": "markdown",
   "id": "badb2d88",
   "metadata": {},
   "source": [
    "<img src=https://miro.medium.com/max/1200/0*PPrxrvaBQbLopO2t.png width=\"500\">"
   ]
  },
  {
   "cell_type": "markdown",
   "id": "318e2096",
   "metadata": {},
   "source": [
    "`MatMul` in action"
   ]
  },
  {
   "cell_type": "markdown",
   "id": "306bd9fe",
   "metadata": {},
   "source": [
    "![](https://www.cairographics.org/cookbook/matrix_transform/matrix_multiplication.gif)"
   ]
  },
  {
   "cell_type": "markdown",
   "id": "f7191ffd",
   "metadata": {},
   "source": [
    "Visual intuition of matrix multiplication. "
   ]
  },
  {
   "cell_type": "markdown",
   "id": "872b72d2",
   "metadata": {
    "slideshow": {
     "slide_type": "slide"
    }
   },
   "source": [
    "## Extra: Einstein Summation Rule"
   ]
  },
  {
   "cell_type": "markdown",
   "id": "3dbfaf21",
   "metadata": {},
   "source": [
    "> **How to write it alternatively?**"
   ]
  },
  {
   "cell_type": "markdown",
   "id": "3c98d99b",
   "metadata": {},
   "source": [
    "This is extra, but I studied *physics* so I have to talk about this. "
   ]
  },
  {
   "cell_type": "markdown",
   "id": "32f63497",
   "metadata": {},
   "source": [
    "Let's first recall element-wise formula of matrix multiplication and vector multiplication. "
   ]
  },
  {
   "cell_type": "markdown",
   "id": "9f39201d",
   "metadata": {},
   "source": [
    "$$\\sum_j A_{ij}x_j=y_i$$\n",
    "$$\\sum_j A_{ij}B_{jk}=C_{ik}$$"
   ]
  },
  {
   "cell_type": "markdown",
   "id": "977c390d",
   "metadata": {},
   "source": [
    "Note that you can **imply the summation symbol** without writing it explicitly! \n",
    "\n",
    "$$A_{ij}x_j=y_i$$\n",
    "$$A_{ij}B_{jk}=C_{ik}$$"
   ]
  },
  {
   "cell_type": "markdown",
   "id": "eda3c19a",
   "metadata": {},
   "source": [
    "This is called Einstein summation rule, or Einstein notation. [Anecdotal story]()"
   ]
  },
  {
   "cell_type": "markdown",
   "id": "08c50e62",
   "metadata": {},
   "source": [
    "This notation is really useful when \n",
    "\n",
    "* Matrix multiplication is extended to tensor multiplication. \n",
    "* Taking derivatives of MatMul and deriving equations\n",
    "* Writing expressions efficiently and flexibly. "
   ]
  },
  {
   "cell_type": "markdown",
   "id": "6c460ad3",
   "metadata": {},
   "source": [
    "\n",
    "<img src=https://miro.medium.com/max/666/1*nYbMi6U_wbK_gXbhLzoQsA.png width=\"500\">"
   ]
  },
  {
   "cell_type": "markdown",
   "id": "4f7cc9ac",
   "metadata": {},
   "source": [
    "Many machine learning framework has this exact function, `torch`,`numpy`,`tensorflow` etc.. much easier to write formula. "
   ]
  },
  {
   "cell_type": "code",
   "execution_count": 1,
   "id": "7a188f7b",
   "metadata": {},
   "outputs": [],
   "source": [
    "import numpy as np\n",
    "\n",
    "A = np.array([[1,2,3],[2,3,4]])\n",
    "B = np.array([[5,6,7],[9,3,4]])"
   ]
  },
  {
   "cell_type": "code",
   "execution_count": 3,
   "id": "96659c35",
   "metadata": {},
   "outputs": [
    {
     "data": {
      "text/plain": [
       "array([[1, 2, 3],\n",
       "       [2, 3, 4]])"
      ]
     },
     "execution_count": 3,
     "metadata": {},
     "output_type": "execute_result"
    }
   ],
   "source": [
    "A"
   ]
  },
  {
   "cell_type": "code",
   "execution_count": 4,
   "id": "3e783bbe",
   "metadata": {},
   "outputs": [
    {
     "data": {
      "text/plain": [
       "array([[5, 6, 7],\n",
       "       [9, 3, 4]])"
      ]
     },
     "execution_count": 4,
     "metadata": {},
     "output_type": "execute_result"
    }
   ],
   "source": [
    "B"
   ]
  },
  {
   "cell_type": "code",
   "execution_count": 2,
   "id": "51913d29",
   "metadata": {},
   "outputs": [
    {
     "data": {
      "text/plain": [
       "array([[38, 27],\n",
       "       [56, 43]])"
      ]
     },
     "execution_count": 2,
     "metadata": {},
     "output_type": "execute_result"
    }
   ],
   "source": [
    "A@B.T"
   ]
  },
  {
   "cell_type": "code",
   "execution_count": 5,
   "id": "9f29b1f7",
   "metadata": {},
   "outputs": [
    {
     "data": {
      "text/plain": [
       "array([[23, 12, 15],\n",
       "       [37, 21, 26],\n",
       "       [51, 30, 37]])"
      ]
     },
     "execution_count": 5,
     "metadata": {},
     "output_type": "execute_result"
    }
   ],
   "source": [
    "A.T@B"
   ]
  },
  {
   "cell_type": "code",
   "execution_count": 6,
   "id": "25410e5f",
   "metadata": {},
   "outputs": [
    {
     "data": {
      "text/plain": [
       "array([[23, 12, 15],\n",
       "       [37, 21, 26],\n",
       "       [51, 30, 37]])"
      ]
     },
     "execution_count": 6,
     "metadata": {},
     "output_type": "execute_result"
    }
   ],
   "source": [
    "np.einsum(\"ij,ik->jk\",A,B)"
   ]
  },
  {
   "cell_type": "code",
   "execution_count": 7,
   "id": "7ad990b0",
   "metadata": {},
   "outputs": [
    {
     "data": {
      "text/plain": [
       "array([[38, 27],\n",
       "       [56, 43]])"
      ]
     },
     "execution_count": 7,
     "metadata": {},
     "output_type": "execute_result"
    }
   ],
   "source": [
    "np.einsum(\"ij,kj->ik\",A,B)"
   ]
  },
  {
   "cell_type": "markdown",
   "id": "17c9df72",
   "metadata": {
    "slideshow": {
     "slide_type": "slide"
    }
   },
   "source": [
    "## Extra: Computational Complexity"
   ]
  },
  {
   "cell_type": "markdown",
   "id": "731381fa",
   "metadata": {},
   "source": [
    "> **How many operations is needed in a Matrix Multiplication?**"
   ]
  },
  {
   "cell_type": "markdown",
   "id": "aa523d23",
   "metadata": {},
   "source": [
    "```python\n",
    "# Input: matrices A and B\n",
    "def matmul(A,B):\n",
    "    n, m = A.shape\n",
    "    mm, p = B.shape\n",
    "    assert m == mm\n",
    "    for i in range(n):\n",
    "        for j range(p):\n",
    "        S = 0\n",
    "        for k from range(m):\n",
    "            S += A[i,k] * B[k,j]\n",
    "        C[i,j] = S\n",
    "    return C\n",
    "```"
   ]
  },
  {
   "cell_type": "markdown",
   "id": "0fb085ea",
   "metadata": {},
   "source": [
    "Naively it's on the order of `O(mnp)`"
   ]
  },
  {
   "cell_type": "markdown",
   "id": "7a9ebb30",
   "metadata": {},
   "source": [
    "Some pointers\n",
    "\n",
    "* [Wiki](https://en.wikipedia.org/wiki/Matrix_multiplication_algorithm) "
   ]
  },
  {
   "cell_type": "markdown",
   "id": "609e3761",
   "metadata": {},
   "source": [
    "### Additional Note: MatMul and GPU"
   ]
  },
  {
   "cell_type": "markdown",
   "id": "3b0e6fc9",
   "metadata": {},
   "source": [
    "`MatMul` is the basic operation of most deep learning system. Ability to compute it fast is a great gain! "
   ]
  },
  {
   "cell_type": "markdown",
   "id": "17916387",
   "metadata": {},
   "source": [
    "Note that the element wise computation is *parallelizable*, and GPU is really good at this.\n",
    "$$A_{ij}B_{jk}=C_{ik}$$\n",
    "\n",
    "Python library like `torch`, `tensorflow`, `cupy` etc. can all use MatMul on GPU (implemented in `CUDA`) which makes it much much faster. "
   ]
  },
  {
   "cell_type": "markdown",
   "id": "2626fcd5",
   "metadata": {},
   "source": [
    "---------------------------------"
   ]
  },
  {
   "cell_type": "markdown",
   "id": "9d98d566",
   "metadata": {
    "slideshow": {
     "slide_type": "slide"
    }
   },
   "source": [
    "# Python Basic"
   ]
  },
  {
   "cell_type": "markdown",
   "id": "c8465cae",
   "metadata": {},
   "source": [
    "**Creator**: Binxu Wang\n",
    "* Some material borrowed from Timothy Holy"
   ]
  },
  {
   "cell_type": "markdown",
   "id": "3332cea5",
   "metadata": {},
   "source": [
    "> How many of you have coded before?"
   ]
  },
  {
   "cell_type": "markdown",
   "id": "5ed88220",
   "metadata": {},
   "source": [
    "Just like other programming languages, `Python` have variables and the commands / statements operates on them. \n"
   ]
  },
  {
   "cell_type": "markdown",
   "id": "ed2e4a66",
   "metadata": {},
   "source": [
    "We will first introduce the basic data types, the container data types, and then the numeric data types in `numpy`. "
   ]
  },
  {
   "cell_type": "markdown",
   "id": "b56d4b9b",
   "metadata": {},
   "source": [
    "Then we introduce the [control flow](https://docs.python.org/3/tutorial/controlflow.html) tools: `if` `for` `while`. \n",
    "\n",
    "\n",
    "Note **function** is another highly useful tool for flow control, but not covered extensively in this tutorial."
   ]
  },
  {
   "cell_type": "markdown",
   "id": "762b8364",
   "metadata": {},
   "source": [
    "## Meta Knowledge"
   ]
  },
  {
   "cell_type": "markdown",
   "id": "71e911eb",
   "metadata": {},
   "source": [
    "> `python` cannot be learnt in a section, so does any package in it. Some meta-knowledge will make it faster!"
   ]
  },
  {
   "cell_type": "markdown",
   "id": "c9f137d5",
   "metadata": {},
   "source": [
    "### Read document and help of function"
   ]
  },
  {
   "cell_type": "code",
   "execution_count": 9,
   "id": "aa2479db",
   "metadata": {},
   "outputs": [
    {
     "name": "stdout",
     "output_type": "stream",
     "text": [
      "Help on built-in function len in module builtins:\n",
      "\n",
      "len(obj, /)\n",
      "    Return the number of items in a container.\n",
      "\n"
     ]
    }
   ],
   "source": [
    "help(len)"
   ]
  },
  {
   "cell_type": "code",
   "execution_count": 10,
   "id": "dcd394de",
   "metadata": {},
   "outputs": [
    {
     "name": "stdout",
     "output_type": "stream",
     "text": [
      "Help on built-in function sorted in module builtins:\n",
      "\n",
      "sorted(iterable, /, *, key=None, reverse=False)\n",
      "    Return a new list containing all items from the iterable in ascending order.\n",
      "    \n",
      "    A custom key function can be supplied to customize the sort order, and the\n",
      "    reverse flag can be set to request the result in descending order.\n",
      "\n"
     ]
    }
   ],
   "source": [
    "help(sorted) # built-in function! "
   ]
  },
  {
   "cell_type": "code",
   "execution_count": 11,
   "id": "e0fee933",
   "metadata": {},
   "outputs": [],
   "source": [
    "# ipython short cut\n",
    "?range "
   ]
  },
  {
   "cell_type": "code",
   "execution_count": 13,
   "id": "73777f8d",
   "metadata": {},
   "outputs": [
    {
     "data": {
      "text/plain": [
       "range"
      ]
     },
     "execution_count": 13,
     "metadata": {},
     "output_type": "execute_result"
    }
   ],
   "source": [
    "range(4)"
   ]
  },
  {
   "cell_type": "code",
   "execution_count": 14,
   "id": "3b9efa35",
   "metadata": {},
   "outputs": [],
   "source": [
    "np.arange?"
   ]
  },
  {
   "cell_type": "markdown",
   "id": "e2e1206c",
   "metadata": {},
   "source": [
    "### Inquire the type (and shape) of variable "
   ]
  },
  {
   "cell_type": "code",
   "execution_count": null,
   "id": "cb3d54de",
   "metadata": {},
   "outputs": [],
   "source": [
    "type(\"your question\")"
   ]
  },
  {
   "cell_type": "markdown",
   "id": "b16b9b98",
   "metadata": {},
   "source": [
    "`shift+Tab` to invoke inline inspection"
   ]
  },
  {
   "cell_type": "markdown",
   "id": "0606ac6e",
   "metadata": {},
   "source": [
    "More on shapes down below..."
   ]
  },
  {
   "cell_type": "markdown",
   "id": "403590f5",
   "metadata": {},
   "source": [
    "### `print` out results to see"
   ]
  },
  {
   "cell_type": "code",
   "execution_count": null,
   "id": "e0961dad",
   "metadata": {},
   "outputs": [],
   "source": [
    "a = 1\n",
    "b = 1\n",
    "print(a+b,\"=\",a,\"+\",b) # you need bracket ! "
   ]
  },
  {
   "cell_type": "code",
   "execution_count": null,
   "id": "d32d81ab",
   "metadata": {},
   "outputs": [],
   "source": [
    "print(\"%d=%d+%d\"%(a+b,a,b))"
   ]
  },
  {
   "cell_type": "markdown",
   "id": "c99c9f59",
   "metadata": {},
   "source": [
    "## data type"
   ]
  },
  {
   "cell_type": "markdown",
   "id": "a146a11b",
   "metadata": {},
   "source": [
    "Variables have `type` and different `type` of variables are equipped with different methods they can use! Same operator may have different effect when operating on different types\n",
    "\n",
    "Here are some basic data types in `Python`. \n",
    "\n",
    "* int\n",
    "* float\n",
    "* str\n",
    "* bool"
   ]
  },
  {
   "cell_type": "code",
   "execution_count": 15,
   "id": "f0bbcb43",
   "metadata": {},
   "outputs": [
    {
     "data": {
      "text/plain": [
       "int"
      ]
     },
     "execution_count": 15,
     "metadata": {},
     "output_type": "execute_result"
    }
   ],
   "source": [
    "type(1)"
   ]
  },
  {
   "cell_type": "code",
   "execution_count": 16,
   "id": "d887ec33",
   "metadata": {},
   "outputs": [
    {
     "data": {
      "text/plain": [
       "float"
      ]
     },
     "execution_count": 16,
     "metadata": {},
     "output_type": "execute_result"
    }
   ],
   "source": [
    "type(1.0)"
   ]
  },
  {
   "cell_type": "code",
   "execution_count": 17,
   "id": "cd619889",
   "metadata": {},
   "outputs": [
    {
     "data": {
      "text/plain": [
       "str"
      ]
     },
     "execution_count": 17,
     "metadata": {},
     "output_type": "execute_result"
    }
   ],
   "source": [
    "type(\"compneuro\")"
   ]
  },
  {
   "cell_type": "code",
   "execution_count": 18,
   "id": "7b8a7152",
   "metadata": {
    "scrolled": true
   },
   "outputs": [
    {
     "data": {
      "text/plain": [
       "bool"
      ]
     },
     "execution_count": 18,
     "metadata": {},
     "output_type": "execute_result"
    }
   ],
   "source": [
    "type(True)"
   ]
  },
  {
   "cell_type": "code",
   "execution_count": null,
   "id": "fa83e5fa",
   "metadata": {
    "scrolled": true
   },
   "outputs": [],
   "source": [
    "type(float)"
   ]
  },
  {
   "cell_type": "code",
   "execution_count": 19,
   "id": "316e882b",
   "metadata": {},
   "outputs": [
    {
     "data": {
      "text/plain": [
       "(2, 2.0, '11')"
      ]
     },
     "execution_count": 19,
     "metadata": {},
     "output_type": "execute_result"
    }
   ],
   "source": [
    "# compare the different result \n",
    "1 + 1, 1.0 + 1.0, \"1\" + \"1\" "
   ]
  },
  {
   "cell_type": "markdown",
   "id": "bb652b1c",
   "metadata": {},
   "source": [
    "Python is a **dynamically typed language**. You don't need to declare type **explicitly** when creating variable."
   ]
  },
  {
   "cell_type": "code",
   "execution_count": null,
   "id": "332a9a4c",
   "metadata": {},
   "outputs": [],
   "source": [
    "a = 1\n",
    "type(a)"
   ]
  },
  {
   "cell_type": "code",
   "execution_count": null,
   "id": "918f85b8",
   "metadata": {},
   "outputs": [],
   "source": [
    "b = 1.0\n",
    "type(b)"
   ]
  },
  {
   "cell_type": "code",
   "execution_count": null,
   "id": "6aa54de1",
   "metadata": {
    "scrolled": true
   },
   "outputs": [],
   "source": [
    "b, type(a+b)"
   ]
  },
  {
   "cell_type": "markdown",
   "id": "2d8fbd27",
   "metadata": {},
   "source": [
    "**Type conversion** is an important operation in basic and high level python. Name of the type can usually work as type converter. \n",
    "\n",
    "Many times, **type conversion** will run under the hood to convert the type to the correct required ones. Some type conversion rules are critical. (those to `bool`)"
   ]
  },
  {
   "cell_type": "code",
   "execution_count": 21,
   "id": "eccae6ad",
   "metadata": {},
   "outputs": [
    {
     "data": {
      "text/plain": [
       "1.0"
      ]
     },
     "execution_count": 21,
     "metadata": {},
     "output_type": "execute_result"
    }
   ],
   "source": [
    "float(1)"
   ]
  },
  {
   "cell_type": "code",
   "execution_count": 22,
   "id": "024581a9",
   "metadata": {},
   "outputs": [
    {
     "data": {
      "text/plain": [
       "True"
      ]
     },
     "execution_count": 22,
     "metadata": {},
     "output_type": "execute_result"
    }
   ],
   "source": [
    "bool(2)"
   ]
  },
  {
   "cell_type": "code",
   "execution_count": 23,
   "id": "4af849b1",
   "metadata": {},
   "outputs": [
    {
     "data": {
      "text/plain": [
       "True"
      ]
     },
     "execution_count": 23,
     "metadata": {},
     "output_type": "execute_result"
    }
   ],
   "source": [
    "bool(\"s\")"
   ]
  },
  {
   "cell_type": "code",
   "execution_count": 24,
   "id": "495e475e",
   "metadata": {},
   "outputs": [
    {
     "data": {
      "text/plain": [
       "False"
      ]
     },
     "execution_count": 24,
     "metadata": {},
     "output_type": "execute_result"
    }
   ],
   "source": [
    "bool(\"\")"
   ]
  },
  {
   "cell_type": "code",
   "execution_count": null,
   "id": "b8adf6f3",
   "metadata": {},
   "outputs": [],
   "source": [
    "str(1)"
   ]
  },
  {
   "cell_type": "code",
   "execution_count": 25,
   "id": "be51dc6b",
   "metadata": {},
   "outputs": [
    {
     "data": {
      "text/plain": [
       "'1.0'"
      ]
     },
     "execution_count": 25,
     "metadata": {},
     "output_type": "execute_result"
    }
   ],
   "source": [
    "str(float(1))"
   ]
  },
  {
   "cell_type": "code",
   "execution_count": 26,
   "id": "a7044b3b",
   "metadata": {},
   "outputs": [
    {
     "data": {
      "text/plain": [
       "1.0"
      ]
     },
     "execution_count": 26,
     "metadata": {},
     "output_type": "execute_result"
    }
   ],
   "source": [
    "float(bool(2))"
   ]
  },
  {
   "cell_type": "markdown",
   "id": "9615bc98",
   "metadata": {},
   "source": [
    "### Basic Containers "
   ]
  },
  {
   "cell_type": "markdown",
   "id": "72d1190a",
   "metadata": {},
   "source": [
    "Basic data types can be put into **containers**. The basic containers are `list` `tuple` `dict`. Unlike array in C++ or Matlab, these containers can contain anything"
   ]
  },
  {
   "cell_type": "markdown",
   "id": "c7cdf0fc",
   "metadata": {},
   "source": [
    "### `list`"
   ]
  },
  {
   "cell_type": "markdown",
   "id": "ef8edb54",
   "metadata": {},
   "source": [
    "* `list` is created by the `[ ]` symbol. It contains any variables. (or containers)\n"
   ]
  },
  {
   "cell_type": "code",
   "execution_count": 27,
   "id": "7d2ce034",
   "metadata": {},
   "outputs": [
    {
     "data": {
      "text/plain": [
       "[1.0, 1, '1.0', [1, 2]]"
      ]
     },
     "execution_count": 27,
     "metadata": {},
     "output_type": "execute_result"
    }
   ],
   "source": [
    "a = 1.0\n",
    "b = 1\n",
    "list_a = [a, b, \"1.0\", [1,2]]\n",
    "list_a"
   ]
  },
  {
   "cell_type": "markdown",
   "id": "b67abedb",
   "metadata": {},
   "source": [
    "`len` can be applied to lists to see how many elements are there."
   ]
  },
  {
   "cell_type": "code",
   "execution_count": null,
   "id": "1187a04b",
   "metadata": {},
   "outputs": [],
   "source": [
    "?len"
   ]
  },
  {
   "cell_type": "code",
   "execution_count": 28,
   "id": "1a12300b",
   "metadata": {
    "scrolled": true
   },
   "outputs": [
    {
     "data": {
      "text/plain": [
       "4"
      ]
     },
     "execution_count": 28,
     "metadata": {},
     "output_type": "execute_result"
    }
   ],
   "source": [
    "len(list_a)"
   ]
  },
  {
   "cell_type": "markdown",
   "id": "7ba460d0",
   "metadata": {},
   "source": [
    "* Conceptually, list is a mapping from **natural numbers** to anything. \n",
    "* `[ ]` is the symbol for indexing -- get the object by the index, i.e. mapping integers to object. \n",
    "* Note the index starts from 0 and end in `L-1`"
   ]
  },
  {
   "cell_type": "code",
   "execution_count": null,
   "id": "d1cf43a2",
   "metadata": {},
   "outputs": [],
   "source": [
    "a = 1.0\n",
    "b = 1\n",
    "list_a = [a, b, \"1.0\", [1,2]]"
   ]
  },
  {
   "cell_type": "markdown",
   "id": "26f30b1c",
   "metadata": {},
   "source": [
    "#### list indexing"
   ]
  },
  {
   "cell_type": "code",
   "execution_count": null,
   "id": "1da890e7",
   "metadata": {},
   "outputs": [],
   "source": [
    "list_a[0]"
   ]
  },
  {
   "cell_type": "code",
   "execution_count": null,
   "id": "131e3e7c",
   "metadata": {},
   "outputs": [],
   "source": [
    "list_a[2]"
   ]
  },
  {
   "cell_type": "code",
   "execution_count": null,
   "id": "82bf9fc9",
   "metadata": {},
   "outputs": [],
   "source": [
    "list_a[-1]"
   ]
  },
  {
   "cell_type": "code",
   "execution_count": null,
   "id": "7c0afd7c",
   "metadata": {},
   "outputs": [],
   "source": [
    "list_a[-2]"
   ]
  },
  {
   "cell_type": "markdown",
   "id": "0a6f418d",
   "metadata": {},
   "source": [
    "Note range indexing `a:b` will have `b-a` objects, `list[b]` is excluded."
   ]
  },
  {
   "cell_type": "code",
   "execution_count": null,
   "id": "c5ea36ea",
   "metadata": {},
   "outputs": [],
   "source": [
    "list_a[1:4]"
   ]
  },
  {
   "cell_type": "code",
   "execution_count": null,
   "id": "2caa108c",
   "metadata": {
    "scrolled": true
   },
   "outputs": [],
   "source": [
    "list_a[:4:2] # adding step size"
   ]
  },
  {
   "cell_type": "code",
   "execution_count": null,
   "id": "5129d0b0",
   "metadata": {
    "scrolled": true
   },
   "outputs": [],
   "source": [
    "list_a[3][1] # Recursive indexing "
   ]
  },
  {
   "cell_type": "markdown",
   "id": "5397a083",
   "metadata": {},
   "source": [
    "#### Basic operations `+` `*` `in` "
   ]
  },
  {
   "cell_type": "markdown",
   "id": "4f00f999",
   "metadata": {},
   "source": [
    "Adding list will concatenate them:"
   ]
  },
  {
   "cell_type": "code",
   "execution_count": null,
   "id": "db042266",
   "metadata": {},
   "outputs": [],
   "source": [
    "[\"a\",2,3]+[3]"
   ]
  },
  {
   "cell_type": "markdown",
   "id": "45ac8afe",
   "metadata": {},
   "source": [
    "multply list will replicate it, "
   ]
  },
  {
   "cell_type": "code",
   "execution_count": null,
   "id": "0998994c",
   "metadata": {},
   "outputs": [],
   "source": [
    "tmp = [\"a\"]*10\n",
    "tmp"
   ]
  },
  {
   "cell_type": "markdown",
   "id": "71ee5d41",
   "metadata": {},
   "source": [
    "`in` test inclusion of an element "
   ]
  },
  {
   "cell_type": "code",
   "execution_count": null,
   "id": "24d42ed4",
   "metadata": {},
   "outputs": [],
   "source": [
    "tmp = [1,5,2,3,7]\n",
    "7 in tmp"
   ]
  },
  {
   "cell_type": "markdown",
   "id": "0bb7bbcd",
   "metadata": {},
   "source": [
    "`in` does not test for inclusion of subsequence, only element"
   ]
  },
  {
   "cell_type": "code",
   "execution_count": null,
   "id": "27734130",
   "metadata": {},
   "outputs": [],
   "source": [
    "[7] in tmp"
   ]
  },
  {
   "cell_type": "markdown",
   "id": "d149999c",
   "metadata": {},
   "source": [
    "#### Methods of a container"
   ]
  },
  {
   "cell_type": "code",
   "execution_count": null,
   "id": "abaa9ff9",
   "metadata": {},
   "outputs": [],
   "source": [
    "a = 1.0\n",
    "b = 1\n",
    "list_a = [a, b, \"1.0\", [1,2]]\n",
    "list_a"
   ]
  },
  {
   "cell_type": "code",
   "execution_count": null,
   "id": "eadad627",
   "metadata": {},
   "outputs": [],
   "source": [
    "list_a.append?"
   ]
  },
  {
   "cell_type": "code",
   "execution_count": null,
   "id": "ffc6023d",
   "metadata": {},
   "outputs": [],
   "source": [
    "list_a.append(True) # append one object \n",
    "list_a"
   ]
  },
  {
   "cell_type": "code",
   "execution_count": null,
   "id": "0bbf7353",
   "metadata": {},
   "outputs": [],
   "source": [
    "list_a.extend([15, False]) # extend a sequence of object "
   ]
  },
  {
   "cell_type": "code",
   "execution_count": null,
   "id": "48e52a36",
   "metadata": {},
   "outputs": [],
   "source": [
    "list_a"
   ]
  },
  {
   "cell_type": "markdown",
   "id": "b984f399",
   "metadata": {},
   "source": [
    "Argument to `extend` must be `iterable` e.g. list or tuple!"
   ]
  },
  {
   "cell_type": "code",
   "execution_count": null,
   "id": "cdf80f90",
   "metadata": {},
   "outputs": [],
   "source": [
    "list_a.extend(1)"
   ]
  },
  {
   "cell_type": "markdown",
   "id": "5beba1e8",
   "metadata": {},
   "source": [
    "**Question**: the difference of outcome?"
   ]
  },
  {
   "cell_type": "code",
   "execution_count": null,
   "id": "bc9746ca",
   "metadata": {},
   "outputs": [],
   "source": [
    "A = [1]\n",
    "B = [1]\n",
    "A.append([1,2])\n",
    "B.extend([1,2])"
   ]
  },
  {
   "cell_type": "code",
   "execution_count": null,
   "id": "e1c6ec6e",
   "metadata": {
    "scrolled": true
   },
   "outputs": [],
   "source": [
    "print(A)\n",
    "print(B)"
   ]
  },
  {
   "cell_type": "markdown",
   "id": "d1c2a852",
   "metadata": {},
   "source": [
    "Find the index of an element by `index`, it will throw an error when not included. (inverse mapping)"
   ]
  },
  {
   "cell_type": "code",
   "execution_count": null,
   "id": "73b245e9",
   "metadata": {},
   "outputs": [],
   "source": [
    "tmp.index(7)"
   ]
  },
  {
   "cell_type": "code",
   "execution_count": null,
   "id": "fd20ba66",
   "metadata": {},
   "outputs": [],
   "source": [
    "tmp.index(8)"
   ]
  },
  {
   "cell_type": "markdown",
   "id": "da0c4679",
   "metadata": {},
   "source": [
    "More material on these methods\n",
    "\n",
    "* Official documentation https://docs.python.org/3/tutorial/datastructures.html\n",
    "* W3 playground https://www.w3schools.com/python/python_ref_list.asp\n",
    "\n"
   ]
  },
  {
   "cell_type": "markdown",
   "id": "3a8deb09",
   "metadata": {},
   "source": [
    "#### Caveat: Changing elements"
   ]
  },
  {
   "cell_type": "markdown",
   "id": "6f497ad1",
   "metadata": {},
   "source": [
    "> **Does container store value of a variable or the variable itself?**\n",
    "\n",
    "* If elements of a list is a **composite** variable (container or class), then the value of this element can change with the variable. \n",
    "* If it's a basic variable then the element's value will not change"
   ]
  },
  {
   "cell_type": "code",
   "execution_count": 29,
   "id": "35e7c333",
   "metadata": {},
   "outputs": [
    {
     "data": {
      "text/plain": [
       "['a', True, 1.0]"
      ]
     },
     "execution_count": 29,
     "metadata": {},
     "output_type": "execute_result"
    }
   ],
   "source": [
    "x = \"a\"\n",
    "y = True\n",
    "list_b = [x,y,1.0]\n",
    "list_b"
   ]
  },
  {
   "cell_type": "code",
   "execution_count": 30,
   "id": "c534a433",
   "metadata": {},
   "outputs": [
    {
     "data": {
      "text/plain": [
       "['a', True, 1.0]"
      ]
     },
     "execution_count": 30,
     "metadata": {},
     "output_type": "execute_result"
    }
   ],
   "source": [
    "x += \"b\"\n",
    "list_b"
   ]
  },
  {
   "cell_type": "code",
   "execution_count": 32,
   "id": "c7ca585a",
   "metadata": {},
   "outputs": [
    {
     "data": {
      "text/plain": [
       "[[1, 2], True, 1.0]"
      ]
     },
     "execution_count": 32,
     "metadata": {},
     "output_type": "execute_result"
    }
   ],
   "source": [
    "x = [1,2]\n",
    "y = True\n",
    "list_b = [x,y,1.0]\n",
    "list_b"
   ]
  },
  {
   "cell_type": "code",
   "execution_count": 33,
   "id": "62033d26",
   "metadata": {},
   "outputs": [
    {
     "data": {
      "text/plain": [
       "[[3, 2], True, 1.0]"
      ]
     },
     "execution_count": 33,
     "metadata": {},
     "output_type": "execute_result"
    }
   ],
   "source": [
    "x[0] = 3\n",
    "y = not y\n",
    "list_b"
   ]
  },
  {
   "cell_type": "markdown",
   "id": "b3f72020",
   "metadata": {},
   "source": [
    "One very curious case....."
   ]
  },
  {
   "cell_type": "code",
   "execution_count": 34,
   "id": "3b79da97",
   "metadata": {},
   "outputs": [],
   "source": [
    "tmp = [[]]*10"
   ]
  },
  {
   "cell_type": "code",
   "execution_count": 35,
   "id": "565ae3f5",
   "metadata": {},
   "outputs": [
    {
     "data": {
      "text/plain": [
       "[[], [], [], [], [], [], [], [], [], []]"
      ]
     },
     "execution_count": 35,
     "metadata": {},
     "output_type": "execute_result"
    }
   ],
   "source": [
    "tmp"
   ]
  },
  {
   "cell_type": "code",
   "execution_count": 36,
   "id": "cead1a05",
   "metadata": {
    "scrolled": true
   },
   "outputs": [
    {
     "data": {
      "text/plain": [
       "[[1], [1], [1], [1], [1], [1], [1], [1], [1], [1]]"
      ]
     },
     "execution_count": 36,
     "metadata": {},
     "output_type": "execute_result"
    }
   ],
   "source": [
    "tmp[0].append(1)\n",
    "tmp"
   ]
  },
  {
   "cell_type": "code",
   "execution_count": 37,
   "id": "3c1b7a89",
   "metadata": {},
   "outputs": [
    {
     "data": {
      "text/plain": [
       "[[0], [0], [0], [0], [0], [0], [0], [0], [0], [0]]"
      ]
     },
     "execution_count": 37,
     "metadata": {},
     "output_type": "execute_result"
    }
   ],
   "source": [
    "x = []\n",
    "tmp = [x]*10\n",
    "x.append(0)\n",
    "tmp"
   ]
  },
  {
   "cell_type": "markdown",
   "id": "028471d8",
   "metadata": {},
   "source": [
    "### `tuple`"
   ]
  },
  {
   "cell_type": "markdown",
   "id": "88e90d48",
   "metadata": {},
   "source": [
    "`tuple` is created by comma `,`, when showed, it's shown with `( ,)` bracket "
   ]
  },
  {
   "cell_type": "code",
   "execution_count": 38,
   "id": "f66e1b9a",
   "metadata": {},
   "outputs": [
    {
     "data": {
      "text/plain": [
       "tuple"
      ]
     },
     "execution_count": 38,
     "metadata": {},
     "output_type": "execute_result"
    }
   ],
   "source": [
    "x = 1, \n",
    "type(x)"
   ]
  },
  {
   "cell_type": "code",
   "execution_count": 39,
   "id": "ae371e3d",
   "metadata": {},
   "outputs": [
    {
     "data": {
      "text/plain": [
       "(1,)"
      ]
     },
     "execution_count": 39,
     "metadata": {},
     "output_type": "execute_result"
    }
   ],
   "source": [
    "x"
   ]
  },
  {
   "cell_type": "markdown",
   "id": "943d49c5",
   "metadata": {},
   "source": [
    "list and others can be converted to `tuple` "
   ]
  },
  {
   "cell_type": "code",
   "execution_count": 40,
   "id": "cd1f0cfe",
   "metadata": {},
   "outputs": [
    {
     "data": {
      "text/plain": [
       "(1, 2, 3, 'a')"
      ]
     },
     "execution_count": 40,
     "metadata": {},
     "output_type": "execute_result"
    }
   ],
   "source": [
    "tuple([1,2,3,\"a\"])"
   ]
  },
  {
   "cell_type": "markdown",
   "id": "bf9878b2",
   "metadata": {},
   "source": [
    "Same for `len`, Indexing, `+`, `*` "
   ]
  },
  {
   "cell_type": "code",
   "execution_count": 41,
   "id": "4ce4e03e",
   "metadata": {},
   "outputs": [],
   "source": [
    "tups = 1,2,True,[1,2]"
   ]
  },
  {
   "cell_type": "code",
   "execution_count": 42,
   "id": "f443ddaa",
   "metadata": {},
   "outputs": [],
   "source": [
    "tups[3].append(1)"
   ]
  },
  {
   "cell_type": "code",
   "execution_count": 43,
   "id": "19e03633",
   "metadata": {},
   "outputs": [
    {
     "ename": "TypeError",
     "evalue": "'tuple' object does not support item assignment",
     "output_type": "error",
     "traceback": [
      "\u001b[1;31m---------------------------------------------------------------------------\u001b[0m",
      "\u001b[1;31mTypeError\u001b[0m                                 Traceback (most recent call last)",
      "\u001b[1;32m<ipython-input-43-c273a7d4cfde>\u001b[0m in \u001b[0;36m<module>\u001b[1;34m\u001b[0m\n\u001b[1;32m----> 1\u001b[1;33m \u001b[0mtups\u001b[0m\u001b[1;33m[\u001b[0m\u001b[1;36m2\u001b[0m\u001b[1;33m]\u001b[0m \u001b[1;33m=\u001b[0m \u001b[1;32mFalse\u001b[0m\u001b[1;33m\u001b[0m\u001b[1;33m\u001b[0m\u001b[0m\n\u001b[0m",
      "\u001b[1;31mTypeError\u001b[0m: 'tuple' object does not support item assignment"
     ]
    }
   ],
   "source": [
    "tups[2] = False"
   ]
  },
  {
   "cell_type": "code",
   "execution_count": 44,
   "id": "1f52063f",
   "metadata": {},
   "outputs": [
    {
     "data": {
      "text/plain": [
       "4"
      ]
     },
     "execution_count": 44,
     "metadata": {},
     "output_type": "execute_result"
    }
   ],
   "source": [
    "len(tups)"
   ]
  },
  {
   "cell_type": "code",
   "execution_count": 45,
   "id": "27cfe4d3",
   "metadata": {},
   "outputs": [
    {
     "data": {
      "text/plain": [
       "(1, 2, 3, 4, 1, 2, 3, 4)"
      ]
     },
     "execution_count": 45,
     "metadata": {},
     "output_type": "execute_result"
    }
   ],
   "source": [
    "tups = 1,2,3,4\n",
    "tups + tups"
   ]
  },
  {
   "cell_type": "code",
   "execution_count": 46,
   "id": "d86e2292",
   "metadata": {},
   "outputs": [
    {
     "data": {
      "text/plain": [
       "(1, 2, 3, 4, 1, 2, 3, 4, 1, 2, 3, 4)"
      ]
     },
     "execution_count": 46,
     "metadata": {},
     "output_type": "execute_result"
    }
   ],
   "source": [
    "tups * 3"
   ]
  },
  {
   "cell_type": "markdown",
   "id": "b0c729a5",
   "metadata": {},
   "source": [
    "You cannot `append` or `delete` elements from a tuple without re-creating one.  "
   ]
  },
  {
   "cell_type": "code",
   "execution_count": 47,
   "id": "fbc8c722",
   "metadata": {},
   "outputs": [],
   "source": [
    "tups = 1,2,True,[1,2]"
   ]
  },
  {
   "cell_type": "code",
   "execution_count": 48,
   "id": "3f5c94b5",
   "metadata": {},
   "outputs": [
    {
     "ename": "AttributeError",
     "evalue": "'tuple' object has no attribute 'append'",
     "output_type": "error",
     "traceback": [
      "\u001b[1;31m---------------------------------------------------------------------------\u001b[0m",
      "\u001b[1;31mAttributeError\u001b[0m                            Traceback (most recent call last)",
      "\u001b[1;32m<ipython-input-48-5ef9fc87c3d0>\u001b[0m in \u001b[0;36m<module>\u001b[1;34m\u001b[0m\n\u001b[1;32m----> 1\u001b[1;33m \u001b[0mtups\u001b[0m\u001b[1;33m.\u001b[0m\u001b[0mappend\u001b[0m\u001b[1;33m(\u001b[0m\u001b[1;36m1\u001b[0m\u001b[1;33m)\u001b[0m\u001b[1;33m\u001b[0m\u001b[1;33m\u001b[0m\u001b[0m\n\u001b[0m",
      "\u001b[1;31mAttributeError\u001b[0m: 'tuple' object has no attribute 'append'"
     ]
    }
   ],
   "source": [
    "tups.append(1)"
   ]
  },
  {
   "cell_type": "code",
   "execution_count": 49,
   "id": "ddb1e7b0",
   "metadata": {},
   "outputs": [
    {
     "ename": "AttributeError",
     "evalue": "'tuple' object has no attribute 'extend'",
     "output_type": "error",
     "traceback": [
      "\u001b[1;31m---------------------------------------------------------------------------\u001b[0m",
      "\u001b[1;31mAttributeError\u001b[0m                            Traceback (most recent call last)",
      "\u001b[1;32m<ipython-input-49-d2a667290051>\u001b[0m in \u001b[0;36m<module>\u001b[1;34m\u001b[0m\n\u001b[1;32m----> 1\u001b[1;33m \u001b[0mtups\u001b[0m\u001b[1;33m.\u001b[0m\u001b[0mextend\u001b[0m\u001b[1;33m(\u001b[0m\u001b[1;33m[\u001b[0m\u001b[1;36m1\u001b[0m\u001b[1;33m,\u001b[0m\u001b[1;36m2\u001b[0m\u001b[1;33m]\u001b[0m\u001b[1;33m)\u001b[0m\u001b[1;33m\u001b[0m\u001b[1;33m\u001b[0m\u001b[0m\n\u001b[0m",
      "\u001b[1;31mAttributeError\u001b[0m: 'tuple' object has no attribute 'extend'"
     ]
    }
   ],
   "source": [
    "tups.extend([1,2])"
   ]
  },
  {
   "cell_type": "markdown",
   "id": "54b216ba",
   "metadata": {},
   "source": [
    "## Loops `for` `while`"
   ]
  },
  {
   "cell_type": "markdown",
   "id": "c941d76e",
   "metadata": {},
   "source": [
    "Loops are used to iterate and apply operations repeatively to an object or to a sequence of objects.  \n",
    "\n",
    "Majorly two types of loops `for` and `while`, "
   ]
  },
  {
   "cell_type": "markdown",
   "id": "22dd342d",
   "metadata": {},
   "source": [
    "### `for` and `iterator`"
   ]
  },
  {
   "cell_type": "markdown",
   "id": "e22403cf",
   "metadata": {},
   "source": [
    "To use `for` loop, you need an iterable thing, `iterator` or container:\n",
    "\n",
    "* Output of `range` (an `iterator` that goes through intergers)\n",
    "* list\n",
    "* tuple\n",
    "* dict, dict.items(), dict.keys()\n",
    "* np.array\n",
    "* ..."
   ]
  },
  {
   "cell_type": "markdown",
   "id": "f980fdc7",
   "metadata": {},
   "source": [
    "Let's do a simple summation or product of a sequence in an loop."
   ]
  },
  {
   "cell_type": "code",
   "execution_count": 50,
   "id": "e2b3e2c9",
   "metadata": {
    "scrolled": true
   },
   "outputs": [
    {
     "name": "stdout",
     "output_type": "stream",
     "text": [
      "4950\n"
     ]
    }
   ],
   "source": [
    "S = 0\n",
    "for i in range(100): # remember range starts from 0! 100 is not included\n",
    "    S += i\n",
    "print(S)"
   ]
  },
  {
   "cell_type": "markdown",
   "id": "a1b3410b",
   "metadata": {},
   "source": [
    "Note the **indentation** and `:` two key syntax point in `python`"
   ]
  },
  {
   "cell_type": "markdown",
   "id": "5b9a2e11",
   "metadata": {},
   "source": [
    "An equivalent `while` loop is like this, you can understand all `for` loop in this fashion"
   ]
  },
  {
   "cell_type": "code",
   "execution_count": null,
   "id": "609c32f7",
   "metadata": {},
   "outputs": [],
   "source": [
    "S = 0\n",
    "\n",
    "i = 0 # start `i` from the first element in iterator\n",
    "while True:\n",
    "    S += i\n",
    "    \n",
    "    i += 1 # move `i` to the next element in iterator\n",
    "    if i == 100: # if `i` reaches end of iterator then leave.\n",
    "        break\n",
    "print(S)"
   ]
  },
  {
   "cell_type": "code",
   "execution_count": 52,
   "id": "9568e551",
   "metadata": {
    "scrolled": true
   },
   "outputs": [
    {
     "name": "stdout",
     "output_type": "stream",
     "text": [
      "93326215443944152681699238856266700490715968264381621468592963895217599993229915608941463976156518286253697920827223758251185210916864000000000000000000000000\n"
     ]
    }
   ],
   "source": [
    "S = 1\n",
    "for i in range(1,100+1): # remember range starts from 0! range(1,101)\n",
    "    S *= i\n",
    "print(S)"
   ]
  },
  {
   "cell_type": "code",
   "execution_count": 54,
   "id": "a015d256",
   "metadata": {},
   "outputs": [
    {
     "data": {
      "text/plain": [
       "<enumerate at 0x11fd3f61dc0>"
      ]
     },
     "execution_count": 54,
     "metadata": {},
     "output_type": "execute_result"
    }
   ],
   "source": [
    "enumerate(range(5))"
   ]
  },
  {
   "cell_type": "markdown",
   "id": "1b233aa6",
   "metadata": {},
   "source": [
    "You can also iterate a list and process them. "
   ]
  },
  {
   "cell_type": "code",
   "execution_count": 55,
   "id": "1ea07de5",
   "metadata": {},
   "outputs": [
    {
     "data": {
      "text/plain": [
       "[1, 9, 25, 49]"
      ]
     },
     "execution_count": 55,
     "metadata": {},
     "output_type": "execute_result"
    }
   ],
   "source": [
    "data = [1,3,5,7]\n",
    "output = []\n",
    "for d in data:\n",
    "    sq=d**2\n",
    "    output.append(sq)\n",
    "output"
   ]
  },
  {
   "cell_type": "markdown",
   "id": "1c4de0b8",
   "metadata": {},
   "source": [
    "Using `enumerate` to get the element + the index of element in case you need both. output of `enumerate` is also an iterator"
   ]
  },
  {
   "cell_type": "code",
   "execution_count": 56,
   "id": "b76e39b8",
   "metadata": {},
   "outputs": [
    {
     "data": {
      "text/plain": [
       "[1, 9, 25, 49]"
      ]
     },
     "execution_count": 56,
     "metadata": {},
     "output_type": "execute_result"
    }
   ],
   "source": [
    "data = [1,3,5,7]\n",
    "output = [0]*len(data)\n",
    "for i, d in enumerate(data):\n",
    "    output[i] = d**2\n",
    "output"
   ]
  },
  {
   "cell_type": "markdown",
   "id": "cbc7a2ea",
   "metadata": {},
   "source": [
    "### when to use `while` "
   ]
  },
  {
   "cell_type": "markdown",
   "id": "2e8fb62a",
   "metadata": {},
   "source": [
    "Sometimes you don't know how many iterations you need before hand!"
   ]
  },
  {
   "cell_type": "markdown",
   "id": "ceb46938",
   "metadata": {},
   "source": [
    "**Question**: Get the number of maximal $n$ such that adding 1 to $n$ is smaller than 100"
   ]
  },
  {
   "cell_type": "code",
   "execution_count": null,
   "id": "69d5b758",
   "metadata": {},
   "outputs": [],
   "source": [
    "S=0\n",
    "for i in range(1000): # this 1000 is just a guess \n",
    "    S += i\n",
    "    if S > 100:\n",
    "        break\n",
    "print(i-1)"
   ]
  },
  {
   "cell_type": "code",
   "execution_count": null,
   "id": "63fb8292",
   "metadata": {},
   "outputs": [],
   "source": [
    "S=0\n",
    "i=0\n",
    "while True: # Don't need to guess an upper limit here \n",
    "    S += i\n",
    "    if S > 100:\n",
    "        break\n",
    "    i += 1\n",
    "print(i-1)"
   ]
  },
  {
   "cell_type": "markdown",
   "id": "49885e01",
   "metadata": {},
   "source": [
    "### `break`, `continue`"
   ]
  },
  {
   "cell_type": "markdown",
   "id": "301c7fc2",
   "metadata": {},
   "source": [
    "`break` and `continue` are flow controller together with `for` and `while`\n",
    "* Break get out of the **inner-most** loop\n",
    "* Continue gets into the next loop in the **inner-most** loop"
   ]
  },
  {
   "cell_type": "markdown",
   "id": "89560379",
   "metadata": {},
   "source": [
    "**Question**: Sum of all odd numbers < 100"
   ]
  },
  {
   "cell_type": "code",
   "execution_count": null,
   "id": "fbde62dc",
   "metadata": {},
   "outputs": [],
   "source": [
    "S=0\n",
    "for i in range(100): # this 1000 is just a guess \n",
    "    if i % 2 == 0: # mod(2)==0 even\n",
    "        continue\n",
    "    S += i\n",
    "print(S)"
   ]
  },
  {
   "cell_type": "markdown",
   "id": "6ad0a2ce",
   "metadata": {},
   "source": [
    "## Conditions `if`"
   ]
  },
  {
   "cell_type": "markdown",
   "id": "6aed71d5",
   "metadata": {},
   "source": [
    "`if` takes a bool (True False) or an expression, function outputting bool to decide which branches to go to. \n",
    "\n",
    "* *Note*: when the thing is not `bool` it will be type converted to `bool` as mentioned above. \n",
    "* Note indentation and `:`"
   ]
  },
  {
   "cell_type": "markdown",
   "id": "039126cb",
   "metadata": {},
   "source": [
    "```python\n",
    "if condition1:\n",
    "   # do sth \n",
    "elif condition2:\n",
    "   pass\n",
    "else:\n",
    "   # others\n",
    "```"
   ]
  },
  {
   "cell_type": "markdown",
   "id": "ea8f9a54",
   "metadata": {},
   "source": [
    "## Synthesis: List comprehensions"
   ]
  },
  {
   "cell_type": "markdown",
   "id": "80a3084d",
   "metadata": {},
   "source": [
    "List comprehension is a one-liner way to apply operations on a list of object. Usually used to write things efficiently."
   ]
  },
  {
   "cell_type": "code",
   "execution_count": 57,
   "id": "e01b8000",
   "metadata": {},
   "outputs": [],
   "source": [
    "monthnum = list(range(1,12))"
   ]
  },
  {
   "cell_type": "code",
   "execution_count": 58,
   "id": "16708a4d",
   "metadata": {},
   "outputs": [
    {
     "data": {
      "text/plain": [
       "[1, 2, 3, 4, 5, 6, 7, 8, 9, 10, 11]"
      ]
     },
     "execution_count": 58,
     "metadata": {},
     "output_type": "execute_result"
    }
   ],
   "source": [
    "monthnum"
   ]
  },
  {
   "cell_type": "code",
   "execution_count": 59,
   "id": "f09714b6",
   "metadata": {},
   "outputs": [
    {
     "data": {
      "text/plain": [
       "[False, False, False, False, False, True, True, True, False, False, False]"
      ]
     },
     "execution_count": 59,
     "metadata": {},
     "output_type": "execute_result"
    }
   ],
   "source": [
    "IsHot = [5 < n < 9 for n in monthnum]\n",
    "IsHot"
   ]
  },
  {
   "cell_type": "markdown",
   "id": "f180703c",
   "metadata": {},
   "source": [
    "List comprehension can be used together with conditionals, to apply only to part of elements. "
   ]
  },
  {
   "cell_type": "code",
   "execution_count": 60,
   "id": "93339bfc",
   "metadata": {},
   "outputs": [
    {
     "data": {
      "text/plain": [
       "[6, 7, 8]"
      ]
     },
     "execution_count": 60,
     "metadata": {},
     "output_type": "execute_result"
    }
   ],
   "source": [
    "HotMonth = [n for n in monthnum if 5 < n < 9]\n",
    "HotMonth"
   ]
  },
  {
   "cell_type": "markdown",
   "id": "c5298b41",
   "metadata": {},
   "source": [
    "## Define Your Functions `def` "
   ]
  },
  {
   "cell_type": "markdown",
   "id": "e57b6f45",
   "metadata": {},
   "source": [
    "Function is a way to organize some code into a **black-box with input and output.**"
   ]
  },
  {
   "cell_type": "markdown",
   "id": "b24d188e",
   "metadata": {},
   "source": [
    "**Question**: Sum of all prime numbers < 100"
   ]
  },
  {
   "cell_type": "markdown",
   "id": "6b744962",
   "metadata": {},
   "source": [
    "We can solve this without writing any function"
   ]
  },
  {
   "cell_type": "code",
   "execution_count": 61,
   "id": "8a9bbb54",
   "metadata": {},
   "outputs": [
    {
     "name": "stdout",
     "output_type": "stream",
     "text": [
      "1061\n"
     ]
    }
   ],
   "source": [
    "S = 0\n",
    "for i in range(100): \n",
    "    # Here you want to do something to test if `i` is prime\n",
    "    pass # forget something ?\n",
    "    is_prime = True\n",
    "    for k in range(2,i):\n",
    "        if i % k ==0:\n",
    "            is_prime = False\n",
    "            break # which loop this breaks out of?\n",
    "    # Then do things based on the result\n",
    "    if is_prime: #\n",
    "        S += i\n",
    "#         print(i)\n",
    "print(S)"
   ]
  },
  {
   "cell_type": "markdown",
   "id": "4d3023f5",
   "metadata": {},
   "source": [
    "But as you recognize there is **two layer of code** with some input output structure, you can wrap up some code into a function. \n",
    "`isPrime: int->bool` "
   ]
  },
  {
   "cell_type": "code",
   "execution_count": 62,
   "id": "af2a238d",
   "metadata": {},
   "outputs": [
    {
     "name": "stdout",
     "output_type": "stream",
     "text": [
      "1060\n"
     ]
    }
   ],
   "source": [
    "def isPrime(n):\n",
    "    if n < 2: # note this edge case! \n",
    "        return False\n",
    "    for i in range(2,n):\n",
    "        if n % i == 0:\n",
    "            return False\n",
    "    return True\n",
    "\n",
    "S=0\n",
    "for i in range(100): \n",
    "    if isPrime(i): \n",
    "        S += i\n",
    "#         print(i)\n",
    "print(S)"
   ]
  },
  {
   "cell_type": "code",
   "execution_count": 63,
   "id": "45b20558",
   "metadata": {},
   "outputs": [
    {
     "ename": "NameError",
     "evalue": "name 'n' is not defined",
     "output_type": "error",
     "traceback": [
      "\u001b[1;31m---------------------------------------------------------------------------\u001b[0m",
      "\u001b[1;31mNameError\u001b[0m                                 Traceback (most recent call last)",
      "\u001b[1;32m<ipython-input-63-2700aa2f12a2>\u001b[0m in \u001b[0;36m<module>\u001b[1;34m\u001b[0m\n\u001b[1;32m----> 1\u001b[1;33m \u001b[0mprint\u001b[0m\u001b[1;33m(\u001b[0m\u001b[0mn\u001b[0m\u001b[1;33m)\u001b[0m \u001b[1;31m# Why this is not defined?\u001b[0m\u001b[1;33m\u001b[0m\u001b[1;33m\u001b[0m\u001b[0m\n\u001b[0m",
      "\u001b[1;31mNameError\u001b[0m: name 'n' is not defined"
     ]
    }
   ],
   "source": [
    "print(n) # Why this is not defined? "
   ]
  },
  {
   "cell_type": "markdown",
   "id": "2b026171",
   "metadata": {},
   "source": [
    "### Scope, namespace"
   ]
  },
  {
   "cell_type": "markdown",
   "id": "0f6e7519",
   "metadata": {},
   "source": [
    "With functions you can think of it as a whole, **save you from details within the function**. \n",
    "\n",
    "* Variables defined in the functions are not visible to outside **namespace**\n",
    "* Keep track of scope of variable is super important\n",
    "\n",
    "See this [tutorial example](https://www.w3schools.com/python/python_scope.asp)"
   ]
  },
  {
   "cell_type": "markdown",
   "id": "a8bd81dd",
   "metadata": {},
   "source": [
    "Functions can be nested to perform complicated things!"
   ]
  },
  {
   "cell_type": "code",
   "execution_count": null,
   "id": "78630525",
   "metadata": {},
   "outputs": [],
   "source": [
    "sum(filter(isPrime,range(100),)) # filter out primes in a range and then sum"
   ]
  },
  {
   "cell_type": "code",
   "execution_count": 68,
   "id": "cd5e1c7e",
   "metadata": {},
   "outputs": [],
   "source": [
    "# get the number of primes \n",
    "def prime_count(n):\n",
    "    # alternatively it can be\n",
    "    # sum(map(isPrime,range(10000)))\n",
    "    return sum(isPrime(i) for i in range(n))"
   ]
  },
  {
   "cell_type": "code",
   "execution_count": 65,
   "id": "3f890ba1",
   "metadata": {},
   "outputs": [],
   "source": [
    "# prime_counting curve\n",
    "pr_cnt_curve = np.cumsum(list(map(isPrime,range(10000))))"
   ]
  },
  {
   "cell_type": "code",
   "execution_count": 67,
   "id": "f3284368",
   "metadata": {},
   "outputs": [
    {
     "data": {
      "text/plain": [
       "1229"
      ]
     },
     "execution_count": 67,
     "metadata": {},
     "output_type": "execute_result"
    }
   ],
   "source": [
    "prime_count(10000)"
   ]
  },
  {
   "cell_type": "code",
   "execution_count": 70,
   "id": "9e11c431",
   "metadata": {},
   "outputs": [
    {
     "data": {
      "text/plain": [
       "[<matplotlib.lines.Line2D at 0x11fd5c028e0>]"
      ]
     },
     "execution_count": 70,
     "metadata": {},
     "output_type": "execute_result"
    },
    {
     "data": {
      "image/png": "[encoded data removed]",
      "text/plain": [
       "<Figure size 432x288 with 1 Axes>"
      ]
     },
     "metadata": {
      "needs_background": "light"
     },
     "output_type": "display_data"
    }
   ],
   "source": [
    "plt.plot(pr_cnt_curve)"
   ]
  },
  {
   "cell_type": "markdown",
   "id": "1cbea239",
   "metadata": {},
   "source": [
    "## Numpy"
   ]
  },
  {
   "cell_type": "code",
   "execution_count": 69,
   "id": "436853d3",
   "metadata": {},
   "outputs": [],
   "source": [
    "import numpy as np\n",
    "import matplotlib.pyplot as plt"
   ]
  },
  {
   "cell_type": "markdown",
   "id": "73423a6c",
   "metadata": {},
   "source": [
    "Really widely used numerical package in `python`. Fundamental library for data sci and scientific computing in python. Basic functionality: \n",
    "\n",
    "* Linear algebra. Matrix, vector multiplication\n",
    "* Vectorized operation. (broadcasting, indexing)\n",
    "* Random generators\n",
    "* ...."
   ]
  },
  {
   "cell_type": "markdown",
   "id": "481c7b77",
   "metadata": {},
   "source": [
    "### Creating Arrarys "
   ]
  },
  {
   "cell_type": "markdown",
   "id": "e5e69aac",
   "metadata": {},
   "source": [
    "Most basic fundamental data type in `numpy` is `np.array`. This is used to create arrays from \n",
    "\n",
    "* list\n",
    "* list of lists / tuples\n",
    "* ranges\n",
    "* etc."
   ]
  },
  {
   "cell_type": "code",
   "execution_count": 71,
   "id": "2f1e712c",
   "metadata": {},
   "outputs": [
    {
     "data": {
      "text/plain": [
       "array([1, 2, 3])"
      ]
     },
     "execution_count": 71,
     "metadata": {},
     "output_type": "execute_result"
    }
   ],
   "source": [
    "A = np.array([1,2,3])\n",
    "A"
   ]
  },
  {
   "cell_type": "code",
   "execution_count": 72,
   "id": "a2c2436d",
   "metadata": {},
   "outputs": [
    {
     "data": {
      "text/plain": [
       "numpy.ndarray"
      ]
     },
     "execution_count": 72,
     "metadata": {},
     "output_type": "execute_result"
    }
   ],
   "source": [
    "type(A)"
   ]
  },
  {
   "cell_type": "code",
   "execution_count": 73,
   "id": "21601618",
   "metadata": {},
   "outputs": [
    {
     "name": "stdout",
     "output_type": "stream",
     "text": [
      "(3,)\n",
      "1\n",
      "int32\n"
     ]
    }
   ],
   "source": [
    "print(A.shape)\n",
    "print(A.ndim)\n",
    "print(A.dtype)"
   ]
  },
  {
   "cell_type": "code",
   "execution_count": 74,
   "id": "d7eef8a9",
   "metadata": {},
   "outputs": [
    {
     "data": {
      "text/plain": [
       "array([[1., 2., 3.],\n",
       "       [4., 5., 6.]])"
      ]
     },
     "execution_count": 74,
     "metadata": {},
     "output_type": "execute_result"
    }
   ],
   "source": [
    "B = np.array([[1.0,2,3],[4,5,6]]) # notice the different datatype\n",
    "B"
   ]
  },
  {
   "cell_type": "code",
   "execution_count": 75,
   "id": "51bbfd5e",
   "metadata": {},
   "outputs": [
    {
     "name": "stdout",
     "output_type": "stream",
     "text": [
      "(2, 3)\n",
      "2\n",
      "float64\n"
     ]
    }
   ],
   "source": [
    "print(B.shape)\n",
    "print(B.ndim)\n",
    "print(B.dtype)"
   ]
  },
  {
   "cell_type": "code",
   "execution_count": 76,
   "id": "29e64801",
   "metadata": {},
   "outputs": [
    {
     "data": {
      "text/plain": [
       "array([0, 1, 2, 3, 4, 5, 6, 7, 8, 9])"
      ]
     },
     "execution_count": 76,
     "metadata": {},
     "output_type": "execute_result"
    }
   ],
   "source": [
    "C = np.array(range(10))\n",
    "C"
   ]
  },
  {
   "cell_type": "markdown",
   "id": "3624b38f",
   "metadata": {},
   "source": [
    "`array` and `range` are combined into `np.arange`"
   ]
  },
  {
   "cell_type": "code",
   "execution_count": 77,
   "id": "b38ce4ea",
   "metadata": {},
   "outputs": [
    {
     "data": {
      "text/plain": [
       "array([0, 1, 2, 3, 4, 5, 6, 7, 8, 9])"
      ]
     },
     "execution_count": 77,
     "metadata": {},
     "output_type": "execute_result"
    }
   ],
   "source": [
    "C = np.arange(10)\n",
    "C"
   ]
  },
  {
   "cell_type": "markdown",
   "id": "bd98fe4f",
   "metadata": {},
   "source": [
    "### Shape Manipulation"
   ]
  },
  {
   "cell_type": "code",
   "execution_count": 78,
   "id": "5f6e013a",
   "metadata": {},
   "outputs": [
    {
     "data": {
      "text/plain": [
       "(2, 3)"
      ]
     },
     "execution_count": 78,
     "metadata": {},
     "output_type": "execute_result"
    }
   ],
   "source": [
    "B.shape"
   ]
  },
  {
   "cell_type": "code",
   "execution_count": 80,
   "id": "d8d8f716",
   "metadata": {},
   "outputs": [
    {
     "name": "stdout",
     "output_type": "stream",
     "text": [
      "[[1. 2. 3.]\n",
      " [4. 5. 6.]]\n",
      "[[1. 2.]\n",
      " [3. 4.]\n",
      " [5. 6.]]\n",
      "[[1. 2.]\n",
      " [3. 4.]\n",
      " [5. 6.]]\n",
      "[[1.]\n",
      " [2.]\n",
      " [3.]\n",
      " [4.]\n",
      " [5.]\n",
      " [6.]]\n",
      "[[1. 2. 3. 4. 5. 6.]]\n"
     ]
    }
   ],
   "source": [
    "B = np.array([[1.0,2,3],[4,5,6]])\n",
    "print(B) \n",
    "\n",
    "C = B.reshape(3,2)\n",
    "print(C)\n",
    "\n",
    "C = B.reshape(3,-1) # inferring shape from the rest\n",
    "print(C)\n",
    "\n",
    "C = B.reshape(6,1) # adding singleton dimension\n",
    "print(C)\n",
    "\n",
    "C = B.reshape(1,6)\n",
    "print(C)"
   ]
  },
  {
   "cell_type": "code",
   "execution_count": 81,
   "id": "b2113ee7",
   "metadata": {},
   "outputs": [
    {
     "name": "stdout",
     "output_type": "stream",
     "text": [
      "[1. 2. 3. 4. 5. 6.]\n",
      "[1. 2. 3. 4. 5. 6.]\n",
      "[[[1. 2. 3.]]\n",
      "\n",
      " [[4. 5. 6.]]] (2, 1, 3)\n"
     ]
    }
   ],
   "source": [
    "C = B.reshape(-1) # all in one, flatten \n",
    "print(C)\n",
    "\n",
    "C = B.flatten() \n",
    "print(C)\n",
    "\n",
    "C = B[:,np.newaxis,:] # adding new axis can use this\n",
    "print(C, C.shape)"
   ]
  },
  {
   "cell_type": "markdown",
   "id": "b2a15e02",
   "metadata": {},
   "source": [
    "**Logic of value reshaping**: During reshaping, the order of the elements are in a fixed order sequence, always fill in the last dimension first."
   ]
  },
  {
   "cell_type": "markdown",
   "id": "091d449f",
   "metadata": {},
   "source": [
    "Another important reshaping tools are `transpose`, and its simplified 2d version `.T` "
   ]
  },
  {
   "cell_type": "code",
   "execution_count": 82,
   "id": "54a1f974",
   "metadata": {
    "scrolled": true
   },
   "outputs": [
    {
     "name": "stdout",
     "output_type": "stream",
     "text": [
      "[[1. 4.]\n",
      " [2. 5.]\n",
      " [3. 6.]]\n",
      "[[1. 2. 3.]\n",
      " [4. 5. 6.]]\n",
      "[[1. 4.]\n",
      " [2. 5.]\n",
      " [3. 6.]]\n",
      "[[1. 2.]\n",
      " [3. 4.]\n",
      " [5. 6.]]\n"
     ]
    }
   ],
   "source": [
    "B = np.array([[1.0,2,3],[4,5,6]])\n",
    "print(B.T)\n",
    "print(B.transpose(0,1)) # nothing will change\n",
    "print(B.transpose(1,0)) # same as transpose\n",
    "print(B.reshape(3,2)) # Note the difference of transpose and reshape! "
   ]
  },
  {
   "cell_type": "markdown",
   "id": "41acde2d",
   "metadata": {},
   "source": [
    "### Indexing "
   ]
  },
  {
   "cell_type": "markdown",
   "id": "33eb7d8a",
   "metadata": {},
   "source": [
    "See this document for extensive examples https://numpy.org/doc/stable/user/basics.indexing.html"
   ]
  },
  {
   "cell_type": "code",
   "execution_count": 83,
   "id": "45f1dfd4",
   "metadata": {},
   "outputs": [
    {
     "data": {
      "text/plain": [
       "array([[ 0,  1,  2],\n",
       "       [ 3,  4,  5],\n",
       "       [ 6,  7,  8],\n",
       "       [ 9, 10, 11],\n",
       "       [12, 13, 14]])"
      ]
     },
     "execution_count": 83,
     "metadata": {},
     "output_type": "execute_result"
    }
   ],
   "source": [
    "C = np.array(range(15)).reshape([5,3])\n",
    "C"
   ]
  },
  {
   "cell_type": "code",
   "execution_count": 84,
   "id": "e640aa81",
   "metadata": {},
   "outputs": [
    {
     "data": {
      "text/plain": [
       "4"
      ]
     },
     "execution_count": 84,
     "metadata": {},
     "output_type": "execute_result"
    }
   ],
   "source": [
    "C[1,1]"
   ]
  },
  {
   "cell_type": "code",
   "execution_count": 85,
   "id": "682a272d",
   "metadata": {},
   "outputs": [
    {
     "data": {
      "text/plain": [
       "11"
      ]
     },
     "execution_count": 85,
     "metadata": {},
     "output_type": "execute_result"
    }
   ],
   "source": [
    "C[-2,-1]"
   ]
  },
  {
   "cell_type": "markdown",
   "id": "430386b9",
   "metadata": {},
   "source": [
    "You can also slice a row or column from array. \n",
    "\n",
    "**Note** these slices are all 1d array, row and col vectors are not different in shape in this manner. This is different from matlab."
   ]
  },
  {
   "cell_type": "code",
   "execution_count": 86,
   "id": "92ccd1a8",
   "metadata": {},
   "outputs": [
    {
     "data": {
      "text/plain": [
       "array([3, 4, 5])"
      ]
     },
     "execution_count": 86,
     "metadata": {},
     "output_type": "execute_result"
    }
   ],
   "source": [
    "C[1,:]"
   ]
  },
  {
   "cell_type": "code",
   "execution_count": 87,
   "id": "160875bd",
   "metadata": {},
   "outputs": [
    {
     "data": {
      "text/plain": [
       "array([ 1,  4,  7, 10, 13])"
      ]
     },
     "execution_count": 87,
     "metadata": {},
     "output_type": "execute_result"
    }
   ],
   "source": [
    "C[:,1] # note these slices are all 1d array, row and col vectors are not different in shape in this manner"
   ]
  },
  {
   "cell_type": "markdown",
   "id": "9addfda7",
   "metadata": {},
   "source": [
    "But this case the slices are 2d arrays of different shapes!"
   ]
  },
  {
   "cell_type": "code",
   "execution_count": 88,
   "id": "496bfadc",
   "metadata": {},
   "outputs": [
    {
     "data": {
      "text/plain": [
       "array([[ 1],\n",
       "       [ 4],\n",
       "       [ 7],\n",
       "       [10],\n",
       "       [13]])"
      ]
     },
     "execution_count": 88,
     "metadata": {},
     "output_type": "execute_result"
    }
   ],
   "source": [
    "C[:, 1:2]"
   ]
  },
  {
   "cell_type": "code",
   "execution_count": 89,
   "id": "69fc0ec2",
   "metadata": {},
   "outputs": [
    {
     "data": {
      "text/plain": [
       "array([[3, 4, 5]])"
      ]
     },
     "execution_count": 89,
     "metadata": {},
     "output_type": "execute_result"
    }
   ],
   "source": [
    "C[1:2,:]"
   ]
  },
  {
   "cell_type": "code",
   "execution_count": 90,
   "id": "852f8821",
   "metadata": {},
   "outputs": [
    {
     "data": {
      "text/plain": [
       "array([3, 4, 5])"
      ]
     },
     "execution_count": 90,
     "metadata": {},
     "output_type": "execute_result"
    }
   ],
   "source": [
    "C[1] # understand this as if C is list of lists; different from matlab"
   ]
  },
  {
   "cell_type": "code",
   "execution_count": 91,
   "id": "9ae6deee",
   "metadata": {},
   "outputs": [
    {
     "data": {
      "text/plain": [
       "array([[ 0,  1,  2],\n",
       "       [ 3,  4,  5],\n",
       "       [ 6,  7,  8],\n",
       "       [ 9, 10, 11],\n",
       "       [12, 13, 14]])"
      ]
     },
     "execution_count": 91,
     "metadata": {},
     "output_type": "execute_result"
    }
   ],
   "source": [
    "C[:] # everything, not flattened; different from matlab "
   ]
  },
  {
   "cell_type": "markdown",
   "id": "46d6e8cf",
   "metadata": {},
   "source": [
    "One advanced type of indexing is by boolean mask "
   ]
  },
  {
   "cell_type": "code",
   "execution_count": 92,
   "id": "a468b7f7",
   "metadata": {},
   "outputs": [],
   "source": [
    "monthnum = np.arange(1,13)"
   ]
  },
  {
   "cell_type": "code",
   "execution_count": 93,
   "id": "0dbf2d03",
   "metadata": {},
   "outputs": [],
   "source": [
    "isHot = (monthnum < 9) * (5 < monthnum)"
   ]
  },
  {
   "cell_type": "code",
   "execution_count": 94,
   "id": "10119374",
   "metadata": {},
   "outputs": [
    {
     "data": {
      "text/plain": [
       "array([False, False, False, False, False,  True,  True,  True, False,\n",
       "       False, False, False])"
      ]
     },
     "execution_count": 94,
     "metadata": {},
     "output_type": "execute_result"
    }
   ],
   "source": [
    "isHot"
   ]
  },
  {
   "cell_type": "code",
   "execution_count": 95,
   "id": "96687ff8",
   "metadata": {},
   "outputs": [
    {
     "data": {
      "text/plain": [
       "array([6, 7, 8])"
      ]
     },
     "execution_count": 95,
     "metadata": {},
     "output_type": "execute_result"
    }
   ],
   "source": [
    "monthnum[isHot] # extract only the element corresponding to True "
   ]
  },
  {
   "cell_type": "markdown",
   "id": "6a6d8a34",
   "metadata": {},
   "source": [
    "Mask can be applied only to one axis!"
   ]
  },
  {
   "cell_type": "code",
   "execution_count": 96,
   "id": "59cbb74a",
   "metadata": {},
   "outputs": [],
   "source": [
    "monthnum2 = np.arange(1,37).reshape(3,12)"
   ]
  },
  {
   "cell_type": "code",
   "execution_count": 97,
   "id": "12195566",
   "metadata": {},
   "outputs": [
    {
     "data": {
      "text/plain": [
       "array([[ 1,  2,  3,  4,  5,  6,  7,  8,  9, 10, 11, 12],\n",
       "       [13, 14, 15, 16, 17, 18, 19, 20, 21, 22, 23, 24],\n",
       "       [25, 26, 27, 28, 29, 30, 31, 32, 33, 34, 35, 36]])"
      ]
     },
     "execution_count": 97,
     "metadata": {},
     "output_type": "execute_result"
    }
   ],
   "source": [
    "monthnum2"
   ]
  },
  {
   "cell_type": "code",
   "execution_count": 98,
   "id": "3b79ecc0",
   "metadata": {},
   "outputs": [
    {
     "data": {
      "text/plain": [
       "array([[ 6,  7,  8],\n",
       "       [18, 19, 20],\n",
       "       [30, 31, 32]])"
      ]
     },
     "execution_count": 98,
     "metadata": {},
     "output_type": "execute_result"
    }
   ],
   "source": [
    "monthnum2[:,isHot]"
   ]
  },
  {
   "cell_type": "code",
   "execution_count": 99,
   "id": "52bd7396",
   "metadata": {},
   "outputs": [
    {
     "data": {
      "text/plain": [
       "array([18, 19, 20])"
      ]
     },
     "execution_count": 99,
     "metadata": {},
     "output_type": "execute_result"
    }
   ],
   "source": [
    "monthnum2[1,isHot]"
   ]
  },
  {
   "cell_type": "code",
   "execution_count": 100,
   "id": "e091d825",
   "metadata": {},
   "outputs": [
    {
     "data": {
      "text/plain": [
       "array([6, 7, 8])"
      ]
     },
     "execution_count": 100,
     "metadata": {},
     "output_type": "execute_result"
    }
   ],
   "source": [
    "monthnum2[[True, False, False],isHot] # one mask on one dimension"
   ]
  },
  {
   "cell_type": "markdown",
   "id": "0830b917",
   "metadata": {},
   "source": [
    "### Array operations: MatMul and Dot  "
   ]
  },
  {
   "cell_type": "code",
   "execution_count": null,
   "id": "ac0bab9a",
   "metadata": {},
   "outputs": [],
   "source": [
    "np.matmul?"
   ]
  },
  {
   "cell_type": "code",
   "execution_count": 101,
   "id": "0eacf68a",
   "metadata": {},
   "outputs": [
    {
     "data": {
      "text/plain": [
       "array([[ 20,  23,  26,  29],\n",
       "       [ 56,  68,  80,  92],\n",
       "       [ 92, 113, 134, 155],\n",
       "       [128, 158, 188, 218],\n",
       "       [164, 203, 242, 281]])"
      ]
     },
     "execution_count": 101,
     "metadata": {},
     "output_type": "execute_result"
    }
   ],
   "source": [
    "A = np.arange(15).reshape([5,3])\n",
    "B = np.arange(12).reshape([3,4])\n",
    "C = A @ B\n",
    "C"
   ]
  },
  {
   "cell_type": "code",
   "execution_count": 102,
   "id": "165cb8b2",
   "metadata": {},
   "outputs": [
    {
     "data": {
      "text/plain": [
       "array([[ 20,  23,  26,  29],\n",
       "       [ 56,  68,  80,  92],\n",
       "       [ 92, 113, 134, 155],\n",
       "       [128, 158, 188, 218],\n",
       "       [164, 203, 242, 281]])"
      ]
     },
     "execution_count": 102,
     "metadata": {},
     "output_type": "execute_result"
    }
   ],
   "source": [
    "C = np.matmul(A,B)\n",
    "C"
   ]
  },
  {
   "cell_type": "code",
   "execution_count": 103,
   "id": "f78b381b",
   "metadata": {},
   "outputs": [
    {
     "data": {
      "text/plain": [
       "array([[ 20,  23,  26,  29],\n",
       "       [ 56,  68,  80,  92],\n",
       "       [ 92, 113, 134, 155],\n",
       "       [128, 158, 188, 218],\n",
       "       [164, 203, 242, 281]])"
      ]
     },
     "execution_count": 103,
     "metadata": {},
     "output_type": "execute_result"
    }
   ],
   "source": [
    "np.dot(A,B)  # not recommended, but it can work. Its behavior is quite flexible."
   ]
  },
  {
   "cell_type": "markdown",
   "id": "40a086e3",
   "metadata": {},
   "source": [
    "### Array operations: Broadcasting"
   ]
  },
  {
   "cell_type": "markdown",
   "id": "a70d2ff7",
   "metadata": {},
   "source": [
    "Numpy can `broadcast` and virtually change shape of variable to make element wise operation happen. This mechanism can be used to do column/row-wise, element-wise operations. e.g. \n",
    "* Scale the channels of an 256,256,3 image separately."
   ]
  },
  {
   "cell_type": "markdown",
   "id": "c5a26218",
   "metadata": {},
   "source": [
    "![](https://numpy.org/devdocs/_images/broadcasting_1.svg)"
   ]
  },
  {
   "cell_type": "markdown",
   "id": "c1818a9b",
   "metadata": {},
   "source": [
    "`numpy` will automatically choose the dimension to broadcast: \n",
    "* Dimension have to match exactly. \n",
    "* or one of them is $1$\n",
    "\n",
    "https://numpy.org/doc/stable/user/basics.broadcasting.html"
   ]
  },
  {
   "cell_type": "code",
   "execution_count": 104,
   "id": "dc1397b3",
   "metadata": {},
   "outputs": [
    {
     "data": {
      "text/plain": [
       "array([[ 0,  1,  2,  3,  4],\n",
       "       [ 5,  6,  7,  8,  9],\n",
       "       [10, 11, 12, 13, 14]])"
      ]
     },
     "execution_count": 104,
     "metadata": {},
     "output_type": "execute_result"
    }
   ],
   "source": [
    "A = np.arange(15).reshape(3,5)\n",
    "A"
   ]
  },
  {
   "cell_type": "code",
   "execution_count": 105,
   "id": "3cea5e9d",
   "metadata": {},
   "outputs": [],
   "source": [
    "b = np.arange(3)"
   ]
  },
  {
   "cell_type": "code",
   "execution_count": 109,
   "id": "f43187c0",
   "metadata": {},
   "outputs": [
    {
     "data": {
      "text/plain": [
       "(3, 1)"
      ]
     },
     "execution_count": 109,
     "metadata": {},
     "output_type": "execute_result"
    }
   ],
   "source": [
    "b[:, np.newaxis].shape"
   ]
  },
  {
   "cell_type": "code",
   "execution_count": 107,
   "id": "796a3b3c",
   "metadata": {},
   "outputs": [
    {
     "ename": "ValueError",
     "evalue": "operands could not be broadcast together with shapes (3,5) (3,) ",
     "output_type": "error",
     "traceback": [
      "\u001b[1;31m---------------------------------------------------------------------------\u001b[0m",
      "\u001b[1;31mValueError\u001b[0m                                Traceback (most recent call last)",
      "\u001b[1;32m<ipython-input-107-a6703e1b14a4>\u001b[0m in \u001b[0;36m<module>\u001b[1;34m\u001b[0m\n\u001b[1;32m----> 1\u001b[1;33m \u001b[0mA\u001b[0m \u001b[1;33m*\u001b[0m \u001b[0mb\u001b[0m\u001b[1;33m\u001b[0m\u001b[1;33m\u001b[0m\u001b[0m\n\u001b[0m",
      "\u001b[1;31mValueError\u001b[0m: operands could not be broadcast together with shapes (3,5) (3,) "
     ]
    }
   ],
   "source": [
    "A * b"
   ]
  },
  {
   "cell_type": "code",
   "execution_count": 108,
   "id": "41dbd73b",
   "metadata": {},
   "outputs": [
    {
     "data": {
      "text/plain": [
       "array([[ 0,  0,  0,  0,  0],\n",
       "       [ 5,  6,  7,  8,  9],\n",
       "       [20, 22, 24, 26, 28]])"
      ]
     },
     "execution_count": 108,
     "metadata": {},
     "output_type": "execute_result"
    }
   ],
   "source": [
    "A * b[:, np.newaxis]"
   ]
  },
  {
   "cell_type": "markdown",
   "id": "8658746c",
   "metadata": {},
   "source": [
    "**Example**: Rectify a sine wave\n",
    "\n",
    "In this example all operations are broadcasted, `>` `<`, `*`, `-` `+` `np.sin`"
   ]
  },
  {
   "cell_type": "code",
   "execution_count": null,
   "id": "aab083ba",
   "metadata": {},
   "outputs": [],
   "source": [
    "X = np.arange(0,2*np.pi,0.05)\n",
    "Sine = np.sin(X)"
   ]
  },
  {
   "cell_type": "code",
   "execution_count": null,
   "id": "643f1e4e",
   "metadata": {},
   "outputs": [],
   "source": [
    "Sine > 0"
   ]
  },
  {
   "cell_type": "code",
   "execution_count": null,
   "id": "45f11e28",
   "metadata": {},
   "outputs": [],
   "source": [
    "absSine = (Sine > 0) * Sine + (Sine < 0) * (- Sine )"
   ]
  },
  {
   "cell_type": "markdown",
   "id": "302a4673",
   "metadata": {},
   "source": [
    "**Example**: outer product of sine wave vector"
   ]
  },
  {
   "cell_type": "code",
   "execution_count": null,
   "id": "b56669de",
   "metadata": {},
   "outputs": [],
   "source": [
    "X = np.arange(0,2*np.pi,0.05)\n",
    "Sine = np.sin(X)\n",
    "Sine_outerprod = Sine[:,np.newaxis] * Sine[np.newaxis,:]"
   ]
  },
  {
   "cell_type": "code",
   "execution_count": null,
   "id": "b07290cb",
   "metadata": {},
   "outputs": [],
   "source": [
    "plt.plot(X,Sine)\n",
    "plt.show()\n",
    "plt.imshow(Sine_outerprod)"
   ]
  },
  {
   "cell_type": "markdown",
   "id": "091cbd82",
   "metadata": {
    "slideshow": {
     "slide_type": "slide"
    }
   },
   "source": [
    "##  Matplotlib\n",
    "\n",
    "Widely used visualization package in `python`, synergize with `numpy` and native python."
   ]
  },
  {
   "cell_type": "markdown",
   "id": "12005067",
   "metadata": {},
   "source": [
    "> Objective: Learn to read matplotlib code."
   ]
  },
  {
   "cell_type": "markdown",
   "id": "ed68fbbc",
   "metadata": {},
   "source": [
    "### Basic plotting: `plot`, `scatter`, `hist`"
   ]
  },
  {
   "cell_type": "markdown",
   "id": "123d14b8",
   "metadata": {},
   "source": [
    "These are bread and butter in `plt`, useful to make quick and dirty visualization of your data. These figures are usually not good enough to show others, but good enough to see some trend! \n",
    "\n",
    "**Note**: for better and prettier default plotting, check out `seaborn`, which is built on `plt`."
   ]
  },
  {
   "cell_type": "code",
   "execution_count": 110,
   "id": "53778941",
   "metadata": {},
   "outputs": [
    {
     "data": {
      "text/plain": [
       "[<matplotlib.lines.Line2D at 0x11fd638dee0>]"
      ]
     },
     "execution_count": 110,
     "metadata": {},
     "output_type": "execute_result"
    },
    {
     "data": {
      "image/png": "[encoded data removed]",
      "text/plain": [
       "<Figure size 432x288 with 1 Axes>"
      ]
     },
     "metadata": {
      "needs_background": "light"
     },
     "output_type": "display_data"
    }
   ],
   "source": [
    "plt.plot(range(10))"
   ]
  },
  {
   "cell_type": "code",
   "execution_count": 111,
   "id": "6d5c13fb",
   "metadata": {},
   "outputs": [
    {
     "data": {
      "text/plain": [
       "[<matplotlib.lines.Line2D at 0x11fd63f0400>]"
      ]
     },
     "execution_count": 111,
     "metadata": {},
     "output_type": "execute_result"
    },
    {
     "data": {
      "image/png": "[encoded data removed]",
      "text/plain": [
       "<Figure size 432x288 with 1 Axes>"
      ]
     },
     "metadata": {
      "needs_background": "light"
     },
     "output_type": "display_data"
    }
   ],
   "source": [
    "plt.plot(range(10),np.random.randn(10))"
   ]
  },
  {
   "cell_type": "code",
   "execution_count": 112,
   "id": "e2fa3ced",
   "metadata": {},
   "outputs": [
    {
     "data": {
      "text/plain": [
       "[<matplotlib.lines.Line2D at 0x11fd644d580>]"
      ]
     },
     "execution_count": 112,
     "metadata": {},
     "output_type": "execute_result"
    },
    {
     "data": {
      "image/png": "[encoded data removed]",
      "text/plain": [
       "<Figure size 432x288 with 1 Axes>"
      ]
     },
     "metadata": {
      "needs_background": "light"
     },
     "output_type": "display_data"
    }
   ],
   "source": [
    "normal_random = np.random.randn(1000)\n",
    "plt.plot(range(1000),normal_random,alpha=0.6)\n",
    "# Note unlike matlab, the default behavior of plt is to add plot on top of each other\n",
    "plt.plot(range(1000),sorted(normal_random),alpha=0.6) "
   ]
  },
  {
   "cell_type": "code",
   "execution_count": 113,
   "id": "b6d571b7",
   "metadata": {},
   "outputs": [
    {
     "data": {
      "text/plain": [
       "(-0.04722650856228535,\n",
       " 4.5794103990048365,\n",
       " -2.318479540143302,\n",
       " 2.3081573674238194)"
      ]
     },
     "execution_count": 113,
     "metadata": {},
     "output_type": "execute_result"
    },
    {
     "data": {
      "image/png": "[encoded data removed]",
      "text/plain": [
       "<Figure size 432x288 with 1 Axes>"
      ]
     },
     "metadata": {
      "needs_background": "light"
     },
     "output_type": "display_data"
    }
   ],
   "source": [
    "plt.scatter(np.random.rand(100),np.random.randn(100))\n",
    "plt.axis(\"square\") # set aspect ratio. similar to matlab"
   ]
  },
  {
   "cell_type": "code",
   "execution_count": 114,
   "id": "e6ffac34",
   "metadata": {},
   "outputs": [
    {
     "data": {
      "text/plain": [
       "(array([ 92.,  96.,  93., 102.,  93., 119., 117.,  83., 106.,  99.]),\n",
       " array([6.60850566e-04, 1.00590179e-01, 2.00519508e-01, 3.00448837e-01,\n",
       "        4.00378166e-01, 5.00307495e-01, 6.00236824e-01, 7.00166153e-01,\n",
       "        8.00095481e-01, 9.00024810e-01, 9.99954139e-01]),\n",
       " <BarContainer object of 10 artists>)"
      ]
     },
     "execution_count": 114,
     "metadata": {},
     "output_type": "execute_result"
    },
    {
     "data": {
      "image/png": "[encoded data removed]",
      "text/plain": [
       "<Figure size 432x288 with 1 Axes>"
      ]
     },
     "metadata": {
      "needs_background": "light"
     },
     "output_type": "display_data"
    }
   ],
   "source": [
    "plt.hist(np.random.rand(1000))"
   ]
  },
  {
   "cell_type": "code",
   "execution_count": 115,
   "id": "e2436d4b",
   "metadata": {},
   "outputs": [
    {
     "data": {
      "text/plain": [
       "(array([[  0.,   2.,  20., 121., 264., 318., 207.,  53.,   7.,   2.],\n",
       "        [  1.,   2.,  22., 119., 292., 330., 192.,  62.,   6.,   0.],\n",
       "        [  0.,   2.,  23., 119., 271., 311., 214.,  65.,   8.,   0.],\n",
       "        [  1.,   3.,  33., 128., 275., 319., 202.,  62.,   9.,   1.],\n",
       "        [  0.,   1.,  15., 123., 281., 321., 198.,  66.,   5.,   2.],\n",
       "        [  1.,   1.,  12., 124., 264., 343., 197.,  67.,   9.,   4.],\n",
       "        [  0.,   7.,  22., 105., 269., 326., 198.,  50.,  10.,   1.],\n",
       "        [  1.,   1.,  30., 126., 250., 299., 197.,  50.,  12.,   1.],\n",
       "        [  0.,   5.,  32.,  94., 284., 338., 187.,  47.,  11.,   2.],\n",
       "        [  0.,   3.,  24., 110., 237., 317., 185.,  59.,  10.,   0.]]),\n",
       " array([2.59897980e-05, 1.00021160e-01, 2.00016329e-01, 3.00011499e-01,\n",
       "        4.00006669e-01, 5.00001839e-01, 5.99997008e-01, 6.99992178e-01,\n",
       "        7.99987348e-01, 8.99982518e-01, 9.99977688e-01]),\n",
       " array([-4.45919208, -3.60894177, -2.75869145, -1.90844114, -1.05819083,\n",
       "        -0.20794051,  0.6423098 ,  1.49256012,  2.34281043,  3.19306074,\n",
       "         4.04331106]),\n",
       " <matplotlib.collections.QuadMesh at 0x11fd656fe50>)"
      ]
     },
     "execution_count": 115,
     "metadata": {},
     "output_type": "execute_result"
    },
    {
     "data": {
      "image/png": "[encoded data removed]",
      "text/plain": [
       "<Figure size 432x288 with 1 Axes>"
      ]
     },
     "metadata": {
      "needs_background": "light"
     },
     "output_type": "display_data"
    }
   ],
   "source": [
    "plt.hist2d(np.random.rand(10000),np.random.randn(10000))"
   ]
  },
  {
   "cell_type": "markdown",
   "id": "b5a3a0ed",
   "metadata": {},
   "source": [
    "### Dissection of a full plotting function "
   ]
  },
  {
   "cell_type": "markdown",
   "id": "2a54cc85",
   "metadata": {},
   "source": [
    "To make a *real* plot or figure, we need more than simple plot function. You need \n",
    "* **Figure / Canvas**, how the plots are organized / layouted, in grid, or sth else. \n",
    "* **Axis**, where to put the plots. \n",
    "* **Annotations** of plots in each axis. "
   ]
  },
  {
   "cell_type": "markdown",
   "id": "7eecefb8",
   "metadata": {},
   "source": [
    "To see an introduction to different level of figure objects types, https://matplotlib.org/stable/tutorials/introductory/usage.html"
   ]
  },
  {
   "cell_type": "code",
   "execution_count": 117,
   "id": "37aaeafa",
   "metadata": {},
   "outputs": [
    {
     "data": {
      "image/png": "[encoded data removed]",
      "text/plain": [
       "<Figure size 432x288 with 1 Axes>"
      ]
     },
     "metadata": {
      "needs_background": "light"
     },
     "output_type": "display_data"
    }
   ],
   "source": [
    "# adapted from Ella's Colab notebook\n",
    "fig, ax = plt.subplots(1, 1) # create figure and axes in a 1 by 1 grid. \n",
    "# fig = plt.figure()\n",
    "ax.plot(np.arange(-10,0,0.1), np.exp(np.random.randn(100)), # plot some pseudo data\n",
    "        'k', lw = 2) # Additional arguments to styling the plot\n",
    "\n",
    "ax.set(title = 'STA', \n",
    "      xlabel = 'Time before spike (ms)',\n",
    "      ylabel = 'Stimulus intensity'); # annotations\n"
   ]
  },
  {
   "cell_type": "markdown",
   "id": "a9a4e063",
   "metadata": {},
   "source": [
    "Here is an unexhaustive list of parts you can control"
   ]
  },
  {
   "cell_type": "markdown",
   "id": "77f0c61e",
   "metadata": {},
   "source": [
    "<img src=\"https://matplotlib.org/stable/_images/anatomy.png\" width=650>"
   ]
  },
  {
   "cell_type": "markdown",
   "id": "e0f53764",
   "metadata": {},
   "source": [
    "### Learning from Examples in Gallery"
   ]
  },
  {
   "cell_type": "markdown",
   "id": "41c9800c",
   "metadata": {},
   "source": [
    "`plt` is a complex package, developping your own ploting function can be time consuming. So starting from simple and someone's existing code is good idea!"
   ]
  },
  {
   "cell_type": "markdown",
   "id": "ccb0ab63",
   "metadata": {},
   "source": [
    "* Some style useful to draw confusion matrix and some parameter sweep result!\n",
    "https://matplotlib.org/stable/gallery/images_contours_and_fields/image_annotated_heatmap.html\n",
    "* Power spectral representation\n",
    "https://matplotlib.org/stable/gallery/lines_bars_and_markers/spectrum_demo.html\n",
    "* Visualize vector field https://matplotlib.org/stable/gallery/images_contours_and_fields/plot_streamplot.html"
   ]
  },
  {
   "cell_type": "code",
   "execution_count": null,
   "id": "3f1623fe",
   "metadata": {},
   "outputs": [],
   "source": []
  }
 ],
 "metadata": {
  "celltoolbar": "原始单元格格式",
  "kernelspec": {
   "display_name": "Python 3",
   "language": "python",
   "name": "python3"
  },
  "language_info": {
   "codemirror_mode": {
    "name": "ipython",
    "version": 3
   },
   "file_extension": ".py",
   "mimetype": "text/x-python",
   "name": "python",
   "nbconvert_exporter": "python",
   "pygments_lexer": "ipython3",
   "version": "3.8.8"
  },
  "toc": {
   "base_numbering": 1,
   "nav_menu": {},
   "number_sections": true,
   "sideBar": true,
   "skip_h1_title": false,
   "title_cell": "Table of Contents",
   "title_sidebar": "Contents",
   "toc_cell": false,
   "toc_position": {
    "height": "calc(100% - 180px)",
    "left": "10px",
    "top": "150px",
    "width": "231.8px"
   },
   "toc_section_display": true,
   "toc_window_display": true
  }
 },
 "nbformat": 4,
 "nbformat_minor": 5
}
